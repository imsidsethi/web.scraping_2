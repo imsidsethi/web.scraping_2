{
 "cells": [
  {
   "cell_type": "code",
   "execution_count": 1,
   "metadata": {},
   "outputs": [],
   "source": [
    "import pandas as pd\n",
    "from bs4 import BeautifulSoup\n",
    "import requests\n",
    "import selenium\n",
    "from selenium import webdriver\n",
    "import time\n",
    "from selenium.webdriver.support.ui import WebDriverWait\n",
    "from selenium.webdriver.support import expected_conditions as EC\n",
    "from selenium.webdriver.common.by import By"
   ]
  },
  {
   "cell_type": "code",
   "execution_count": 2,
   "metadata": {},
   "outputs": [],
   "source": [
    "driver=webdriver.Chrome(r\"C:\\Users\\sidse\\Downloads\\chromedriver_win32\\chromedriver.exe\")"
   ]
  },
  {
   "cell_type": "markdown",
   "metadata": {},
   "source": [
    "# Q1: Write a python program to scrape data for “Data Analyst” Job position in “Bangalore” location. You have to scrape the job-title, job-location, company_name, experience_required. You have to scrape first 10 jobs data."
   ]
  },
  {
   "cell_type": "code",
   "execution_count": 3,
   "metadata": {},
   "outputs": [],
   "source": [
    "driver.get('https://www.naukri.com/')"
   ]
  },
  {
   "cell_type": "code",
   "execution_count": 4,
   "metadata": {},
   "outputs": [],
   "source": [
    "search_job=driver.find_element_by_id('qsb-keyword-sugg')\n",
    "search_job.send_keys('Data Analyst')"
   ]
  },
  {
   "cell_type": "code",
   "execution_count": 5,
   "metadata": {},
   "outputs": [],
   "source": [
    "search_location=driver.find_element_by_xpath(\"//input[@id='qsb-location-sugg']\")\n",
    "search_location.send_keys('Bangalore')"
   ]
  },
  {
   "cell_type": "code",
   "execution_count": 6,
   "metadata": {},
   "outputs": [],
   "source": [
    "search_button=driver.find_element_by_xpath(\"//div[@class='search-btn']\")\n",
    "search_button.click()"
   ]
  },
  {
   "cell_type": "code",
   "execution_count": 7,
   "metadata": {},
   "outputs": [],
   "source": [
    "job_titles=[]\n",
    "location=[]\n",
    "name=[]\n",
    "experience=[]"
   ]
  },
  {
   "cell_type": "code",
   "execution_count": 8,
   "metadata": {},
   "outputs": [],
   "source": [
    "title=driver.find_elements_by_xpath(\"//a[@class='title fw500 ellipsis']\")"
   ]
  },
  {
   "cell_type": "code",
   "execution_count": 9,
   "metadata": {},
   "outputs": [
    {
     "data": {
      "text/plain": [
       "[<selenium.webdriver.remote.webelement.WebElement (session=\"4f8951b689aa008665d315213e87416b\", element=\"d3a68c44-48f3-40f6-8f51-290311bd6271\")>,\n",
       " <selenium.webdriver.remote.webelement.WebElement (session=\"4f8951b689aa008665d315213e87416b\", element=\"c10984ac-f471-47f6-979b-b7b4867a7756\")>,\n",
       " <selenium.webdriver.remote.webelement.WebElement (session=\"4f8951b689aa008665d315213e87416b\", element=\"ae180b50-5b40-442a-a49a-ae72ff907b36\")>,\n",
       " <selenium.webdriver.remote.webelement.WebElement (session=\"4f8951b689aa008665d315213e87416b\", element=\"3e486964-1f56-469d-a01d-31bf954ff446\")>,\n",
       " <selenium.webdriver.remote.webelement.WebElement (session=\"4f8951b689aa008665d315213e87416b\", element=\"cb747415-08a0-4b47-8f9a-757df019148b\")>,\n",
       " <selenium.webdriver.remote.webelement.WebElement (session=\"4f8951b689aa008665d315213e87416b\", element=\"ec6438b4-8110-4164-b275-cda3bd74a0e5\")>,\n",
       " <selenium.webdriver.remote.webelement.WebElement (session=\"4f8951b689aa008665d315213e87416b\", element=\"5a4cada6-d3f8-4488-baba-0f0a0374c9b1\")>,\n",
       " <selenium.webdriver.remote.webelement.WebElement (session=\"4f8951b689aa008665d315213e87416b\", element=\"26c62814-f2e3-4cfa-93f5-77f97aeb9b9b\")>,\n",
       " <selenium.webdriver.remote.webelement.WebElement (session=\"4f8951b689aa008665d315213e87416b\", element=\"891ac828-77cd-4d34-b510-eac535dab484\")>,\n",
       " <selenium.webdriver.remote.webelement.WebElement (session=\"4f8951b689aa008665d315213e87416b\", element=\"03391d8a-d187-4517-9059-eeddd53a316d\")>,\n",
       " <selenium.webdriver.remote.webelement.WebElement (session=\"4f8951b689aa008665d315213e87416b\", element=\"fbc1140f-d05f-4eac-8351-5c0ba40bc24a\")>,\n",
       " <selenium.webdriver.remote.webelement.WebElement (session=\"4f8951b689aa008665d315213e87416b\", element=\"a37e397f-63a2-46ac-9178-3d1a47b2b7e0\")>,\n",
       " <selenium.webdriver.remote.webelement.WebElement (session=\"4f8951b689aa008665d315213e87416b\", element=\"0ee5f74f-b65c-4bb2-ac7c-57e9123af27c\")>,\n",
       " <selenium.webdriver.remote.webelement.WebElement (session=\"4f8951b689aa008665d315213e87416b\", element=\"60fc69ac-21c0-437d-9761-cfa8d95cfd2c\")>,\n",
       " <selenium.webdriver.remote.webelement.WebElement (session=\"4f8951b689aa008665d315213e87416b\", element=\"16284c18-f7be-40b3-abe3-e4fed677d5ef\")>,\n",
       " <selenium.webdriver.remote.webelement.WebElement (session=\"4f8951b689aa008665d315213e87416b\", element=\"5632c9e7-5591-4e17-889a-1ba2649df12d\")>,\n",
       " <selenium.webdriver.remote.webelement.WebElement (session=\"4f8951b689aa008665d315213e87416b\", element=\"d3ee8b58-efed-4f77-b937-38b10af29e74\")>,\n",
       " <selenium.webdriver.remote.webelement.WebElement (session=\"4f8951b689aa008665d315213e87416b\", element=\"00800fd4-48a5-44d3-8bbf-a8dbb96b7b7d\")>,\n",
       " <selenium.webdriver.remote.webelement.WebElement (session=\"4f8951b689aa008665d315213e87416b\", element=\"ce3a61cb-2ee8-4aac-a53e-a438cff325de\")>,\n",
       " <selenium.webdriver.remote.webelement.WebElement (session=\"4f8951b689aa008665d315213e87416b\", element=\"184eef20-fb66-40fd-9e34-2b212447dca5\")>]"
      ]
     },
     "execution_count": 9,
     "metadata": {},
     "output_type": "execute_result"
    }
   ],
   "source": [
    "title"
   ]
  },
  {
   "cell_type": "code",
   "execution_count": 10,
   "metadata": {},
   "outputs": [
    {
     "data": {
      "text/plain": [
       "['Fresher Data Engineer / Data Scientist / Data Analyst Requirements',\n",
       " 'Data Scientist/Data Analyst',\n",
       " 'Business Data Analyst',\n",
       " 'SAS AML Data Analyst / Trainee & Data Science, Python Trainee',\n",
       " 'Hiring Data Analysts',\n",
       " 'Hiring Data Analysts',\n",
       " 'Data Analyst',\n",
       " 'Study Data Analyst',\n",
       " 'Data Analyst',\n",
       " 'Business Data Analyst | Reinsurance Domain']"
      ]
     },
     "execution_count": 10,
     "metadata": {},
     "output_type": "execute_result"
    }
   ],
   "source": [
    "for i in title:\n",
    "    t=i.text\n",
    "    job_titles.append(t)\n",
    "job_titles[:10]"
   ]
  },
  {
   "cell_type": "code",
   "execution_count": 11,
   "metadata": {},
   "outputs": [],
   "source": [
    "n=driver.find_elements_by_xpath(\"//a[@class='subTitle ellipsis fleft']\")"
   ]
  },
  {
   "cell_type": "code",
   "execution_count": 12,
   "metadata": {},
   "outputs": [
    {
     "data": {
      "text/plain": [
       "[<selenium.webdriver.remote.webelement.WebElement (session=\"4f8951b689aa008665d315213e87416b\", element=\"8bb715b1-89b4-4aff-8a8b-54a2a00d0cff\")>,\n",
       " <selenium.webdriver.remote.webelement.WebElement (session=\"4f8951b689aa008665d315213e87416b\", element=\"7a175a3b-d3cc-4010-b5eb-666c0261041d\")>,\n",
       " <selenium.webdriver.remote.webelement.WebElement (session=\"4f8951b689aa008665d315213e87416b\", element=\"7787aefc-f660-4105-9f2b-3f5c9dd1b050\")>,\n",
       " <selenium.webdriver.remote.webelement.WebElement (session=\"4f8951b689aa008665d315213e87416b\", element=\"8af52a91-3a86-44c7-8107-79ae2aeb69b8\")>,\n",
       " <selenium.webdriver.remote.webelement.WebElement (session=\"4f8951b689aa008665d315213e87416b\", element=\"6eeb8fd1-905e-4ddb-b93e-7814ee861879\")>,\n",
       " <selenium.webdriver.remote.webelement.WebElement (session=\"4f8951b689aa008665d315213e87416b\", element=\"705100c0-fc97-4e28-9cb2-4b60505d75a0\")>,\n",
       " <selenium.webdriver.remote.webelement.WebElement (session=\"4f8951b689aa008665d315213e87416b\", element=\"fa5fb1ce-959a-497d-a099-c11965cd0644\")>,\n",
       " <selenium.webdriver.remote.webelement.WebElement (session=\"4f8951b689aa008665d315213e87416b\", element=\"9a92945b-d4f0-4485-a091-cf823d0dabc5\")>,\n",
       " <selenium.webdriver.remote.webelement.WebElement (session=\"4f8951b689aa008665d315213e87416b\", element=\"814860d0-5186-464e-8f08-4b6765ae40d4\")>,\n",
       " <selenium.webdriver.remote.webelement.WebElement (session=\"4f8951b689aa008665d315213e87416b\", element=\"a5fda45f-8015-4171-84b5-a5c7ca5883bd\")>,\n",
       " <selenium.webdriver.remote.webelement.WebElement (session=\"4f8951b689aa008665d315213e87416b\", element=\"855346d3-72c9-47d0-9333-87893d1fc8e0\")>,\n",
       " <selenium.webdriver.remote.webelement.WebElement (session=\"4f8951b689aa008665d315213e87416b\", element=\"9671ff23-07e9-4290-8a58-4450610813dd\")>,\n",
       " <selenium.webdriver.remote.webelement.WebElement (session=\"4f8951b689aa008665d315213e87416b\", element=\"f9bc3154-fa46-4221-be11-39f8999e18e2\")>,\n",
       " <selenium.webdriver.remote.webelement.WebElement (session=\"4f8951b689aa008665d315213e87416b\", element=\"521449e7-f595-4b34-a5a3-bfdfe81f70b1\")>,\n",
       " <selenium.webdriver.remote.webelement.WebElement (session=\"4f8951b689aa008665d315213e87416b\", element=\"bc6f39e3-8681-4259-ab03-71bca803e977\")>,\n",
       " <selenium.webdriver.remote.webelement.WebElement (session=\"4f8951b689aa008665d315213e87416b\", element=\"be432399-0633-4e63-8d97-8e0f3a7797d3\")>,\n",
       " <selenium.webdriver.remote.webelement.WebElement (session=\"4f8951b689aa008665d315213e87416b\", element=\"3189b27f-0a34-49e5-8750-a14f26b45c3a\")>,\n",
       " <selenium.webdriver.remote.webelement.WebElement (session=\"4f8951b689aa008665d315213e87416b\", element=\"dac62f17-f4bb-4053-a9ce-284ec3f28325\")>,\n",
       " <selenium.webdriver.remote.webelement.WebElement (session=\"4f8951b689aa008665d315213e87416b\", element=\"50fc94f1-ec10-47e6-9c02-7961de777f04\")>,\n",
       " <selenium.webdriver.remote.webelement.WebElement (session=\"4f8951b689aa008665d315213e87416b\", element=\"addb8a23-0df8-4741-88a8-09562f680c73\")>]"
      ]
     },
     "execution_count": 12,
     "metadata": {},
     "output_type": "execute_result"
    }
   ],
   "source": [
    "n"
   ]
  },
  {
   "cell_type": "code",
   "execution_count": 13,
   "metadata": {},
   "outputs": [
    {
     "data": {
      "text/plain": [
       "['ACHYUTAS SOFT PRIVATE LIMITED',\n",
       " 'CAIA-Center For Artificial Intelligence & Advanced Analytics',\n",
       " 'NetApp',\n",
       " 'MagicBase Royal BD Pvt Ltd',\n",
       " 'Flipkart Internet Private Limited',\n",
       " 'Flipkart Internet Private Limited',\n",
       " 'GlaxoSmithKline Pharmaceuticals Limited',\n",
       " 'GlaxoSmithKline Pharmaceuticals Limited',\n",
       " 'Cognizant Technology Solutions India Ltd',\n",
       " 'Mphasis Limited']"
      ]
     },
     "execution_count": 13,
     "metadata": {},
     "output_type": "execute_result"
    }
   ],
   "source": [
    "for i in n:\n",
    "    c=i.text\n",
    "    name.append(c)\n",
    "name[:10]"
   ]
  },
  {
   "cell_type": "code",
   "execution_count": 14,
   "metadata": {},
   "outputs": [],
   "source": [
    "e=driver.find_elements_by_xpath(\"//li[@class='fleft grey-text br2 placeHolderLi experience']//span\")"
   ]
  },
  {
   "cell_type": "code",
   "execution_count": 15,
   "metadata": {},
   "outputs": [
    {
     "data": {
      "text/plain": [
       "[<selenium.webdriver.remote.webelement.WebElement (session=\"4f8951b689aa008665d315213e87416b\", element=\"be763ae9-3060-49bb-8758-e2420d8a724d\")>,\n",
       " <selenium.webdriver.remote.webelement.WebElement (session=\"4f8951b689aa008665d315213e87416b\", element=\"d158fc37-a740-4d1d-ac7c-ee269cbcf963\")>,\n",
       " <selenium.webdriver.remote.webelement.WebElement (session=\"4f8951b689aa008665d315213e87416b\", element=\"10014e2f-d0be-4991-b47d-a461b2a0a455\")>,\n",
       " <selenium.webdriver.remote.webelement.WebElement (session=\"4f8951b689aa008665d315213e87416b\", element=\"74b45929-762e-4857-9b7e-51df64391666\")>,\n",
       " <selenium.webdriver.remote.webelement.WebElement (session=\"4f8951b689aa008665d315213e87416b\", element=\"94911df6-7f38-4e38-94b6-2292f8ea2250\")>,\n",
       " <selenium.webdriver.remote.webelement.WebElement (session=\"4f8951b689aa008665d315213e87416b\", element=\"9451301e-d767-4f22-ae70-023920c3c659\")>,\n",
       " <selenium.webdriver.remote.webelement.WebElement (session=\"4f8951b689aa008665d315213e87416b\", element=\"e1f62c86-9f0d-41a6-b992-b340f777d12d\")>,\n",
       " <selenium.webdriver.remote.webelement.WebElement (session=\"4f8951b689aa008665d315213e87416b\", element=\"d0542152-27be-4344-aa72-3a66a3910421\")>,\n",
       " <selenium.webdriver.remote.webelement.WebElement (session=\"4f8951b689aa008665d315213e87416b\", element=\"42ecaf5f-6678-4854-90ad-dff594e56597\")>,\n",
       " <selenium.webdriver.remote.webelement.WebElement (session=\"4f8951b689aa008665d315213e87416b\", element=\"7a08e378-1413-45ef-84c5-52c4f96f872b\")>,\n",
       " <selenium.webdriver.remote.webelement.WebElement (session=\"4f8951b689aa008665d315213e87416b\", element=\"90271202-78b9-4a3a-af1c-939416ddb26b\")>,\n",
       " <selenium.webdriver.remote.webelement.WebElement (session=\"4f8951b689aa008665d315213e87416b\", element=\"2febfc88-6dfa-4644-9b3f-82b546635bd6\")>,\n",
       " <selenium.webdriver.remote.webelement.WebElement (session=\"4f8951b689aa008665d315213e87416b\", element=\"8248a20f-6e6c-4f26-b5e4-832acd7672e1\")>,\n",
       " <selenium.webdriver.remote.webelement.WebElement (session=\"4f8951b689aa008665d315213e87416b\", element=\"fae76550-f5f2-4bb9-834b-03f1ac68cf76\")>,\n",
       " <selenium.webdriver.remote.webelement.WebElement (session=\"4f8951b689aa008665d315213e87416b\", element=\"731e7f50-801a-4624-8d43-a199f1824fc0\")>,\n",
       " <selenium.webdriver.remote.webelement.WebElement (session=\"4f8951b689aa008665d315213e87416b\", element=\"611fc7c6-7149-4d3f-992f-14cde342b53f\")>,\n",
       " <selenium.webdriver.remote.webelement.WebElement (session=\"4f8951b689aa008665d315213e87416b\", element=\"e81c97fe-fd97-48e5-a503-80244791a072\")>,\n",
       " <selenium.webdriver.remote.webelement.WebElement (session=\"4f8951b689aa008665d315213e87416b\", element=\"71004c1b-9283-4a2c-ad97-c03b4f940733\")>,\n",
       " <selenium.webdriver.remote.webelement.WebElement (session=\"4f8951b689aa008665d315213e87416b\", element=\"98e639d3-4b13-4fff-ba91-568af5228d22\")>,\n",
       " <selenium.webdriver.remote.webelement.WebElement (session=\"4f8951b689aa008665d315213e87416b\", element=\"94d3108f-dacc-4422-b4f9-b501c894f9da\")>]"
      ]
     },
     "execution_count": 15,
     "metadata": {},
     "output_type": "execute_result"
    }
   ],
   "source": [
    "e"
   ]
  },
  {
   "cell_type": "code",
   "execution_count": 16,
   "metadata": {},
   "outputs": [
    {
     "data": {
      "text/plain": [
       "['0-2 Yrs',\n",
       " '0-3 Yrs',\n",
       " '2-3 Yrs',\n",
       " '0-5 Yrs',\n",
       " '2-5 Yrs',\n",
       " '2-5 Yrs',\n",
       " '3-5 Yrs',\n",
       " '4-8 Yrs',\n",
       " '3-4 Yrs',\n",
       " '10-15 Yrs']"
      ]
     },
     "execution_count": 16,
     "metadata": {},
     "output_type": "execute_result"
    }
   ],
   "source": [
    "for i in e:\n",
    "    ex=i.text\n",
    "    experience.append(ex)\n",
    "experience[:10]"
   ]
  },
  {
   "cell_type": "code",
   "execution_count": 17,
   "metadata": {},
   "outputs": [],
   "source": [
    "loc=driver.find_elements_by_xpath(\"//li[@class='fleft grey-text br2 placeHolderLi location']//span\")"
   ]
  },
  {
   "cell_type": "code",
   "execution_count": 18,
   "metadata": {},
   "outputs": [
    {
     "data": {
      "text/plain": [
       "[<selenium.webdriver.remote.webelement.WebElement (session=\"4f8951b689aa008665d315213e87416b\", element=\"1ffa0ec3-9d3e-4b57-87e9-07a0b94d5c2f\")>,\n",
       " <selenium.webdriver.remote.webelement.WebElement (session=\"4f8951b689aa008665d315213e87416b\", element=\"a67fde76-f89f-4b32-ad3d-c720ae1ac030\")>,\n",
       " <selenium.webdriver.remote.webelement.WebElement (session=\"4f8951b689aa008665d315213e87416b\", element=\"c119cf9d-bdda-4f76-b5a2-ea246e5bb587\")>,\n",
       " <selenium.webdriver.remote.webelement.WebElement (session=\"4f8951b689aa008665d315213e87416b\", element=\"aeff6989-2d04-4daa-abd4-fee417c9e15e\")>,\n",
       " <selenium.webdriver.remote.webelement.WebElement (session=\"4f8951b689aa008665d315213e87416b\", element=\"899a377f-b8c8-4e25-9ce0-fe98b5c87476\")>,\n",
       " <selenium.webdriver.remote.webelement.WebElement (session=\"4f8951b689aa008665d315213e87416b\", element=\"44fd59c5-33a6-4586-b0f7-6fc10c92df03\")>,\n",
       " <selenium.webdriver.remote.webelement.WebElement (session=\"4f8951b689aa008665d315213e87416b\", element=\"e93045d4-5867-49e8-8b25-ac4f20b9631a\")>,\n",
       " <selenium.webdriver.remote.webelement.WebElement (session=\"4f8951b689aa008665d315213e87416b\", element=\"38a1af58-9c19-4bb3-a8f5-9a9210b7b4b8\")>,\n",
       " <selenium.webdriver.remote.webelement.WebElement (session=\"4f8951b689aa008665d315213e87416b\", element=\"2b03cd43-9ec5-4778-8a82-5fdbd53d695b\")>,\n",
       " <selenium.webdriver.remote.webelement.WebElement (session=\"4f8951b689aa008665d315213e87416b\", element=\"38415a8a-1efb-4586-b3c1-a9c2352cfbe4\")>,\n",
       " <selenium.webdriver.remote.webelement.WebElement (session=\"4f8951b689aa008665d315213e87416b\", element=\"31c1f65c-cd15-44bf-adfd-cc336b836ac2\")>,\n",
       " <selenium.webdriver.remote.webelement.WebElement (session=\"4f8951b689aa008665d315213e87416b\", element=\"bebccb53-b422-425f-af7e-12e45d2949d6\")>,\n",
       " <selenium.webdriver.remote.webelement.WebElement (session=\"4f8951b689aa008665d315213e87416b\", element=\"3a96e325-e0a6-4e3c-b9ec-92b48b60ac67\")>,\n",
       " <selenium.webdriver.remote.webelement.WebElement (session=\"4f8951b689aa008665d315213e87416b\", element=\"46ed7e59-c572-4631-9c36-25f1cc36f3f8\")>,\n",
       " <selenium.webdriver.remote.webelement.WebElement (session=\"4f8951b689aa008665d315213e87416b\", element=\"eadb02ae-323f-425c-89e5-986d2c968eac\")>,\n",
       " <selenium.webdriver.remote.webelement.WebElement (session=\"4f8951b689aa008665d315213e87416b\", element=\"671df768-41bf-4742-8ff5-8d8de73814ef\")>,\n",
       " <selenium.webdriver.remote.webelement.WebElement (session=\"4f8951b689aa008665d315213e87416b\", element=\"bed7eb74-bcf1-4a3e-b0b0-496ca61490ec\")>,\n",
       " <selenium.webdriver.remote.webelement.WebElement (session=\"4f8951b689aa008665d315213e87416b\", element=\"ac1e7ba4-5e72-4d41-86a4-57d79238907e\")>,\n",
       " <selenium.webdriver.remote.webelement.WebElement (session=\"4f8951b689aa008665d315213e87416b\", element=\"27002414-019f-4de2-9441-581fb8107996\")>,\n",
       " <selenium.webdriver.remote.webelement.WebElement (session=\"4f8951b689aa008665d315213e87416b\", element=\"245eb492-87a6-4b67-ac16-4fab193ee158\")>]"
      ]
     },
     "execution_count": 18,
     "metadata": {},
     "output_type": "execute_result"
    }
   ],
   "source": [
    "loc"
   ]
  },
  {
   "cell_type": "code",
   "execution_count": 19,
   "metadata": {},
   "outputs": [
    {
     "data": {
      "text/plain": [
       "['Delhi NCR, Bengaluru, Hyderabad',\n",
       " 'Chennai, Pune, Bengaluru, Hyderabad',\n",
       " 'Bengaluru',\n",
       " 'Bengaluru(Whitefield)',\n",
       " 'Bengaluru',\n",
       " 'Bengaluru',\n",
       " 'Bengaluru, India',\n",
       " 'Bengaluru',\n",
       " 'Bengaluru',\n",
       " 'Bengaluru']"
      ]
     },
     "execution_count": 19,
     "metadata": {},
     "output_type": "execute_result"
    }
   ],
   "source": [
    "for i in loc:\n",
    "    l=i.text\n",
    "    location.append(l)\n",
    "location[:10]"
   ]
  },
  {
   "cell_type": "code",
   "execution_count": 20,
   "metadata": {},
   "outputs": [],
   "source": [
    "import pandas as pd\n",
    "jobs=pd.DataFrame({})\n",
    "jobs['titles']=job_titles[:10]\n",
    "jobs['comp']=name[:10]\n",
    "jobs['loc']=location[:10]\n",
    "jobs['exp']=experience[:10]"
   ]
  },
  {
   "cell_type": "code",
   "execution_count": 21,
   "metadata": {},
   "outputs": [
    {
     "data": {
      "text/html": [
       "<div>\n",
       "<style scoped>\n",
       "    .dataframe tbody tr th:only-of-type {\n",
       "        vertical-align: middle;\n",
       "    }\n",
       "\n",
       "    .dataframe tbody tr th {\n",
       "        vertical-align: top;\n",
       "    }\n",
       "\n",
       "    .dataframe thead th {\n",
       "        text-align: right;\n",
       "    }\n",
       "</style>\n",
       "<table border=\"1\" class=\"dataframe\">\n",
       "  <thead>\n",
       "    <tr style=\"text-align: right;\">\n",
       "      <th></th>\n",
       "      <th>titles</th>\n",
       "      <th>comp</th>\n",
       "      <th>loc</th>\n",
       "      <th>exp</th>\n",
       "    </tr>\n",
       "  </thead>\n",
       "  <tbody>\n",
       "    <tr>\n",
       "      <th>0</th>\n",
       "      <td>Fresher Data Engineer / Data Scientist / Data ...</td>\n",
       "      <td>ACHYUTAS SOFT PRIVATE LIMITED</td>\n",
       "      <td>Delhi NCR, Bengaluru, Hyderabad</td>\n",
       "      <td>0-2 Yrs</td>\n",
       "    </tr>\n",
       "    <tr>\n",
       "      <th>1</th>\n",
       "      <td>Data Scientist/Data Analyst</td>\n",
       "      <td>CAIA-Center For Artificial Intelligence &amp; Adva...</td>\n",
       "      <td>Chennai, Pune, Bengaluru, Hyderabad</td>\n",
       "      <td>0-3 Yrs</td>\n",
       "    </tr>\n",
       "    <tr>\n",
       "      <th>2</th>\n",
       "      <td>Business Data Analyst</td>\n",
       "      <td>NetApp</td>\n",
       "      <td>Bengaluru</td>\n",
       "      <td>2-3 Yrs</td>\n",
       "    </tr>\n",
       "    <tr>\n",
       "      <th>3</th>\n",
       "      <td>SAS AML Data Analyst / Trainee &amp; Data Science,...</td>\n",
       "      <td>MagicBase Royal BD Pvt Ltd</td>\n",
       "      <td>Bengaluru(Whitefield)</td>\n",
       "      <td>0-5 Yrs</td>\n",
       "    </tr>\n",
       "    <tr>\n",
       "      <th>4</th>\n",
       "      <td>Hiring Data Analysts</td>\n",
       "      <td>Flipkart Internet Private Limited</td>\n",
       "      <td>Bengaluru</td>\n",
       "      <td>2-5 Yrs</td>\n",
       "    </tr>\n",
       "    <tr>\n",
       "      <th>5</th>\n",
       "      <td>Hiring Data Analysts</td>\n",
       "      <td>Flipkart Internet Private Limited</td>\n",
       "      <td>Bengaluru</td>\n",
       "      <td>2-5 Yrs</td>\n",
       "    </tr>\n",
       "    <tr>\n",
       "      <th>6</th>\n",
       "      <td>Data Analyst</td>\n",
       "      <td>GlaxoSmithKline Pharmaceuticals Limited</td>\n",
       "      <td>Bengaluru, India</td>\n",
       "      <td>3-5 Yrs</td>\n",
       "    </tr>\n",
       "    <tr>\n",
       "      <th>7</th>\n",
       "      <td>Study Data Analyst</td>\n",
       "      <td>GlaxoSmithKline Pharmaceuticals Limited</td>\n",
       "      <td>Bengaluru</td>\n",
       "      <td>4-8 Yrs</td>\n",
       "    </tr>\n",
       "    <tr>\n",
       "      <th>8</th>\n",
       "      <td>Data Analyst</td>\n",
       "      <td>Cognizant Technology Solutions India Ltd</td>\n",
       "      <td>Bengaluru</td>\n",
       "      <td>3-4 Yrs</td>\n",
       "    </tr>\n",
       "    <tr>\n",
       "      <th>9</th>\n",
       "      <td>Business Data Analyst | Reinsurance Domain</td>\n",
       "      <td>Mphasis Limited</td>\n",
       "      <td>Bengaluru</td>\n",
       "      <td>10-15 Yrs</td>\n",
       "    </tr>\n",
       "  </tbody>\n",
       "</table>\n",
       "</div>"
      ],
      "text/plain": [
       "                                              titles  \\\n",
       "0  Fresher Data Engineer / Data Scientist / Data ...   \n",
       "1                        Data Scientist/Data Analyst   \n",
       "2                              Business Data Analyst   \n",
       "3  SAS AML Data Analyst / Trainee & Data Science,...   \n",
       "4                               Hiring Data Analysts   \n",
       "5                               Hiring Data Analysts   \n",
       "6                                       Data Analyst   \n",
       "7                                 Study Data Analyst   \n",
       "8                                       Data Analyst   \n",
       "9         Business Data Analyst | Reinsurance Domain   \n",
       "\n",
       "                                                comp  \\\n",
       "0                      ACHYUTAS SOFT PRIVATE LIMITED   \n",
       "1  CAIA-Center For Artificial Intelligence & Adva...   \n",
       "2                                             NetApp   \n",
       "3                         MagicBase Royal BD Pvt Ltd   \n",
       "4                  Flipkart Internet Private Limited   \n",
       "5                  Flipkart Internet Private Limited   \n",
       "6            GlaxoSmithKline Pharmaceuticals Limited   \n",
       "7            GlaxoSmithKline Pharmaceuticals Limited   \n",
       "8           Cognizant Technology Solutions India Ltd   \n",
       "9                                    Mphasis Limited   \n",
       "\n",
       "                                   loc        exp  \n",
       "0      Delhi NCR, Bengaluru, Hyderabad    0-2 Yrs  \n",
       "1  Chennai, Pune, Bengaluru, Hyderabad    0-3 Yrs  \n",
       "2                            Bengaluru    2-3 Yrs  \n",
       "3                Bengaluru(Whitefield)    0-5 Yrs  \n",
       "4                            Bengaluru    2-5 Yrs  \n",
       "5                            Bengaluru    2-5 Yrs  \n",
       "6                     Bengaluru, India    3-5 Yrs  \n",
       "7                            Bengaluru    4-8 Yrs  \n",
       "8                            Bengaluru    3-4 Yrs  \n",
       "9                            Bengaluru  10-15 Yrs  "
      ]
     },
     "execution_count": 21,
     "metadata": {},
     "output_type": "execute_result"
    }
   ],
   "source": [
    "jobs"
   ]
  },
  {
   "cell_type": "markdown",
   "metadata": {},
   "source": [
    "# Q2: Write a python program to scrape data for “Data Scientist” Job position in “Bangalore” location. You have to scrape the job-title, job-location, company_name, full job-description. You have to scrape first 10 jobs data."
   ]
  },
  {
   "cell_type": "code",
   "execution_count": 23,
   "metadata": {},
   "outputs": [],
   "source": [
    "driver=webdriver.Chrome(r\"C:\\Users\\sidse\\Downloads\\chromedriver_win32\\chromedriver.exe\")"
   ]
  },
  {
   "cell_type": "code",
   "execution_count": 24,
   "metadata": {},
   "outputs": [],
   "source": [
    "driver.get('https://www.naukri.com/')"
   ]
  },
  {
   "cell_type": "code",
   "execution_count": 25,
   "metadata": {},
   "outputs": [],
   "source": [
    "titles=[]\n",
    "name=[]\n",
    "location=[]\n",
    "description=[]"
   ]
  },
  {
   "cell_type": "code",
   "execution_count": 26,
   "metadata": {},
   "outputs": [],
   "source": [
    "search_job=driver.find_element_by_id('qsb-keyword-sugg')\n",
    "search_job.send_keys('Data Scientist')"
   ]
  },
  {
   "cell_type": "code",
   "execution_count": 27,
   "metadata": {},
   "outputs": [],
   "source": [
    "search_location=driver.find_element_by_xpath(\"//input[@id='qsb-location-sugg']\")\n",
    "search_location.send_keys('Bangalore')"
   ]
  },
  {
   "cell_type": "code",
   "execution_count": 28,
   "metadata": {},
   "outputs": [],
   "source": [
    "search_button=driver.find_element_by_xpath(\"//div[@class='search-btn']\")\n",
    "search_button.click()"
   ]
  },
  {
   "cell_type": "code",
   "execution_count": 29,
   "metadata": {},
   "outputs": [],
   "source": [
    "soup= BeautifulSoup(driver.page_source, 'html.parser')"
   ]
  },
  {
   "cell_type": "code",
   "execution_count": 30,
   "metadata": {},
   "outputs": [],
   "source": [
    "prod_urls = soup.find_all('a', attrs ={'class':'title fw500 ellipsis'})"
   ]
  },
  {
   "cell_type": "code",
   "execution_count": 31,
   "metadata": {},
   "outputs": [
    {
     "data": {
      "text/plain": [
       "[<a class=\"title fw500 ellipsis\" href=\"https://www.naukri.com/job-listings-fresher-data-engineer-data-scientist-data-analyst-requirements-achyutas-soft-private-limited-delhi-ncr-bengaluru-bangalore-hyderabad-secunderabad-0-to-2-years-061220001192?src=jobsearchDesk&amp;sid=16081242424527054&amp;xp=1&amp;px=1\" target=\"_blank\" title=\"Fresher  Data Engineer / Data Scientist / Data Analyst Requirements\">Fresher  Data Engineer / Data Scientist / Data Analyst Requirements</a>,\n",
       " <a class=\"title fw500 ellipsis\" href=\"https://www.naukri.com/job-listings-data-scientist-data-analyst-caia-center-for-artificial-intelligence-advanced-analytics-chennai-pune-bengaluru-bangalore-hyderabad-secunderabad-0-to-3-years-210920000599?src=jobsearchDesk&amp;sid=16081242424527054&amp;xp=2&amp;px=1\" target=\"_blank\" title=\"Data Scientist/Data Analyst\">Data Scientist/Data Analyst</a>,\n",
       " <a class=\"title fw500 ellipsis\" href=\"https://www.naukri.com/job-listings-data-scientist-machine-learning-blue-yonder-india-private-limited-bengaluru-bangalore-2-to-7-years-081220906415?src=jobsearchDesk&amp;sid=16081242424527054&amp;xp=3&amp;px=1\" target=\"_blank\" title=\"Data Scientist - Machine Learning\">Data Scientist - Machine Learning</a>,\n",
       " <a class=\"title fw500 ellipsis\" href=\"https://www.naukri.com/job-listings-senior-data-scientist-nlp-python-r-avi-consulting-llp-bengaluru-bangalore-hyderabad-secunderabad-4-to-9-years-081220907155?src=jobsearchDesk&amp;sid=16081242424527054&amp;xp=4&amp;px=1\" target=\"_blank\" title=\"Senior Data Scientist - NLP/ Python/ R\">Senior Data Scientist - NLP/ Python/ R</a>,\n",
       " <a class=\"title fw500 ellipsis\" href=\"https://www.naukri.com/job-listings-senior-data-scientist-ces-it-ltd-cmmi-level-5-ces-ltd-chennai-pune-delhi-ncr-mumbai-bengaluru-bangalore-hyderabad-secunderabad-kolkata-2-to-7-years-151220606904?src=jobsearchDesk&amp;sid=16081242424527054&amp;xp=5&amp;px=1\" target=\"_blank\" title=\"Senior Data Scientist | CES IT LTD | CMMI Level 5\">Senior Data Scientist | CES IT LTD | CMMI Level 5</a>,\n",
       " <a class=\"title fw500 ellipsis\" href=\"https://www.naukri.com/job-listings-senior-data-scientist-ces-it-ltd-cmmi-level-5-ces-ltd-chennai-pune-delhi-ncr-mumbai-bengaluru-bangalore-hyderabad-secunderabad-kolkata-2-to-7-years-151220006902?src=jobsearchDesk&amp;sid=16081242424527054&amp;xp=6&amp;px=1\" target=\"_blank\" title=\"Senior Data Scientist | CES IT LTD | CMMI Level 5\">Senior Data Scientist | CES IT LTD | CMMI Level 5</a>,\n",
       " <a class=\"title fw500 ellipsis\" href=\"https://www.naukri.com/job-listings-data-scientist-machine-learning-data-mining-minions-ventures-bengaluru-bangalore-6-to-8-years-161220900875?src=jobsearchDesk&amp;sid=16081242424527054&amp;xp=7&amp;px=1\" target=\"_blank\" title=\"Data Scientist - Machine Learning/Data Mining\">Data Scientist - Machine Learning/Data Mining</a>,\n",
       " <a class=\"title fw500 ellipsis\" href=\"https://www.naukri.com/job-listings-artificial-intelligence-analyst-data-scientist-talentco-search-pvt-ltd-mumbai-bengaluru-bangalore-1-to-5-years-091220900289?src=jobsearchDesk&amp;sid=16081242424527054&amp;xp=8&amp;px=1\" target=\"_blank\" title=\"Artificial Intelligence Analyst/Data Scientist\">Artificial Intelligence Analyst/Data Scientist</a>,\n",
       " <a class=\"title fw500 ellipsis\" href=\"https://www.naukri.com/job-listings-data-scientist-mailkit-private-limited-chennai-pune-mumbai-bengaluru-bangalore-hyderabad-secunderabad-kolkata-4-to-9-years-081220006569?src=jobsearchDesk&amp;sid=16081242424527054&amp;xp=9&amp;px=1\" target=\"_blank\" title=\"Data Scientist\">Data Scientist</a>,\n",
       " <a class=\"title fw500 ellipsis\" href=\"https://www.naukri.com/job-listings-global-medical-data-scientist-glaxosmithkline-pharmaceuticals-limited-bengaluru-bangalore-india-5-to-7-years-101220906032?src=jobsearchDesk&amp;sid=16081242424527054&amp;xp=10&amp;px=1\" target=\"_blank\" title=\"Global Medical Data Scientist\">Global Medical Data Scientist</a>,\n",
       " <a class=\"title fw500 ellipsis\" href=\"https://www.naukri.com/job-listings-advanced-architect-data-scientist-mphasis-limited-bengaluru-bangalore-12-to-18-years-051220900856?src=jobsearchDesk&amp;sid=16081242424527054&amp;xp=11&amp;px=1\" target=\"_blank\" title=\"Advanced Architect - Data Scientist\">Advanced Architect - Data Scientist</a>,\n",
       " <a class=\"title fw500 ellipsis\" href=\"https://www.naukri.com/job-listings-ai-resident-data-scientist-stats-consl-shell-india-markets-private-limited-bengaluru-bangalore-3-to-5-years-101220903826?src=jobsearchDesk&amp;sid=16081242424527054&amp;xp=12&amp;px=1\" target=\"_blank\" title=\"AI Resident Data Scientist Stats. Consl.\">AI Resident Data Scientist Stats. Consl.</a>,\n",
       " <a class=\"title fw500 ellipsis\" href=\"https://www.naukri.com/job-listings-ai-resident-data-scientist-shell-india-markets-private-limited-bengaluru-bangalore-3-to-5-years-101220901461?src=jobsearchDesk&amp;sid=16081242424527054&amp;xp=13&amp;px=1\" target=\"_blank\" title=\"AI Resident - Data Scientist\">AI Resident - Data Scientist</a>,\n",
       " <a class=\"title fw500 ellipsis\" href=\"https://www.naukri.com/job-listings-ai-resident-data-scientist-nlp-shell-india-markets-private-limited-bengaluru-bangalore-3-to-5-years-011220904842?src=jobsearchDesk&amp;sid=16081242424527054&amp;xp=14&amp;px=1\" target=\"_blank\" title=\"AI Resident - Data Scientist - NLP\">AI Resident - Data Scientist - NLP</a>,\n",
       " <a class=\"title fw500 ellipsis\" href=\"https://www.naukri.com/job-listings-data-scientist-on-contract-sandvik-asia-pvt-ltd-bengaluru-bangalore-4-to-8-years-041220602024?src=jobsearchDesk&amp;sid=16081242424527054&amp;xp=15&amp;px=1\" target=\"_blank\" title=\"Data Scientist (ON Contract)\">Data Scientist (ON Contract)</a>,\n",
       " <a class=\"title fw500 ellipsis\" href=\"https://www.naukri.com/job-listings-data-scientist-on-contract-sandvik-asia-pvt-ltd-bengaluru-bangalore-4-to-8-years-041220002022?src=jobsearchDesk&amp;sid=16081242424527054&amp;xp=16&amp;px=1\" target=\"_blank\" title=\"Data Scientist (ON Contract)\">Data Scientist (ON Contract)</a>,\n",
       " <a class=\"title fw500 ellipsis\" href=\"https://www.naukri.com/job-listings-principal-data-scientist-signify-bengaluru-bangalore-10-to-15-years-021220501156?src=jobsearchDesk&amp;sid=16081242424527054&amp;xp=17&amp;px=1\" target=\"_blank\" title=\"Principal Data Scientist\">Principal Data Scientist</a>,\n",
       " <a class=\"title fw500 ellipsis\" href=\"https://www.naukri.com/job-listings-data-scientist-virtusa-consulting-services-pvt-ltd-chennai-bengaluru-bangalore-hyderabad-secunderabad-9-to-14-years-071220006694?src=jobsearchDesk&amp;sid=16081242424527054&amp;xp=18&amp;px=1\" target=\"_blank\" title=\"Data Scientist\">Data Scientist</a>,\n",
       " <a class=\"title fw500 ellipsis\" href=\"https://www.naukri.com/job-listings-looking-for-data-scientist-bangalore-element-infomatics-india-pvt-ltd-mumbai-bengaluru-bangalore-hyderabad-secunderabad-4-to-7-years-031220001312?src=jobsearchDesk&amp;sid=16081242424527054&amp;xp=19&amp;px=1\" target=\"_blank\" title=\"Looking For Data scientist - Bangalore\">Looking For Data scientist - Bangalore</a>,\n",
       " <a class=\"title fw500 ellipsis\" href=\"https://www.naukri.com/job-listings-business-analyst-data-scientist-execboardinasia-bengaluru-bangalore-5-to-10-years-111220500158?src=jobsearchDesk&amp;sid=16081242424527054&amp;xp=20&amp;px=1\" target=\"_blank\" title=\"Business Analyst - Data Scientist\">Business Analyst - Data Scientist</a>]"
      ]
     },
     "execution_count": 31,
     "metadata": {},
     "output_type": "execute_result"
    }
   ],
   "source": [
    "prod_urls"
   ]
  },
  {
   "cell_type": "code",
   "execution_count": 32,
   "metadata": {},
   "outputs": [],
   "source": [
    "urls=[]"
   ]
  },
  {
   "cell_type": "code",
   "execution_count": 33,
   "metadata": {},
   "outputs": [],
   "source": [
    "for prod in prod_urls:\n",
    "        urls.append(prod.get('href'))"
   ]
  },
  {
   "cell_type": "code",
   "execution_count": 34,
   "metadata": {},
   "outputs": [
    {
     "data": {
      "text/plain": [
       "['https://www.naukri.com/job-listings-fresher-data-engineer-data-scientist-data-analyst-requirements-achyutas-soft-private-limited-delhi-ncr-bengaluru-bangalore-hyderabad-secunderabad-0-to-2-years-061220001192?src=jobsearchDesk&sid=16081242424527054&xp=1&px=1',\n",
       " 'https://www.naukri.com/job-listings-data-scientist-data-analyst-caia-center-for-artificial-intelligence-advanced-analytics-chennai-pune-bengaluru-bangalore-hyderabad-secunderabad-0-to-3-years-210920000599?src=jobsearchDesk&sid=16081242424527054&xp=2&px=1',\n",
       " 'https://www.naukri.com/job-listings-data-scientist-machine-learning-blue-yonder-india-private-limited-bengaluru-bangalore-2-to-7-years-081220906415?src=jobsearchDesk&sid=16081242424527054&xp=3&px=1',\n",
       " 'https://www.naukri.com/job-listings-senior-data-scientist-nlp-python-r-avi-consulting-llp-bengaluru-bangalore-hyderabad-secunderabad-4-to-9-years-081220907155?src=jobsearchDesk&sid=16081242424527054&xp=4&px=1',\n",
       " 'https://www.naukri.com/job-listings-senior-data-scientist-ces-it-ltd-cmmi-level-5-ces-ltd-chennai-pune-delhi-ncr-mumbai-bengaluru-bangalore-hyderabad-secunderabad-kolkata-2-to-7-years-151220606904?src=jobsearchDesk&sid=16081242424527054&xp=5&px=1',\n",
       " 'https://www.naukri.com/job-listings-senior-data-scientist-ces-it-ltd-cmmi-level-5-ces-ltd-chennai-pune-delhi-ncr-mumbai-bengaluru-bangalore-hyderabad-secunderabad-kolkata-2-to-7-years-151220006902?src=jobsearchDesk&sid=16081242424527054&xp=6&px=1',\n",
       " 'https://www.naukri.com/job-listings-data-scientist-machine-learning-data-mining-minions-ventures-bengaluru-bangalore-6-to-8-years-161220900875?src=jobsearchDesk&sid=16081242424527054&xp=7&px=1',\n",
       " 'https://www.naukri.com/job-listings-artificial-intelligence-analyst-data-scientist-talentco-search-pvt-ltd-mumbai-bengaluru-bangalore-1-to-5-years-091220900289?src=jobsearchDesk&sid=16081242424527054&xp=8&px=1',\n",
       " 'https://www.naukri.com/job-listings-data-scientist-mailkit-private-limited-chennai-pune-mumbai-bengaluru-bangalore-hyderabad-secunderabad-kolkata-4-to-9-years-081220006569?src=jobsearchDesk&sid=16081242424527054&xp=9&px=1',\n",
       " 'https://www.naukri.com/job-listings-global-medical-data-scientist-glaxosmithkline-pharmaceuticals-limited-bengaluru-bangalore-india-5-to-7-years-101220906032?src=jobsearchDesk&sid=16081242424527054&xp=10&px=1',\n",
       " 'https://www.naukri.com/job-listings-advanced-architect-data-scientist-mphasis-limited-bengaluru-bangalore-12-to-18-years-051220900856?src=jobsearchDesk&sid=16081242424527054&xp=11&px=1',\n",
       " 'https://www.naukri.com/job-listings-ai-resident-data-scientist-stats-consl-shell-india-markets-private-limited-bengaluru-bangalore-3-to-5-years-101220903826?src=jobsearchDesk&sid=16081242424527054&xp=12&px=1',\n",
       " 'https://www.naukri.com/job-listings-ai-resident-data-scientist-shell-india-markets-private-limited-bengaluru-bangalore-3-to-5-years-101220901461?src=jobsearchDesk&sid=16081242424527054&xp=13&px=1',\n",
       " 'https://www.naukri.com/job-listings-ai-resident-data-scientist-nlp-shell-india-markets-private-limited-bengaluru-bangalore-3-to-5-years-011220904842?src=jobsearchDesk&sid=16081242424527054&xp=14&px=1',\n",
       " 'https://www.naukri.com/job-listings-data-scientist-on-contract-sandvik-asia-pvt-ltd-bengaluru-bangalore-4-to-8-years-041220602024?src=jobsearchDesk&sid=16081242424527054&xp=15&px=1',\n",
       " 'https://www.naukri.com/job-listings-data-scientist-on-contract-sandvik-asia-pvt-ltd-bengaluru-bangalore-4-to-8-years-041220002022?src=jobsearchDesk&sid=16081242424527054&xp=16&px=1',\n",
       " 'https://www.naukri.com/job-listings-principal-data-scientist-signify-bengaluru-bangalore-10-to-15-years-021220501156?src=jobsearchDesk&sid=16081242424527054&xp=17&px=1',\n",
       " 'https://www.naukri.com/job-listings-data-scientist-virtusa-consulting-services-pvt-ltd-chennai-bengaluru-bangalore-hyderabad-secunderabad-9-to-14-years-071220006694?src=jobsearchDesk&sid=16081242424527054&xp=18&px=1',\n",
       " 'https://www.naukri.com/job-listings-looking-for-data-scientist-bangalore-element-infomatics-india-pvt-ltd-mumbai-bengaluru-bangalore-hyderabad-secunderabad-4-to-7-years-031220001312?src=jobsearchDesk&sid=16081242424527054&xp=19&px=1',\n",
       " 'https://www.naukri.com/job-listings-business-analyst-data-scientist-execboardinasia-bengaluru-bangalore-5-to-10-years-111220500158?src=jobsearchDesk&sid=16081242424527054&xp=20&px=1']"
      ]
     },
     "execution_count": 34,
     "metadata": {},
     "output_type": "execute_result"
    }
   ],
   "source": [
    "urls"
   ]
  },
  {
   "cell_type": "code",
   "execution_count": 35,
   "metadata": {},
   "outputs": [],
   "source": [
    "for i in urls:\n",
    "    driver.get(i)\n",
    "    soup = BeautifulSoup(driver.page_source, 'html.parser')\n",
    "    t = soup.find('h1',attrs={'class':'jd-header-title'})\n",
    "    if t is not None:\n",
    "        titles.append(t.text.replace('\\n',''))\n",
    "    else:\n",
    "        titles.append('-')\n",
    "    n = soup.find('div', attrs = {'class':'jd-header-comp-name'})\n",
    "    if n is not None:\n",
    "        name.append(n.find('a').text.replace('\\n',''))\n",
    "    else:\n",
    "        name.append('-')\n",
    "    l = soup.find('span', attrs = {'class':'location'})\n",
    "    if l is not None:\n",
    "        location.append(l.text.replace('\\n',''))\n",
    "    else:\n",
    "        location.append('-')\n",
    "    d=soup.find('section', attrs = {'class':'job-desc'})\n",
    "    if d is not None:\n",
    "        description.append(d.text.replace('\\n',''))\n",
    "    else:\n",
    "        description.append('-')\n",
    "    df=pd.DataFrame({})\n",
    "    df['titles']=titles[:10]\n",
    "    df['name']=name[:10]\n",
    "    df['loc']=location[:10]\n",
    "    df['description']=description[:10]"
   ]
  },
  {
   "cell_type": "code",
   "execution_count": 36,
   "metadata": {},
   "outputs": [
    {
     "data": {
      "text/html": [
       "<div>\n",
       "<style scoped>\n",
       "    .dataframe tbody tr th:only-of-type {\n",
       "        vertical-align: middle;\n",
       "    }\n",
       "\n",
       "    .dataframe tbody tr th {\n",
       "        vertical-align: top;\n",
       "    }\n",
       "\n",
       "    .dataframe thead th {\n",
       "        text-align: right;\n",
       "    }\n",
       "</style>\n",
       "<table border=\"1\" class=\"dataframe\">\n",
       "  <thead>\n",
       "    <tr style=\"text-align: right;\">\n",
       "      <th></th>\n",
       "      <th>titles</th>\n",
       "      <th>name</th>\n",
       "      <th>loc</th>\n",
       "      <th>description</th>\n",
       "    </tr>\n",
       "  </thead>\n",
       "  <tbody>\n",
       "    <tr>\n",
       "      <th>0</th>\n",
       "      <td>Fresher  Data Engineer / Data Scientist / Data...</td>\n",
       "      <td>ACHYUTAS SOFT PRIVATE LIMITED</td>\n",
       "      <td>Delhi NCR, Bengaluru, Hyderabad</td>\n",
       "      <td>Job descriptionRoles and ResponsibilitiesAnaly...</td>\n",
       "    </tr>\n",
       "    <tr>\n",
       "      <th>1</th>\n",
       "      <td>Data Scientist/Data Analyst</td>\n",
       "      <td>CAIA-Center For Artificial Intelligence &amp; Adva...</td>\n",
       "      <td>Chennai, Pune, Bengaluru, Hyderabad</td>\n",
       "      <td>Job description Dear Candidate  Schedule a Tel...</td>\n",
       "    </tr>\n",
       "    <tr>\n",
       "      <th>2</th>\n",
       "      <td>-</td>\n",
       "      <td>-</td>\n",
       "      <td>-</td>\n",
       "      <td>-</td>\n",
       "    </tr>\n",
       "    <tr>\n",
       "      <th>3</th>\n",
       "      <td>Senior Data Scientist - NLP/ Python/ R</td>\n",
       "      <td>AVI Consulting LLP</td>\n",
       "      <td>Bengaluru, Hyderabad</td>\n",
       "      <td>Job descriptionRoles and ResponsibilitiesSkill...</td>\n",
       "    </tr>\n",
       "    <tr>\n",
       "      <th>4</th>\n",
       "      <td>Senior Data Scientist | CES IT LTD | CMMI Level 5</td>\n",
       "      <td>CES Ltd.</td>\n",
       "      <td>Chennai, Pune, Delhi NCR, Mumbai, Bengaluru, H...</td>\n",
       "      <td>Job descriptionRoles and Responsibilities  Mus...</td>\n",
       "    </tr>\n",
       "    <tr>\n",
       "      <th>5</th>\n",
       "      <td>Senior Data Scientist | CES IT LTD | CMMI Level 5</td>\n",
       "      <td>CES Ltd.</td>\n",
       "      <td>Chennai, Pune, Delhi NCR, Mumbai, Bengaluru, H...</td>\n",
       "      <td>Job descriptionRoles and Responsibilities  Mus...</td>\n",
       "    </tr>\n",
       "    <tr>\n",
       "      <th>6</th>\n",
       "      <td>Data Scientist - Machine Learning/Data Mining</td>\n",
       "      <td>Minions Ventures</td>\n",
       "      <td>Bengaluru</td>\n",
       "      <td>Job descriptionKey Responsibilities :- Use ana...</td>\n",
       "    </tr>\n",
       "    <tr>\n",
       "      <th>7</th>\n",
       "      <td>Artificial Intelligence Analyst/Data Scientist</td>\n",
       "      <td>TalentCo Search Pvt Ltd</td>\n",
       "      <td>Mumbai, Bengaluru</td>\n",
       "      <td>Job descriptionRoles and Responsibilities- Mac...</td>\n",
       "    </tr>\n",
       "    <tr>\n",
       "      <th>8</th>\n",
       "      <td>Data Scientist</td>\n",
       "      <td>Mailkit Private Limited</td>\n",
       "      <td>Chennai, Pune, Mumbai, Bengaluru, Hyderabad, K...</td>\n",
       "      <td>Job descriptionMailkit is an European Marketin...</td>\n",
       "    </tr>\n",
       "    <tr>\n",
       "      <th>9</th>\n",
       "      <td>-</td>\n",
       "      <td>-</td>\n",
       "      <td>-</td>\n",
       "      <td>-</td>\n",
       "    </tr>\n",
       "  </tbody>\n",
       "</table>\n",
       "</div>"
      ],
      "text/plain": [
       "                                              titles  \\\n",
       "0  Fresher  Data Engineer / Data Scientist / Data...   \n",
       "1                        Data Scientist/Data Analyst   \n",
       "2                                                  -   \n",
       "3             Senior Data Scientist - NLP/ Python/ R   \n",
       "4  Senior Data Scientist | CES IT LTD | CMMI Level 5   \n",
       "5  Senior Data Scientist | CES IT LTD | CMMI Level 5   \n",
       "6      Data Scientist - Machine Learning/Data Mining   \n",
       "7     Artificial Intelligence Analyst/Data Scientist   \n",
       "8                                     Data Scientist   \n",
       "9                                                  -   \n",
       "\n",
       "                                                name  \\\n",
       "0                     ACHYUTAS SOFT PRIVATE LIMITED    \n",
       "1  CAIA-Center For Artificial Intelligence & Adva...   \n",
       "2                                                  -   \n",
       "3                                 AVI Consulting LLP   \n",
       "4                                           CES Ltd.   \n",
       "5                                           CES Ltd.   \n",
       "6                                   Minions Ventures   \n",
       "7                            TalentCo Search Pvt Ltd   \n",
       "8                            Mailkit Private Limited   \n",
       "9                                                  -   \n",
       "\n",
       "                                                 loc  \\\n",
       "0                    Delhi NCR, Bengaluru, Hyderabad   \n",
       "1                Chennai, Pune, Bengaluru, Hyderabad   \n",
       "2                                                  -   \n",
       "3                               Bengaluru, Hyderabad   \n",
       "4  Chennai, Pune, Delhi NCR, Mumbai, Bengaluru, H...   \n",
       "5  Chennai, Pune, Delhi NCR, Mumbai, Bengaluru, H...   \n",
       "6                                          Bengaluru   \n",
       "7                                  Mumbai, Bengaluru   \n",
       "8  Chennai, Pune, Mumbai, Bengaluru, Hyderabad, K...   \n",
       "9                                                  -   \n",
       "\n",
       "                                         description  \n",
       "0  Job descriptionRoles and ResponsibilitiesAnaly...  \n",
       "1  Job description Dear Candidate  Schedule a Tel...  \n",
       "2                                                  -  \n",
       "3  Job descriptionRoles and ResponsibilitiesSkill...  \n",
       "4  Job descriptionRoles and Responsibilities  Mus...  \n",
       "5  Job descriptionRoles and Responsibilities  Mus...  \n",
       "6  Job descriptionKey Responsibilities :- Use ana...  \n",
       "7  Job descriptionRoles and Responsibilities- Mac...  \n",
       "8  Job descriptionMailkit is an European Marketin...  \n",
       "9                                                  -  "
      ]
     },
     "execution_count": 36,
     "metadata": {},
     "output_type": "execute_result"
    }
   ],
   "source": [
    "df"
   ]
  },
  {
   "cell_type": "markdown",
   "metadata": {},
   "source": [
    "# Q3: In this question you have to scrape data using the filters available on the webpage as shown "
   ]
  },
  {
   "cell_type": "code",
   "execution_count": 37,
   "metadata": {},
   "outputs": [],
   "source": [
    "driver=webdriver.Chrome(r\"C:\\Users\\sidse\\Downloads\\chromedriver_win32\\chromedriver.exe\")"
   ]
  },
  {
   "cell_type": "code",
   "execution_count": 38,
   "metadata": {},
   "outputs": [],
   "source": [
    "driver.get('https://www.naukri.com/')"
   ]
  },
  {
   "cell_type": "code",
   "execution_count": 39,
   "metadata": {},
   "outputs": [],
   "source": [
    "titles=[]\n",
    "name=[]\n",
    "location=[]\n",
    "experience=[]"
   ]
  },
  {
   "cell_type": "code",
   "execution_count": 40,
   "metadata": {},
   "outputs": [],
   "source": [
    "search_job=driver.find_element_by_id('qsb-keyword-sugg')\n",
    "search_job.send_keys('Data Scientist')"
   ]
  },
  {
   "cell_type": "code",
   "execution_count": 41,
   "metadata": {},
   "outputs": [],
   "source": [
    "search_button=driver.find_element_by_xpath(\"//div[@class='search-btn']\")\n",
    "search_button.click()"
   ]
  },
  {
   "cell_type": "code",
   "execution_count": 42,
   "metadata": {},
   "outputs": [],
   "source": [
    "search_b=driver.find_element_by_xpath(\"//span[@title='Delhi/NCR']\")\n",
    "search_b.click()"
   ]
  },
  {
   "cell_type": "code",
   "execution_count": 43,
   "metadata": {},
   "outputs": [],
   "source": [
    "search_salary=driver.find_element_by_xpath(\"//span[@title='3-6 Lakhs']\")\n",
    "search_salary.click()"
   ]
  },
  {
   "cell_type": "code",
   "execution_count": 44,
   "metadata": {},
   "outputs": [],
   "source": [
    "soup = BeautifulSoup(driver.page_source, 'html.parser')\n",
    "t = soup.find_all('a',attrs={'class':'title fw500 ellipsis'})\n",
    "for i in t:\n",
    "    titles.append(i.text.replace('\\n',''))\n",
    "n = soup.find_all('div', attrs = {'class':'mt-7 companyInfo subheading lh16'})\n",
    "for j in n:\n",
    "    name.append(j.text.replace('\\n',''))\n",
    "l = soup.find_all('li', attrs = {'class':'fleft grey-text br2 placeHolderLi location'})\n",
    "for k in l:\n",
    "    location.append(k.text.replace('\\n',''))\n",
    "e=soup.find_all('li', attrs = {'class':'fleft grey-text br2 placeHolderLi experience'})\n",
    "for o in e:\n",
    "    experience.append(o.text.replace('\\n',''))\n",
    "df=pd.DataFrame({})\n",
    "df['titles']=titles[:10]\n",
    "df['name']=name[:10]\n",
    "df['loc']=location[:10]\n",
    "df['experience']=experience[:10]"
   ]
  },
  {
   "cell_type": "code",
   "execution_count": 45,
   "metadata": {},
   "outputs": [
    {
     "data": {
      "text/html": [
       "<div>\n",
       "<style scoped>\n",
       "    .dataframe tbody tr th:only-of-type {\n",
       "        vertical-align: middle;\n",
       "    }\n",
       "\n",
       "    .dataframe tbody tr th {\n",
       "        vertical-align: top;\n",
       "    }\n",
       "\n",
       "    .dataframe thead th {\n",
       "        text-align: right;\n",
       "    }\n",
       "</style>\n",
       "<table border=\"1\" class=\"dataframe\">\n",
       "  <thead>\n",
       "    <tr style=\"text-align: right;\">\n",
       "      <th></th>\n",
       "      <th>titles</th>\n",
       "      <th>name</th>\n",
       "      <th>loc</th>\n",
       "      <th>experience</th>\n",
       "    </tr>\n",
       "  </thead>\n",
       "  <tbody>\n",
       "    <tr>\n",
       "      <th>0</th>\n",
       "      <td>Fresher  Data Engineer / Data Scientist / Data...</td>\n",
       "      <td>ACHYUTAS SOFT PRIVATE LIMITED</td>\n",
       "      <td>Delhi NCR, Bengaluru, Hyderabad</td>\n",
       "      <td>0-2 Yrs</td>\n",
       "    </tr>\n",
       "    <tr>\n",
       "      <th>1</th>\n",
       "      <td>Data Scientist - Python/Machine Learning</td>\n",
       "      <td>Jubna</td>\n",
       "      <td>Noida</td>\n",
       "      <td>5-8 Yrs</td>\n",
       "    </tr>\n",
       "    <tr>\n",
       "      <th>2</th>\n",
       "      <td>Only Fresher / Data Scientist / Data Analyst /...</td>\n",
       "      <td>GABA Consultancy services</td>\n",
       "      <td>Delhi NCR, Greater Noida, Noida</td>\n",
       "      <td>0-0 Yrs</td>\n",
       "    </tr>\n",
       "    <tr>\n",
       "      <th>3</th>\n",
       "      <td>Data Scientist</td>\n",
       "      <td>PureSoftware Pvt Ltd.3.4(87 Reviews)</td>\n",
       "      <td>Gurgaon</td>\n",
       "      <td>5-9 Yrs</td>\n",
       "    </tr>\n",
       "    <tr>\n",
       "      <th>4</th>\n",
       "      <td>Data Scientist</td>\n",
       "      <td>World Wide Technology</td>\n",
       "      <td>Gurgaon</td>\n",
       "      <td>3-8 Yrs</td>\n",
       "    </tr>\n",
       "    <tr>\n",
       "      <th>5</th>\n",
       "      <td>Lead Data Scientist</td>\n",
       "      <td>NEC CORPORATION INDIA PRIVATE LTD</td>\n",
       "      <td>Delhi NCR, Noida(Sector-142 Noida)</td>\n",
       "      <td>9-14 Yrs</td>\n",
       "    </tr>\n",
       "    <tr>\n",
       "      <th>6</th>\n",
       "      <td>Excellent opportunity For Lead Data Scientist ...</td>\n",
       "      <td>NEC CORPORATION INDIA PRIVATE LTD</td>\n",
       "      <td>Delhi NCR(Sector-142 Noida), Noida</td>\n",
       "      <td>9-14 Yrs</td>\n",
       "    </tr>\n",
       "    <tr>\n",
       "      <th>7</th>\n",
       "      <td>Lead Data Scientist</td>\n",
       "      <td>NEC CORPORATION INDIA PRIVATE LTD</td>\n",
       "      <td>Delhi NCR, Noida(Sector-142 Noida)</td>\n",
       "      <td>9-14 Yrs</td>\n",
       "    </tr>\n",
       "    <tr>\n",
       "      <th>8</th>\n",
       "      <td>Excellent opportunity For Lead Data Scientist ...</td>\n",
       "      <td>NEC CORPORATION INDIA PRIVATE LTD</td>\n",
       "      <td>Delhi NCR(Sector-142 Noida), Noida</td>\n",
       "      <td>9-14 Yrs</td>\n",
       "    </tr>\n",
       "    <tr>\n",
       "      <th>9</th>\n",
       "      <td>Data Scientist</td>\n",
       "      <td>Stark Industries4.5(2 Reviews)</td>\n",
       "      <td>Delhi</td>\n",
       "      <td>3-5 Yrs</td>\n",
       "    </tr>\n",
       "  </tbody>\n",
       "</table>\n",
       "</div>"
      ],
      "text/plain": [
       "                                              titles  \\\n",
       "0  Fresher  Data Engineer / Data Scientist / Data...   \n",
       "1           Data Scientist - Python/Machine Learning   \n",
       "2  Only Fresher / Data Scientist / Data Analyst /...   \n",
       "3                                     Data Scientist   \n",
       "4                                     Data Scientist   \n",
       "5                                Lead Data Scientist   \n",
       "6  Excellent opportunity For Lead Data Scientist ...   \n",
       "7                                Lead Data Scientist   \n",
       "8  Excellent opportunity For Lead Data Scientist ...   \n",
       "9                                     Data Scientist   \n",
       "\n",
       "                                   name                                 loc  \\\n",
       "0        ACHYUTAS SOFT PRIVATE LIMITED      Delhi NCR, Bengaluru, Hyderabad   \n",
       "1                                 Jubna                               Noida   \n",
       "2            GABA Consultancy services      Delhi NCR, Greater Noida, Noida   \n",
       "3  PureSoftware Pvt Ltd.3.4(87 Reviews)                             Gurgaon   \n",
       "4                 World Wide Technology                             Gurgaon   \n",
       "5     NEC CORPORATION INDIA PRIVATE LTD  Delhi NCR, Noida(Sector-142 Noida)   \n",
       "6     NEC CORPORATION INDIA PRIVATE LTD  Delhi NCR(Sector-142 Noida), Noida   \n",
       "7     NEC CORPORATION INDIA PRIVATE LTD  Delhi NCR, Noida(Sector-142 Noida)   \n",
       "8     NEC CORPORATION INDIA PRIVATE LTD  Delhi NCR(Sector-142 Noida), Noida   \n",
       "9        Stark Industries4.5(2 Reviews)                               Delhi   \n",
       "\n",
       "  experience  \n",
       "0    0-2 Yrs  \n",
       "1    5-8 Yrs  \n",
       "2    0-0 Yrs  \n",
       "3    5-9 Yrs  \n",
       "4    3-8 Yrs  \n",
       "5   9-14 Yrs  \n",
       "6   9-14 Yrs  \n",
       "7   9-14 Yrs  \n",
       "8   9-14 Yrs  \n",
       "9    3-5 Yrs  "
      ]
     },
     "execution_count": 45,
     "metadata": {},
     "output_type": "execute_result"
    }
   ],
   "source": [
    "df"
   ]
  },
  {
   "cell_type": "markdown",
   "metadata": {},
   "source": [
    "# Q4: Write a python program to scrape data for first 10 job results for Data scientist Designation in Noida location. You have to scrape company_name, No. of days ago when job was posted, Rating of the company."
   ]
  },
  {
   "cell_type": "code",
   "execution_count": 51,
   "metadata": {},
   "outputs": [],
   "source": [
    "driver=webdriver.Chrome(r\"C:\\Users\\sidse\\Downloads\\chromedriver_win32\\chromedriver.exe\")"
   ]
  },
  {
   "cell_type": "code",
   "execution_count": 52,
   "metadata": {},
   "outputs": [],
   "source": [
    "driver.get('https://www.glassdoor.co.in/index.htm')"
   ]
  },
  {
   "cell_type": "code",
   "execution_count": 53,
   "metadata": {},
   "outputs": [],
   "source": [
    "search_button=driver.find_element_by_xpath(\"//div[@class='locked-home-sign-in']\")\n",
    "search_button.click()"
   ]
  },
  {
   "cell_type": "code",
   "execution_count": 54,
   "metadata": {},
   "outputs": [],
   "source": [
    "put_name=driver.find_element_by_xpath(\"//input[@id='userEmail']\")\n",
    "put_name.send_keys('')"
   ]
  },
  {
   "cell_type": "code",
   "execution_count": 55,
   "metadata": {},
   "outputs": [],
   "source": [
    "put_name=driver.find_element_by_xpath(\"//input[@id='userPassword']\")\n",
    "put_name.send_keys('')"
   ]
  },
  {
   "cell_type": "code",
   "execution_count": 56,
   "metadata": {},
   "outputs": [],
   "source": [
    "button=driver.find_element_by_xpath(\"//button[@class='gd-ui-button minWidthBtn css-8i7bc2']\")\n",
    "button.click()\n",
    "time.sleep(5)"
   ]
  },
  {
   "cell_type": "code",
   "execution_count": 57,
   "metadata": {},
   "outputs": [],
   "source": [
    "delay=10\n",
    "wait=WebDriverWait(driver,delay)\n",
    "put_name = wait.until(EC.presence_of_element_located((By.XPATH, \"//input[@id='sc.keyword']\")))\n",
    "put_name.send_keys('data scientist')\n",
    "delay=10"
   ]
  },
  {
   "cell_type": "code",
   "execution_count": 58,
   "metadata": {},
   "outputs": [],
   "source": [
    "delay=10\n",
    "wait=WebDriverWait(driver,delay)\n",
    "put_name = wait.until(EC.presence_of_element_located((By.XPATH, \"//input[@id='sc.location']\")))\n",
    "put_name.send_keys('noida')"
   ]
  },
  {
   "cell_type": "code",
   "execution_count": 59,
   "metadata": {},
   "outputs": [],
   "source": [
    "search_button=driver.find_element_by_xpath(\"//button[@class='gd-ui-button ml-std col-auto SearchStyles__newSearchButton css-iixdfr']\")\n",
    "search_button.click()"
   ]
  },
  {
   "cell_type": "code",
   "execution_count": 60,
   "metadata": {},
   "outputs": [],
   "source": [
    "name=[]\n",
    "days=[]\n",
    "rating=[]"
   ]
  },
  {
   "cell_type": "code",
   "execution_count": 61,
   "metadata": {},
   "outputs": [],
   "source": [
    "soup = BeautifulSoup(driver.page_source, 'html.parser')"
   ]
  },
  {
   "cell_type": "code",
   "execution_count": 62,
   "metadata": {},
   "outputs": [],
   "source": [
    "delay=10\n",
    "wait=WebDriverWait(driver,delay)\n",
    "wait.until(EC.presence_of_element_located((By.XPATH, \"//button[@class='gd-ui-button common__font14___1Ivfd css-1g52rud']\")))\n",
    "n=driver.find_elements_by_xpath(\"//a[@class=' css-10l5u4p e1n63ojh0 jobLink']\")"
   ]
  },
  {
   "cell_type": "code",
   "execution_count": 63,
   "metadata": {},
   "outputs": [
    {
     "data": {
      "text/plain": [
       "[<selenium.webdriver.remote.webelement.WebElement (session=\"6215682f9df41b9ce059e1b2732e0d26\", element=\"4d914632-c8c3-43b7-b5db-2cc159e044b2\")>,\n",
       " <selenium.webdriver.remote.webelement.WebElement (session=\"6215682f9df41b9ce059e1b2732e0d26\", element=\"c2de27eb-6e24-493d-b8c1-267316a93541\")>,\n",
       " <selenium.webdriver.remote.webelement.WebElement (session=\"6215682f9df41b9ce059e1b2732e0d26\", element=\"7dc21223-d2d6-4908-b9b4-1161230d27ef\")>,\n",
       " <selenium.webdriver.remote.webelement.WebElement (session=\"6215682f9df41b9ce059e1b2732e0d26\", element=\"ebfe7802-d6bd-4b07-bb88-3709ef945e1f\")>,\n",
       " <selenium.webdriver.remote.webelement.WebElement (session=\"6215682f9df41b9ce059e1b2732e0d26\", element=\"e74f7bab-63d6-4fc9-a801-70f3266cc896\")>,\n",
       " <selenium.webdriver.remote.webelement.WebElement (session=\"6215682f9df41b9ce059e1b2732e0d26\", element=\"4d9e55d0-4c02-419a-9d99-5786e83a4b37\")>,\n",
       " <selenium.webdriver.remote.webelement.WebElement (session=\"6215682f9df41b9ce059e1b2732e0d26\", element=\"94544d9b-4ce0-47a7-b9ba-b559426abd83\")>,\n",
       " <selenium.webdriver.remote.webelement.WebElement (session=\"6215682f9df41b9ce059e1b2732e0d26\", element=\"56360ed5-a7de-438d-97ef-05a38946a28b\")>,\n",
       " <selenium.webdriver.remote.webelement.WebElement (session=\"6215682f9df41b9ce059e1b2732e0d26\", element=\"7c6cf28b-a2e3-4ab3-bb88-65b7f1660d16\")>,\n",
       " <selenium.webdriver.remote.webelement.WebElement (session=\"6215682f9df41b9ce059e1b2732e0d26\", element=\"9c6478e2-0437-44f1-a025-67a84a3a0bcb\")>,\n",
       " <selenium.webdriver.remote.webelement.WebElement (session=\"6215682f9df41b9ce059e1b2732e0d26\", element=\"a5bd07f8-dbbf-480c-be81-6138c9b5c58e\")>,\n",
       " <selenium.webdriver.remote.webelement.WebElement (session=\"6215682f9df41b9ce059e1b2732e0d26\", element=\"c7fbf6fc-0a57-471e-a300-4615a6d26247\")>,\n",
       " <selenium.webdriver.remote.webelement.WebElement (session=\"6215682f9df41b9ce059e1b2732e0d26\", element=\"07126664-ffb3-4e84-9525-2c442f09810a\")>,\n",
       " <selenium.webdriver.remote.webelement.WebElement (session=\"6215682f9df41b9ce059e1b2732e0d26\", element=\"6a5e78a0-7dce-4ea7-9eff-59ccae949f14\")>,\n",
       " <selenium.webdriver.remote.webelement.WebElement (session=\"6215682f9df41b9ce059e1b2732e0d26\", element=\"3b37083e-9df9-40e1-86ae-778bd0910e53\")>,\n",
       " <selenium.webdriver.remote.webelement.WebElement (session=\"6215682f9df41b9ce059e1b2732e0d26\", element=\"ef3bd62d-687c-4e57-82bd-58b0b4a5418b\")>,\n",
       " <selenium.webdriver.remote.webelement.WebElement (session=\"6215682f9df41b9ce059e1b2732e0d26\", element=\"715f561c-bc79-48b4-b26a-1cb0b9102387\")>,\n",
       " <selenium.webdriver.remote.webelement.WebElement (session=\"6215682f9df41b9ce059e1b2732e0d26\", element=\"b511e164-0075-4f4a-b35f-c991643617a5\")>,\n",
       " <selenium.webdriver.remote.webelement.WebElement (session=\"6215682f9df41b9ce059e1b2732e0d26\", element=\"717e6fd7-0fc3-4735-ab21-eda48f02515c\")>,\n",
       " <selenium.webdriver.remote.webelement.WebElement (session=\"6215682f9df41b9ce059e1b2732e0d26\", element=\"de124982-1294-41e8-b066-d745854f96ce\")>,\n",
       " <selenium.webdriver.remote.webelement.WebElement (session=\"6215682f9df41b9ce059e1b2732e0d26\", element=\"e9184784-f881-46fa-88c2-e9753d862c85\")>,\n",
       " <selenium.webdriver.remote.webelement.WebElement (session=\"6215682f9df41b9ce059e1b2732e0d26\", element=\"d96ac043-a567-4cab-9d54-7d9459c73361\")>,\n",
       " <selenium.webdriver.remote.webelement.WebElement (session=\"6215682f9df41b9ce059e1b2732e0d26\", element=\"28fb7703-d9d1-4088-a9b7-faeef9ef03a5\")>,\n",
       " <selenium.webdriver.remote.webelement.WebElement (session=\"6215682f9df41b9ce059e1b2732e0d26\", element=\"b756eb69-ca54-4a68-9d22-1c9a38fb7491\")>,\n",
       " <selenium.webdriver.remote.webelement.WebElement (session=\"6215682f9df41b9ce059e1b2732e0d26\", element=\"3302c82b-c295-4a1e-a392-71bcbb3ee623\")>,\n",
       " <selenium.webdriver.remote.webelement.WebElement (session=\"6215682f9df41b9ce059e1b2732e0d26\", element=\"ac4142aa-7b2d-4c29-81f1-667154296122\")>,\n",
       " <selenium.webdriver.remote.webelement.WebElement (session=\"6215682f9df41b9ce059e1b2732e0d26\", element=\"319d404a-8a3c-46cd-a580-c74e787d1549\")>,\n",
       " <selenium.webdriver.remote.webelement.WebElement (session=\"6215682f9df41b9ce059e1b2732e0d26\", element=\"76953e5a-f507-4816-b0ad-722c3105655b\")>,\n",
       " <selenium.webdriver.remote.webelement.WebElement (session=\"6215682f9df41b9ce059e1b2732e0d26\", element=\"9744d838-3290-4ea8-a56b-148b98469f82\")>,\n",
       " <selenium.webdriver.remote.webelement.WebElement (session=\"6215682f9df41b9ce059e1b2732e0d26\", element=\"ad3fe5f1-fb00-4670-83cd-7756c648d6f8\")>]"
      ]
     },
     "execution_count": 63,
     "metadata": {},
     "output_type": "execute_result"
    }
   ],
   "source": [
    "n"
   ]
  },
  {
   "cell_type": "code",
   "execution_count": 64,
   "metadata": {},
   "outputs": [],
   "source": [
    "for i in n:\n",
    "    if i is not None:\n",
    "        name.append(i.text.replace('\\n',''))\n",
    "    else:\n",
    "        name.append('-')\n"
   ]
  },
  {
   "cell_type": "code",
   "execution_count": 65,
   "metadata": {},
   "outputs": [],
   "source": [
    "df=pd.DataFrame({})\n",
    "df['name']=name[:10]"
   ]
  },
  {
   "cell_type": "code",
   "execution_count": 66,
   "metadata": {},
   "outputs": [],
   "source": [
    "delay=10\n",
    "wait=WebDriverWait(driver,delay)\n",
    "wait.until(EC.presence_of_element_located((By.XPATH, \"//button[@class='gd-ui-button common__font14___1Ivfd css-1g52rud']\")))\n",
    "d=driver.find_elements_by_xpath(\"//div[@class='d-flex align-items-end pl-std css-mi55ob']\")"
   ]
  },
  {
   "cell_type": "code",
   "execution_count": 67,
   "metadata": {},
   "outputs": [],
   "source": [
    "for i in d:\n",
    "    if i is not None:\n",
    "        days.append(i.text.replace('\\n',''))\n",
    "    else:\n",
    "        days.append('-')\n"
   ]
  },
  {
   "cell_type": "code",
   "execution_count": 68,
   "metadata": {},
   "outputs": [],
   "source": [
    "df['days']=days[:10]"
   ]
  },
  {
   "cell_type": "code",
   "execution_count": 69,
   "metadata": {},
   "outputs": [
    {
     "data": {
      "text/html": [
       "<div>\n",
       "<style scoped>\n",
       "    .dataframe tbody tr th:only-of-type {\n",
       "        vertical-align: middle;\n",
       "    }\n",
       "\n",
       "    .dataframe tbody tr th {\n",
       "        vertical-align: top;\n",
       "    }\n",
       "\n",
       "    .dataframe thead th {\n",
       "        text-align: right;\n",
       "    }\n",
       "</style>\n",
       "<table border=\"1\" class=\"dataframe\">\n",
       "  <thead>\n",
       "    <tr style=\"text-align: right;\">\n",
       "      <th></th>\n",
       "      <th>name</th>\n",
       "      <th>days</th>\n",
       "    </tr>\n",
       "  </thead>\n",
       "  <tbody>\n",
       "    <tr>\n",
       "      <th>0</th>\n",
       "      <td>Colgate-Palmolive</td>\n",
       "      <td>24h</td>\n",
       "    </tr>\n",
       "    <tr>\n",
       "      <th>1</th>\n",
       "      <td>PayPal</td>\n",
       "      <td>30d+</td>\n",
       "    </tr>\n",
       "    <tr>\n",
       "      <th>2</th>\n",
       "      <td>Colgate-Palmolive</td>\n",
       "      <td>24h</td>\n",
       "    </tr>\n",
       "    <tr>\n",
       "      <th>3</th>\n",
       "      <td>Redcliffe Lifesciences Pvt Ltd</td>\n",
       "      <td>27d</td>\n",
       "    </tr>\n",
       "    <tr>\n",
       "      <th>4</th>\n",
       "      <td>Arya.ai</td>\n",
       "      <td>1d</td>\n",
       "    </tr>\n",
       "    <tr>\n",
       "      <th>5</th>\n",
       "      <td>Securly</td>\n",
       "      <td>1d</td>\n",
       "    </tr>\n",
       "    <tr>\n",
       "      <th>6</th>\n",
       "      <td>Shaw Academy</td>\n",
       "      <td>30d+</td>\n",
       "    </tr>\n",
       "    <tr>\n",
       "      <th>7</th>\n",
       "      <td>Samaira HR Solutions</td>\n",
       "      <td>1d</td>\n",
       "    </tr>\n",
       "    <tr>\n",
       "      <th>8</th>\n",
       "      <td>INEXTURE SOLUTIONS</td>\n",
       "      <td>5d</td>\n",
       "    </tr>\n",
       "    <tr>\n",
       "      <th>9</th>\n",
       "      <td>EkasCloud Online Course</td>\n",
       "      <td>2d</td>\n",
       "    </tr>\n",
       "  </tbody>\n",
       "</table>\n",
       "</div>"
      ],
      "text/plain": [
       "                             name  days\n",
       "0               Colgate-Palmolive   24h\n",
       "1                          PayPal  30d+\n",
       "2               Colgate-Palmolive   24h\n",
       "3  Redcliffe Lifesciences Pvt Ltd   27d\n",
       "4                         Arya.ai    1d\n",
       "5                         Securly    1d\n",
       "6                    Shaw Academy  30d+\n",
       "7            Samaira HR Solutions    1d\n",
       "8              INEXTURE SOLUTIONS    5d\n",
       "9         EkasCloud Online Course    2d"
      ]
     },
     "execution_count": 69,
     "metadata": {},
     "output_type": "execute_result"
    }
   ],
   "source": [
    "df"
   ]
  },
  {
   "cell_type": "markdown",
   "metadata": {},
   "source": [
    "# Q5: Write a python program to scrape the salary data for Data Scientist designation in Noida location."
   ]
  },
  {
   "cell_type": "code",
   "execution_count": 70,
   "metadata": {},
   "outputs": [],
   "source": [
    "driver=webdriver.Chrome(r\"C:\\Users\\sidse\\Downloads\\chromedriver_win32\\chromedriver.exe\")"
   ]
  },
  {
   "cell_type": "code",
   "execution_count": 71,
   "metadata": {},
   "outputs": [],
   "source": [
    "driver.get('https://www.glassdoor.co.in/index.htm')"
   ]
  },
  {
   "cell_type": "code",
   "execution_count": 72,
   "metadata": {},
   "outputs": [],
   "source": [
    "search_button=driver.find_element_by_xpath(\"//div[@class='locked-home-sign-in']\")\n",
    "search_button.click()"
   ]
  },
  {
   "cell_type": "code",
   "execution_count": 73,
   "metadata": {},
   "outputs": [],
   "source": [
    "put_name=driver.find_element_by_xpath(\"//input[@id='userEmail']\")\n",
    "put_name.send_keys('')"
   ]
  },
  {
   "cell_type": "code",
   "execution_count": 74,
   "metadata": {},
   "outputs": [],
   "source": [
    "put_name=driver.find_element_by_xpath(\"//input[@id='userPassword']\")\n",
    "put_name.send_keys('')"
   ]
  },
  {
   "cell_type": "code",
   "execution_count": 75,
   "metadata": {},
   "outputs": [],
   "source": [
    "button=driver.find_element_by_xpath(\"//button[@class='gd-ui-button minWidthBtn css-8i7bc2']\")\n",
    "button.click()\n",
    "time.sleep(5)"
   ]
  },
  {
   "cell_type": "code",
   "execution_count": 76,
   "metadata": {},
   "outputs": [],
   "source": [
    "delay=10\n",
    "wait=WebDriverWait(driver,delay)\n",
    "put_name = wait.until(EC.presence_of_element_located((By.XPATH, \"//input[@id='sc.keyword']\")))\n",
    "put_name.send_keys('data scientist')"
   ]
  },
  {
   "cell_type": "code",
   "execution_count": 77,
   "metadata": {},
   "outputs": [],
   "source": [
    "delay=10\n",
    "wait=WebDriverWait(driver,delay)\n",
    "put_name = wait.until(EC.presence_of_element_located((By.XPATH, \"//input[@id='sc.location']\")))\n",
    "put_name.send_keys('noida')"
   ]
  },
  {
   "cell_type": "code",
   "execution_count": 78,
   "metadata": {},
   "outputs": [],
   "source": [
    "search_button=driver.find_element_by_xpath(\"//button[@class='gd-ui-button ml-std col-auto SearchStyles__newSearchButton css-iixdfr']\")\n",
    "search_button.click()"
   ]
  },
  {
   "cell_type": "code",
   "execution_count": 79,
   "metadata": {},
   "outputs": [],
   "source": [
    "name=[]\n",
    "avg=[]\n",
    "maximum=[]\n",
    "minimum=[]"
   ]
  },
  {
   "cell_type": "markdown",
   "metadata": {},
   "source": [
    "# Q6 : Scrape data of first 100 sunglasses listings on flipkart.com. You have to scrape four attributes:\n"
   ]
  },
  {
   "cell_type": "code",
   "execution_count": 80,
   "metadata": {},
   "outputs": [],
   "source": [
    "driver=webdriver.Chrome(r\"C:\\Users\\sidse\\Downloads\\chromedriver_win32\\chromedriver.exe\")"
   ]
  },
  {
   "cell_type": "code",
   "execution_count": 81,
   "metadata": {},
   "outputs": [],
   "source": [
    "driver.get('https://www.flipkart.com/')"
   ]
  },
  {
   "cell_type": "code",
   "execution_count": 82,
   "metadata": {},
   "outputs": [],
   "source": [
    "brand=[]\n",
    "price=[]\n",
    "discount=[]\n",
    "description=[]"
   ]
  },
  {
   "cell_type": "code",
   "execution_count": 83,
   "metadata": {},
   "outputs": [],
   "source": [
    "search_job=driver.find_element_by_xpath(\"//input[@class='_3704LK']\")\n",
    "search_job.send_keys('sunglasses')"
   ]
  },
  {
   "cell_type": "code",
   "execution_count": 84,
   "metadata": {},
   "outputs": [],
   "source": [
    "search_button=driver.find_element_by_xpath(\"//button[@class='L0Z3Pu']\")\n",
    "search_button.click()"
   ]
  },
  {
   "cell_type": "code",
   "execution_count": 85,
   "metadata": {},
   "outputs": [],
   "source": [
    "start_page=0\n",
    "end_page=2"
   ]
  },
  {
   "cell_type": "code",
   "execution_count": 86,
   "metadata": {},
   "outputs": [],
   "source": [
    "urls=[]"
   ]
  },
  {
   "cell_type": "code",
   "execution_count": 87,
   "metadata": {},
   "outputs": [],
   "source": [
    "#loop to fetch urls of each sun till page 3\n",
    "for page in range(start_page,end_page+1):\n",
    "        soup= BeautifulSoup(driver.page_source, 'html.parser')\n",
    "        prod_urls = driver.find_elements_by_xpath(\"//div[@class='_2B099V']//a[1]\")\n",
    "        for prod in prod_urls:\n",
    "            urls.append(prod.get_attribute('href'))\n",
    "    "
   ]
  },
  {
   "cell_type": "code",
   "execution_count": 89,
   "metadata": {},
   "outputs": [
    {
     "data": {
      "text/plain": [
       "['https://www.flipkart.com/style-guru-spectacle-sunglasses/p/itm015f5a752fdce?pid=SGLFU8GEFYJAETYF&lid=LSTSGLFU8GEFYJAETYFFRG8E8&marketplace=FLIPKART&srno=s_1_1&otracker=search&otracker1=search&fm=SEARCH&iid=en_4zE19KmWmwz7gdmU0aHhaVxVNBd5GnnHpA4l2xks7ccA8AAFZVDPSjMVVKXmQl9qSjlHJUu9stzgMBDRpOvG1A%3D%3D&ppt=sp&ppn=sp&ssid=7hqt17myk00000001608125375798&qH=2cc465e3eef5bff0',\n",
       " 'https://www.flipkart.com/royal-son-retro-square-sunglasses/p/itm8c69d55bf5d3c?pid=SGLFPBJEYH6QQHTP&lid=LSTSGLFPBJEYH6QQHTPMNY7JE&marketplace=FLIPKART&srno=s_1_2&otracker=search&otracker1=search&fm=SEARCH&iid=en_4zE19KmWmwz7gdmU0aHhaVxVNBd5GnnHpA4l2xks7cel2f%2F8wrCsP8CHz9Z15GqlcqaIw3BI0Z5%2F7UzVtz3QcQ%3D%3D&ppt=sp&ppn=sp&ssid=7hqt17myk00000001608125375798&qH=2cc465e3eef5bff0',\n",
       " 'https://www.flipkart.com/fda-collection-round-round-sunglasses/p/itm3f5368b61ef49?pid=SGLFQFNKAYGHHH7B&lid=LSTSGLFQFNKAYGHHH7BSYUPEP&marketplace=FLIPKART&srno=s_1_3&otracker=search&otracker1=search&fm=SEARCH&iid=781876a9-bd11-4581-acb7-5512971f7ee7.SGLFQFNKAYGHHH7B.SEARCH&ppt=sp&ppn=sp&ssid=7hqt17myk00000001608125375798&qH=2cc465e3eef5bff0',\n",
       " 'https://www.flipkart.com/fda-collection-round-round-sunglasses/p/itm49459241e2626?pid=SGLFX7QS2U4PZEKZ&lid=LSTSGLFX7QS2U4PZEKZGZVMBR&marketplace=FLIPKART&srno=s_1_4&otracker=search&otracker1=search&fm=SEARCH&iid=781876a9-bd11-4581-acb7-5512971f7ee7.SGLFX7QS2U4PZEKZ.SEARCH&ppt=sp&ppn=sp&ssid=7hqt17myk00000001608125375798&qH=2cc465e3eef5bff0',\n",
       " 'https://www.flipkart.com/rozzetta-craft-rectangular-sunglasses/p/itmbcdad02770603?pid=SGLFSSFAYTD858TY&lid=LSTSGLFSSFAYTD858TYZROTZL&marketplace=FLIPKART&srno=s_1_5&otracker=search&otracker1=search&fm=SEARCH&iid=781876a9-bd11-4581-acb7-5512971f7ee7.SGLFSSFAYTD858TY.SEARCH&ppt=sp&ppn=sp&ssid=7hqt17myk00000001608125375798&qH=2cc465e3eef5bff0',\n",
       " 'https://www.flipkart.com/phenomenal-retro-square-sunglasses/p/itm1ead9ddbbb3d8?pid=SGLFUBFWNBFEAVD3&lid=LSTSGLFUBFWNBFEAVD31E0HIC&marketplace=FLIPKART&srno=s_1_6&otracker=search&otracker1=search&fm=SEARCH&iid=781876a9-bd11-4581-acb7-5512971f7ee7.SGLFUBFWNBFEAVD3.SEARCH&ppt=sp&ppn=sp&ssid=7hqt17myk00000001608125375798&qH=2cc465e3eef5bff0',\n",
       " 'https://www.flipkart.com/rozzetta-craft-retro-square-sunglasses/p/itmeb0ea3b86689f?pid=SGLFZFZNAQNZHYB7&lid=LSTSGLFZFZNAQNZHYB7GZ3YO5&marketplace=FLIPKART&spotlightTagId=TrendingId_26x&srno=s_1_7&otracker=search&otracker1=search&fm=SEARCH&iid=781876a9-bd11-4581-acb7-5512971f7ee7.SGLFZFZNAQNZHYB7.SEARCH&ppt=sp&ppn=sp&ssid=7hqt17myk00000001608125375798&qH=2cc465e3eef5bff0',\n",
       " 'https://www.flipkart.com/singco-india-aviator-sunglasses/p/itm67290a4103a13?pid=SGLFZGN2KNSBTQEJ&lid=LSTSGLFZGN2KNSBTQEJVKJVQ4&marketplace=FLIPKART&srno=s_1_8&otracker=search&otracker1=search&fm=SEARCH&iid=en_4zE19KmWmwz7gdmU0aHhaVxVNBd5GnnHpA4l2xks7ceW%2F9mkcCA6sg85nolwwBgiCoCwKWwoEIdRfj4ahl3SOg%3D%3D&ppt=sp&ppn=sp&ssid=7hqt17myk00000001608125375798&qH=2cc465e3eef5bff0',\n",
       " 'https://www.flipkart.com/fda-collection-round-round-sunglasses/p/itmc81a9a1e9862a?pid=SGLFPXZFY3R2XKYQ&lid=LSTSGLFPXZFY3R2XKYQPAFOKZ&marketplace=FLIPKART&srno=s_1_9&otracker=search&otracker1=search&fm=SEARCH&iid=781876a9-bd11-4581-acb7-5512971f7ee7.SGLFPXZFY3R2XKYQ.SEARCH&ppt=sp&ppn=sp&ssid=7hqt17myk00000001608125375798&qH=2cc465e3eef5bff0',\n",
       " 'https://www.flipkart.com/winsome-round-sunglasses/p/itm15ada8920ffef?pid=SGLFUTGBH8X44VDC&lid=LSTSGLFUTGBH8X44VDC4FCBSY&marketplace=FLIPKART&srno=s_1_10&otracker=search&otracker1=search&fm=SEARCH&iid=781876a9-bd11-4581-acb7-5512971f7ee7.SGLFUTGBH8X44VDC.SEARCH&ppt=sp&ppn=sp&ssid=7hqt17myk00000001608125375798&qH=2cc465e3eef5bff0',\n",
       " 'https://www.flipkart.com/johaena-oval-sunglasses/p/itm07beebf8fad79?pid=SGLFGFF3MHNFHFVG&lid=LSTSGLFGFF3MHNFHFVGD9JYDO&marketplace=FLIPKART&srno=s_1_11&otracker=search&otracker1=search&fm=SEARCH&iid=781876a9-bd11-4581-acb7-5512971f7ee7.SGLFGFF3MHNFHFVG.SEARCH&ppt=sp&ppn=sp&ssid=7hqt17myk00000001608125375798&qH=2cc465e3eef5bff0',\n",
       " 'https://www.flipkart.com/royal-son-retro-square-sunglasses/p/itmbe79f1da8ad67?pid=SGLFH3QZHHC7UYYF&lid=LSTSGLFH3QZHHC7UYYF9LDNRC&marketplace=FLIPKART&srno=s_1_12&otracker=search&otracker1=search&fm=SEARCH&iid=en_4zE19KmWmwz7gdmU0aHhaVxVNBd5GnnHpA4l2xks7cdwEWBObx0w8gczeUDvCQc2gFa4DVh4NEIxr9QWo5ku8A%3D%3D&ppt=sp&ppn=sp&ssid=7hqt17myk00000001608125375798&qH=2cc465e3eef5bff0',\n",
       " 'https://www.flipkart.com/trendy-glasses-retro-square-sunglasses/p/itmd5ee022ef69ec?pid=SGLFH2SXVRYC8ZG6&lid=LSTSGLFH2SXVRYC8ZG6IHPGZY&marketplace=FLIPKART&srno=s_1_13&otracker=search&otracker1=search&fm=SEARCH&iid=781876a9-bd11-4581-acb7-5512971f7ee7.SGLFH2SXVRYC8ZG6.SEARCH&ppt=sp&ppn=sp&ssid=7hqt17myk00000001608125375798&qH=2cc465e3eef5bff0',\n",
       " 'https://www.flipkart.com/phenomenal-retro-square-sunglasses/p/itm05605e75ed801?pid=SGLFUXYAXFHYQAK4&lid=LSTSGLFUXYAXFHYQAK4VF4MKG&marketplace=FLIPKART&srno=s_1_14&otracker=search&otracker1=search&fm=SEARCH&iid=781876a9-bd11-4581-acb7-5512971f7ee7.SGLFUXYAXFHYQAK4.SEARCH&ppt=sp&ppn=sp&ssid=7hqt17myk00000001608125375798&qH=2cc465e3eef5bff0',\n",
       " 'https://www.flipkart.com/dannilo-aviator-sunglasses/p/itmffk5ghhfeshmn?pid=SGLFFJ9MGBHREUPY&lid=LSTSGLFFJ9MGBHREUPYYKLDKZ&marketplace=FLIPKART&srno=s_1_15&otracker=search&otracker1=search&fm=SEARCH&iid=781876a9-bd11-4581-acb7-5512971f7ee7.SGLFFJ9MGBHREUPY.SEARCH&ppt=sp&ppn=sp&ssid=7hqt17myk00000001608125375798&qH=2cc465e3eef5bff0',\n",
       " 'https://www.flipkart.com/royal-son-retro-square-sunglasses/p/itm212388ef7fc65?pid=SGLFNFU4MMKYSCFH&lid=LSTSGLFNFU4MMKYSCFHCNIBKD&marketplace=FLIPKART&srno=s_1_16&otracker=search&otracker1=search&fm=SEARCH&iid=en_4zE19KmWmwz7gdmU0aHhaVxVNBd5GnnHpA4l2xks7ce6wr4h0Izu1crY%2BWa%2Bt4nfl9RyuLAmn1gKqb5FjUmCnQ%3D%3D&ppt=sp&ppn=sp&ssid=7hqt17myk00000001608125375798&qH=2cc465e3eef5bff0',\n",
       " 'https://www.flipkart.com/shah-collections-round-sunglasses/p/itmf51429d1a6c1f?pid=SGLFSHGG3S8YYBUG&lid=LSTSGLFSHGG3S8YYBUGHRQO2Z&marketplace=FLIPKART&srno=s_1_17&otracker=search&otracker1=search&fm=SEARCH&iid=781876a9-bd11-4581-acb7-5512971f7ee7.SGLFSHGG3S8YYBUG.SEARCH&ppt=sp&ppn=sp&ssid=7hqt17myk00000001608125375798&qH=2cc465e3eef5bff0',\n",
       " 'https://www.flipkart.com/funglasses-round-sunglasses/p/itmd5ffc7973ae46?pid=SGLFZBYYEHCPNRW3&lid=LSTSGLFZBYYEHCPNRW37HBBJE&marketplace=FLIPKART&spotlightTagId=BestsellerId_26x&srno=s_1_18&otracker=search&otracker1=search&fm=SEARCH&iid=781876a9-bd11-4581-acb7-5512971f7ee7.SGLFZBYYEHCPNRW3.SEARCH&ppt=sp&ppn=sp&ssid=7hqt17myk00000001608125375798&qH=2cc465e3eef5bff0',\n",
       " 'https://www.flipkart.com/shah-collections-round-sunglasses/p/itm9cb69e9a47751?pid=SGLFNSGKGZGGGAXC&lid=LSTSGLFNSGKGZGGGAXCYXJ7SK&marketplace=FLIPKART&srno=s_1_19&otracker=search&otracker1=search&fm=SEARCH&iid=781876a9-bd11-4581-acb7-5512971f7ee7.SGLFNSGKGZGGGAXC.SEARCH&ppt=sp&ppn=sp&ssid=7hqt17myk00000001608125375798&qH=2cc465e3eef5bff0',\n",
       " 'https://www.flipkart.com/specsmakers-aviator-sunglasses/p/itm265a97f2d9d01?pid=SGLFWG4UEJEGBRHP&lid=LSTSGLFWG4UEJEGBRHP9Z52CL&marketplace=FLIPKART&srno=s_1_20&otracker=search&otracker1=search&fm=SEARCH&iid=en_4zE19KmWmwz7gdmU0aHhaVxVNBd5GnnHpA4l2xks7ce80E1tRtRlU8MI5zmK0HW7SdyfE6bQ9sM9lN5tTvIMUw%3D%3D&ppt=sp&ppn=sp&ssid=7hqt17myk00000001608125375798&qH=2cc465e3eef5bff0',\n",
       " 'https://www.flipkart.com/shadz-retro-square-sunglasses/p/itmde4f960a523d1?pid=SGLFWSF7RYZHVKYN&lid=LSTSGLFWSF7RYZHVKYN887YMX&marketplace=FLIPKART&srno=s_1_21&otracker=search&otracker1=search&fm=SEARCH&iid=781876a9-bd11-4581-acb7-5512971f7ee7.SGLFWSF7RYZHVKYN.SEARCH&ppt=sp&ppn=sp&ssid=7hqt17myk00000001608125375798&qH=2cc465e3eef5bff0',\n",
       " 'https://www.flipkart.com/fastrack-wayfarer-sunglasses/p/itmf79dqhfca7q8t?pid=SGLF79DQWCWEFUNR&lid=LSTSGLF79DQWCWEFUNRB9EV8J&marketplace=FLIPKART&srno=s_1_22&otracker=search&otracker1=search&fm=SEARCH&iid=781876a9-bd11-4581-acb7-5512971f7ee7.SGLF79DQWCWEFUNR.SEARCH&ppt=sp&ppn=sp&ssid=7hqt17myk00000001608125375798&qH=2cc465e3eef5bff0',\n",
       " 'https://www.flipkart.com/trendy-glasses-retro-square-sunglasses/p/itme4a78db7b8c3c?pid=SGLFMBYCEGBHG6KM&lid=LSTSGLFMBYCEGBHG6KMRD4OEG&marketplace=FLIPKART&srno=s_1_23&otracker=search&otracker1=search&fm=SEARCH&iid=781876a9-bd11-4581-acb7-5512971f7ee7.SGLFMBYCEGBHG6KM.SEARCH&ppt=sp&ppn=sp&ssid=7hqt17myk00000001608125375798&qH=2cc465e3eef5bff0',\n",
       " 'https://www.flipkart.com/stylish-guys-retro-square-sunglasses/p/itm71b0eff78bac0?pid=SGLFUAHZQFASWA47&lid=LSTSGLFUAHZQFASWA47I1KET9&marketplace=FLIPKART&srno=s_1_24&otracker=search&otracker1=search&fm=SEARCH&iid=en_4zE19KmWmwz7gdmU0aHhaVxVNBd5GnnHpA4l2xks7ccTXLRWnkM4Eprxr8IyL8%2Fqk7AJsvPzrvC01Lbs5nINzg%3D%3D&ppt=sp&ppn=sp&ssid=7hqt17myk00000001608125375798&qH=2cc465e3eef5bff0',\n",
       " 'https://www.flipkart.com/lopo-retro-square-over-sized-rectangular-sunglasses/p/itm5aa4bebb6c216?pid=SGLFXBGYZ4PHRX4E&lid=LSTSGLFXBGYZ4PHRX4E7Q67QP&marketplace=FLIPKART&srno=s_1_25&otracker=search&otracker1=search&fm=SEARCH&iid=781876a9-bd11-4581-acb7-5512971f7ee7.SGLFXBGYZ4PHRX4E.SEARCH&ppt=sp&ppn=sp&ssid=7hqt17myk00000001608125375798&qH=2cc465e3eef5bff0',\n",
       " 'https://www.flipkart.com/riffko-wayfarer-sunglasses/p/itm2bd5c095da127?pid=SGLFK5PNPMJUFEWP&lid=LSTSGLFK5PNPMJUFEWP83WKXF&marketplace=FLIPKART&srno=s_1_26&otracker=search&otracker1=search&fm=SEARCH&iid=781876a9-bd11-4581-acb7-5512971f7ee7.SGLFK5PNPMJUFEWP.SEARCH&ppt=sp&ppn=sp&ssid=7hqt17myk00000001608125375798&qH=2cc465e3eef5bff0',\n",
       " 'https://www.flipkart.com/shadz-wayfarer-sunglasses/p/itmffm5rtpzgfj4a?pid=SGLFFHTFKEDKMRVK&lid=LSTSGLFFHTFKEDKMRVKL6DNBQ&marketplace=FLIPKART&srno=s_1_27&otracker=search&otracker1=search&fm=SEARCH&iid=781876a9-bd11-4581-acb7-5512971f7ee7.SGLFFHTFKEDKMRVK.SEARCH&ppt=sp&ppn=sp&ssid=7hqt17myk00000001608125375798&qH=2cc465e3eef5bff0',\n",
       " 'https://www.flipkart.com/royal-son-sports-sunglasses/p/itm4231e4ff304fb?pid=SGLFPBJCA82CTERG&lid=LSTSGLFPBJCA82CTERG2FMZNZ&marketplace=FLIPKART&srno=s_1_28&otracker=search&otracker1=search&fm=SEARCH&iid=en_4zE19KmWmwz7gdmU0aHhaVxVNBd5GnnHpA4l2xks7cc3yk9Fnc%2BbqQy3yXVjgeJGudbtJrVfHzI8TF3QbRfOlQ%3D%3D&ppt=sp&ppn=sp&ssid=7hqt17myk00000001608125375798&qH=2cc465e3eef5bff0',\n",
       " 'https://www.flipkart.com/singco-india-aviator-sunglasses/p/itmf5b6c6e88f44a?pid=SGLFF9BTZUQZGZ3H&lid=LSTSGLFF9BTZUQZGZ3HMQDMDM&marketplace=FLIPKART&srno=s_1_29&otracker=search&otracker1=search&fm=SEARCH&iid=781876a9-bd11-4581-acb7-5512971f7ee7.SGLFF9BTZUQZGZ3H.SEARCH&ppt=sp&ppn=sp&ssid=7hqt17myk00000001608125375798&qH=2cc465e3eef5bff0',\n",
       " 'https://www.flipkart.com/phenomenal-rectangular-sunglasses/p/itmd7c291940786c?pid=SGLFX4ZVCDGVGMSK&lid=LSTSGLFX4ZVCDGVGMSKSBXMUK&marketplace=FLIPKART&srno=s_1_30&otracker=search&otracker1=search&fm=SEARCH&iid=781876a9-bd11-4581-acb7-5512971f7ee7.SGLFX4ZVCDGVGMSK.SEARCH&ppt=sp&ppn=sp&ssid=7hqt17myk00000001608125375798&qH=2cc465e3eef5bff0',\n",
       " 'https://www.flipkart.com/riffko-round-sunglasses/p/itmfdpmkbzzfxzaj?pid=SGLFDZTY7QM2AY7F&lid=LSTSGLFDZTY7QM2AY7FNH2EZB&marketplace=FLIPKART&srno=s_1_31&otracker=search&otracker1=search&fm=SEARCH&iid=781876a9-bd11-4581-acb7-5512971f7ee7.SGLFDZTY7QM2AY7F.SEARCH&ppt=sp&ppn=sp&ssid=7hqt17myk00000001608125375798&qH=2cc465e3eef5bff0',\n",
       " 'https://www.flipkart.com/royal-son-sports-sunglasses/p/itmb6798541dac0b?pid=SGLFPBJEQ4MCSRW6&lid=LSTSGLFPBJEQ4MCSRW6SYHKII&marketplace=FLIPKART&srno=s_1_32&otracker=search&otracker1=search&fm=SEARCH&iid=en_4zE19KmWmwz7gdmU0aHhaVxVNBd5GnnHpA4l2xks7ce4bQ%2Fg3DDT1qjxCQEmwHgZfED1nSGk3ua7XNKfuVxDdw%3D%3D&ppt=sp&ppn=sp&ssid=7hqt17myk00000001608125375798&qH=2cc465e3eef5bff0',\n",
       " 'https://www.flipkart.com/piraso-aviator-sunglasses/p/itm405062704fcc0?pid=SGLFTYY5NWNKSC64&lid=LSTSGLFTYY5NWNKSC64YLGIVW&marketplace=FLIPKART&srno=s_1_33&otracker=search&otracker1=search&fm=SEARCH&iid=781876a9-bd11-4581-acb7-5512971f7ee7.SGLFTYY5NWNKSC64.SEARCH&ppt=sp&ppn=sp&ssid=7hqt17myk00000001608125375798&qH=2cc465e3eef5bff0',\n",
       " 'https://www.flipkart.com/rozzetta-craft-rectangular-sunglasses/p/itmc07cb7e8aec50?pid=SGLFSZV6PXGZGZGX&lid=LSTSGLFSZV6PXGZGZGXNWELSX&marketplace=FLIPKART&srno=s_1_34&otracker=search&otracker1=search&fm=SEARCH&iid=781876a9-bd11-4581-acb7-5512971f7ee7.SGLFSZV6PXGZGZGX.SEARCH&ppt=sp&ppn=sp&ssid=7hqt17myk00000001608125375798&qH=2cc465e3eef5bff0',\n",
       " 'https://www.flipkart.com/like-future-aviator-sunglasses/p/itmff34qrrwyecyk?pid=SGLFF335BFZVK42U&lid=LSTSGLFF335BFZVK42UCIDGJX&marketplace=FLIPKART&srno=s_1_35&otracker=search&otracker1=search&fm=SEARCH&iid=781876a9-bd11-4581-acb7-5512971f7ee7.SGLFF335BFZVK42U.SEARCH&ppt=sp&ppn=sp&ssid=7hqt17myk00000001608125375798&qH=2cc465e3eef5bff0',\n",
       " 'https://www.flipkart.com/royal-son-sports-sunglasses/p/itm018e6fe157566?pid=SGLFPBJCGHD6XEYK&lid=LSTSGLFPBJCGHD6XEYKAMCZOO&marketplace=FLIPKART&srno=s_1_36&otracker=search&otracker1=search&fm=SEARCH&iid=en_4zE19KmWmwz7gdmU0aHhaVxVNBd5GnnHpA4l2xks7cdWdwZMISeAYwhpt2AgQRVrWBErR5wgdzvs5FdQT8A61w%3D%3D&ppt=sp&ppn=sp&ssid=7hqt17myk00000001608125375798&qH=2cc465e3eef5bff0',\n",
       " 'https://www.flipkart.com/funglasses-round-round-sunglasses/p/itma8243c184bdcf?pid=SGLFSFT4PFQJZQDA&lid=LSTSGLFSFT4PFQJZQDABPALBA&marketplace=FLIPKART&srno=s_1_37&otracker=search&otracker1=search&fm=SEARCH&iid=781876a9-bd11-4581-acb7-5512971f7ee7.SGLFSFT4PFQJZQDA.SEARCH&ppt=sp&ppn=sp&ssid=7hqt17myk00000001608125375798&qH=2cc465e3eef5bff0',\n",
       " 'https://www.flipkart.com/rozzetta-craft-rectangular-sunglasses/p/itm7e717fb4e4af0?pid=SGLFX84MT48ZH7RZ&lid=LSTSGLFX84MT48ZH7RZPN64SZ&marketplace=FLIPKART&srno=s_1_38&otracker=search&otracker1=search&fm=SEARCH&iid=781876a9-bd11-4581-acb7-5512971f7ee7.SGLFX84MT48ZH7RZ.SEARCH&ppt=sp&ppn=sp&ssid=7hqt17myk00000001608125375798&qH=2cc465e3eef5bff0',\n",
       " 'https://www.flipkart.com/hamiw-collection-wayfarer-sports-shield-rectangular-retro-square-sunglasses/p/itme15648f3a4842?pid=SGLFX9FFSBSGV9DB&lid=LSTSGLFX9FFSBSGV9DBZB06YQ&marketplace=FLIPKART&srno=s_1_39&otracker=search&otracker1=search&fm=SEARCH&iid=781876a9-bd11-4581-acb7-5512971f7ee7.SGLFX9FFSBSGV9DB.SEARCH&ppt=sp&ppn=sp&ssid=7hqt17myk00000001608125375798&qH=2cc465e3eef5bff0',\n",
       " 'https://www.flipkart.com/specsmakers-wayfarer-sunglasses/p/itm0e9d068b356c2?pid=SGLFWHFGTMFGHDJU&lid=LSTSGLFWHFGTMFGHDJUDGMCCG&marketplace=FLIPKART&srno=s_1_40&otracker=search&otracker1=search&fm=SEARCH&iid=en_4zE19KmWmwz7gdmU0aHhaVxVNBd5GnnHpA4l2xks7ce4MVY8NBBwKoxGQIo4xw5CM5zWO5mTLvsrSx5JANZPrg%3D%3D&ppt=sp&ppn=sp&ssid=7hqt17myk00000001608125375798&qH=2cc465e3eef5bff0',\n",
       " 'https://www.flipkart.com/style-guru-spectacle-sunglasses/p/itm015f5a752fdce?pid=SGLFU8GEFYJAETYF&lid=LSTSGLFU8GEFYJAETYFFRG8E8&marketplace=FLIPKART&srno=s_1_1&otracker=search&otracker1=search&fm=SEARCH&iid=en_4zE19KmWmwz7gdmU0aHhaVxVNBd5GnnHpA4l2xks7ccA8AAFZVDPSjMVVKXmQl9qSjlHJUu9stzgMBDRpOvG1A%3D%3D&ppt=sp&ppn=sp&ssid=7hqt17myk00000001608125375798&qH=2cc465e3eef5bff0',\n",
       " 'https://www.flipkart.com/royal-son-retro-square-sunglasses/p/itm8c69d55bf5d3c?pid=SGLFPBJEYH6QQHTP&lid=LSTSGLFPBJEYH6QQHTPMNY7JE&marketplace=FLIPKART&srno=s_1_2&otracker=search&otracker1=search&fm=SEARCH&iid=en_4zE19KmWmwz7gdmU0aHhaVxVNBd5GnnHpA4l2xks7cel2f%2F8wrCsP8CHz9Z15GqlcqaIw3BI0Z5%2F7UzVtz3QcQ%3D%3D&ppt=sp&ppn=sp&ssid=7hqt17myk00000001608125375798&qH=2cc465e3eef5bff0',\n",
       " 'https://www.flipkart.com/fda-collection-round-round-sunglasses/p/itm3f5368b61ef49?pid=SGLFQFNKAYGHHH7B&lid=LSTSGLFQFNKAYGHHH7BSYUPEP&marketplace=FLIPKART&srno=s_1_3&otracker=search&otracker1=search&fm=SEARCH&iid=781876a9-bd11-4581-acb7-5512971f7ee7.SGLFQFNKAYGHHH7B.SEARCH&ppt=sp&ppn=sp&ssid=7hqt17myk00000001608125375798&qH=2cc465e3eef5bff0',\n",
       " 'https://www.flipkart.com/fda-collection-round-round-sunglasses/p/itm49459241e2626?pid=SGLFX7QS2U4PZEKZ&lid=LSTSGLFX7QS2U4PZEKZGZVMBR&marketplace=FLIPKART&srno=s_1_4&otracker=search&otracker1=search&fm=SEARCH&iid=781876a9-bd11-4581-acb7-5512971f7ee7.SGLFX7QS2U4PZEKZ.SEARCH&ppt=sp&ppn=sp&ssid=7hqt17myk00000001608125375798&qH=2cc465e3eef5bff0',\n",
       " 'https://www.flipkart.com/rozzetta-craft-rectangular-sunglasses/p/itmbcdad02770603?pid=SGLFSSFAYTD858TY&lid=LSTSGLFSSFAYTD858TYZROTZL&marketplace=FLIPKART&srno=s_1_5&otracker=search&otracker1=search&fm=SEARCH&iid=781876a9-bd11-4581-acb7-5512971f7ee7.SGLFSSFAYTD858TY.SEARCH&ppt=sp&ppn=sp&ssid=7hqt17myk00000001608125375798&qH=2cc465e3eef5bff0',\n",
       " 'https://www.flipkart.com/phenomenal-retro-square-sunglasses/p/itm1ead9ddbbb3d8?pid=SGLFUBFWNBFEAVD3&lid=LSTSGLFUBFWNBFEAVD31E0HIC&marketplace=FLIPKART&srno=s_1_6&otracker=search&otracker1=search&fm=SEARCH&iid=781876a9-bd11-4581-acb7-5512971f7ee7.SGLFUBFWNBFEAVD3.SEARCH&ppt=sp&ppn=sp&ssid=7hqt17myk00000001608125375798&qH=2cc465e3eef5bff0',\n",
       " 'https://www.flipkart.com/rozzetta-craft-retro-square-sunglasses/p/itmeb0ea3b86689f?pid=SGLFZFZNAQNZHYB7&lid=LSTSGLFZFZNAQNZHYB7GZ3YO5&marketplace=FLIPKART&spotlightTagId=TrendingId_26x&srno=s_1_7&otracker=search&otracker1=search&fm=SEARCH&iid=781876a9-bd11-4581-acb7-5512971f7ee7.SGLFZFZNAQNZHYB7.SEARCH&ppt=sp&ppn=sp&ssid=7hqt17myk00000001608125375798&qH=2cc465e3eef5bff0',\n",
       " 'https://www.flipkart.com/singco-india-aviator-sunglasses/p/itm67290a4103a13?pid=SGLFZGN2KNSBTQEJ&lid=LSTSGLFZGN2KNSBTQEJVKJVQ4&marketplace=FLIPKART&srno=s_1_8&otracker=search&otracker1=search&fm=SEARCH&iid=en_4zE19KmWmwz7gdmU0aHhaVxVNBd5GnnHpA4l2xks7ceW%2F9mkcCA6sg85nolwwBgiCoCwKWwoEIdRfj4ahl3SOg%3D%3D&ppt=sp&ppn=sp&ssid=7hqt17myk00000001608125375798&qH=2cc465e3eef5bff0',\n",
       " 'https://www.flipkart.com/fda-collection-round-round-sunglasses/p/itmc81a9a1e9862a?pid=SGLFPXZFY3R2XKYQ&lid=LSTSGLFPXZFY3R2XKYQPAFOKZ&marketplace=FLIPKART&srno=s_1_9&otracker=search&otracker1=search&fm=SEARCH&iid=781876a9-bd11-4581-acb7-5512971f7ee7.SGLFPXZFY3R2XKYQ.SEARCH&ppt=sp&ppn=sp&ssid=7hqt17myk00000001608125375798&qH=2cc465e3eef5bff0',\n",
       " 'https://www.flipkart.com/winsome-round-sunglasses/p/itm15ada8920ffef?pid=SGLFUTGBH8X44VDC&lid=LSTSGLFUTGBH8X44VDC4FCBSY&marketplace=FLIPKART&srno=s_1_10&otracker=search&otracker1=search&fm=SEARCH&iid=781876a9-bd11-4581-acb7-5512971f7ee7.SGLFUTGBH8X44VDC.SEARCH&ppt=sp&ppn=sp&ssid=7hqt17myk00000001608125375798&qH=2cc465e3eef5bff0',\n",
       " 'https://www.flipkart.com/johaena-oval-sunglasses/p/itm07beebf8fad79?pid=SGLFGFF3MHNFHFVG&lid=LSTSGLFGFF3MHNFHFVGD9JYDO&marketplace=FLIPKART&srno=s_1_11&otracker=search&otracker1=search&fm=SEARCH&iid=781876a9-bd11-4581-acb7-5512971f7ee7.SGLFGFF3MHNFHFVG.SEARCH&ppt=sp&ppn=sp&ssid=7hqt17myk00000001608125375798&qH=2cc465e3eef5bff0',\n",
       " 'https://www.flipkart.com/royal-son-retro-square-sunglasses/p/itmbe79f1da8ad67?pid=SGLFH3QZHHC7UYYF&lid=LSTSGLFH3QZHHC7UYYF9LDNRC&marketplace=FLIPKART&srno=s_1_12&otracker=search&otracker1=search&fm=SEARCH&iid=en_4zE19KmWmwz7gdmU0aHhaVxVNBd5GnnHpA4l2xks7cdwEWBObx0w8gczeUDvCQc2gFa4DVh4NEIxr9QWo5ku8A%3D%3D&ppt=sp&ppn=sp&ssid=7hqt17myk00000001608125375798&qH=2cc465e3eef5bff0',\n",
       " 'https://www.flipkart.com/trendy-glasses-retro-square-sunglasses/p/itmd5ee022ef69ec?pid=SGLFH2SXVRYC8ZG6&lid=LSTSGLFH2SXVRYC8ZG6IHPGZY&marketplace=FLIPKART&srno=s_1_13&otracker=search&otracker1=search&fm=SEARCH&iid=781876a9-bd11-4581-acb7-5512971f7ee7.SGLFH2SXVRYC8ZG6.SEARCH&ppt=sp&ppn=sp&ssid=7hqt17myk00000001608125375798&qH=2cc465e3eef5bff0',\n",
       " 'https://www.flipkart.com/phenomenal-retro-square-sunglasses/p/itm05605e75ed801?pid=SGLFUXYAXFHYQAK4&lid=LSTSGLFUXYAXFHYQAK4VF4MKG&marketplace=FLIPKART&srno=s_1_14&otracker=search&otracker1=search&fm=SEARCH&iid=781876a9-bd11-4581-acb7-5512971f7ee7.SGLFUXYAXFHYQAK4.SEARCH&ppt=sp&ppn=sp&ssid=7hqt17myk00000001608125375798&qH=2cc465e3eef5bff0',\n",
       " 'https://www.flipkart.com/dannilo-aviator-sunglasses/p/itmffk5ghhfeshmn?pid=SGLFFJ9MGBHREUPY&lid=LSTSGLFFJ9MGBHREUPYYKLDKZ&marketplace=FLIPKART&srno=s_1_15&otracker=search&otracker1=search&fm=SEARCH&iid=781876a9-bd11-4581-acb7-5512971f7ee7.SGLFFJ9MGBHREUPY.SEARCH&ppt=sp&ppn=sp&ssid=7hqt17myk00000001608125375798&qH=2cc465e3eef5bff0',\n",
       " 'https://www.flipkart.com/royal-son-retro-square-sunglasses/p/itm212388ef7fc65?pid=SGLFNFU4MMKYSCFH&lid=LSTSGLFNFU4MMKYSCFHCNIBKD&marketplace=FLIPKART&srno=s_1_16&otracker=search&otracker1=search&fm=SEARCH&iid=en_4zE19KmWmwz7gdmU0aHhaVxVNBd5GnnHpA4l2xks7ce6wr4h0Izu1crY%2BWa%2Bt4nfl9RyuLAmn1gKqb5FjUmCnQ%3D%3D&ppt=sp&ppn=sp&ssid=7hqt17myk00000001608125375798&qH=2cc465e3eef5bff0',\n",
       " 'https://www.flipkart.com/shah-collections-round-sunglasses/p/itmf51429d1a6c1f?pid=SGLFSHGG3S8YYBUG&lid=LSTSGLFSHGG3S8YYBUGHRQO2Z&marketplace=FLIPKART&srno=s_1_17&otracker=search&otracker1=search&fm=SEARCH&iid=781876a9-bd11-4581-acb7-5512971f7ee7.SGLFSHGG3S8YYBUG.SEARCH&ppt=sp&ppn=sp&ssid=7hqt17myk00000001608125375798&qH=2cc465e3eef5bff0',\n",
       " 'https://www.flipkart.com/funglasses-round-sunglasses/p/itmd5ffc7973ae46?pid=SGLFZBYYEHCPNRW3&lid=LSTSGLFZBYYEHCPNRW37HBBJE&marketplace=FLIPKART&spotlightTagId=BestsellerId_26x&srno=s_1_18&otracker=search&otracker1=search&fm=SEARCH&iid=781876a9-bd11-4581-acb7-5512971f7ee7.SGLFZBYYEHCPNRW3.SEARCH&ppt=sp&ppn=sp&ssid=7hqt17myk00000001608125375798&qH=2cc465e3eef5bff0',\n",
       " 'https://www.flipkart.com/shah-collections-round-sunglasses/p/itm9cb69e9a47751?pid=SGLFNSGKGZGGGAXC&lid=LSTSGLFNSGKGZGGGAXCYXJ7SK&marketplace=FLIPKART&srno=s_1_19&otracker=search&otracker1=search&fm=SEARCH&iid=781876a9-bd11-4581-acb7-5512971f7ee7.SGLFNSGKGZGGGAXC.SEARCH&ppt=sp&ppn=sp&ssid=7hqt17myk00000001608125375798&qH=2cc465e3eef5bff0',\n",
       " 'https://www.flipkart.com/specsmakers-aviator-sunglasses/p/itm265a97f2d9d01?pid=SGLFWG4UEJEGBRHP&lid=LSTSGLFWG4UEJEGBRHP9Z52CL&marketplace=FLIPKART&srno=s_1_20&otracker=search&otracker1=search&fm=SEARCH&iid=en_4zE19KmWmwz7gdmU0aHhaVxVNBd5GnnHpA4l2xks7ce80E1tRtRlU8MI5zmK0HW7SdyfE6bQ9sM9lN5tTvIMUw%3D%3D&ppt=sp&ppn=sp&ssid=7hqt17myk00000001608125375798&qH=2cc465e3eef5bff0',\n",
       " 'https://www.flipkart.com/shadz-retro-square-sunglasses/p/itmde4f960a523d1?pid=SGLFWSF7RYZHVKYN&lid=LSTSGLFWSF7RYZHVKYN887YMX&marketplace=FLIPKART&srno=s_1_21&otracker=search&otracker1=search&fm=SEARCH&iid=781876a9-bd11-4581-acb7-5512971f7ee7.SGLFWSF7RYZHVKYN.SEARCH&ppt=sp&ppn=sp&ssid=7hqt17myk00000001608125375798&qH=2cc465e3eef5bff0',\n",
       " 'https://www.flipkart.com/fastrack-wayfarer-sunglasses/p/itmf79dqhfca7q8t?pid=SGLF79DQWCWEFUNR&lid=LSTSGLF79DQWCWEFUNRB9EV8J&marketplace=FLIPKART&srno=s_1_22&otracker=search&otracker1=search&fm=SEARCH&iid=781876a9-bd11-4581-acb7-5512971f7ee7.SGLF79DQWCWEFUNR.SEARCH&ppt=sp&ppn=sp&ssid=7hqt17myk00000001608125375798&qH=2cc465e3eef5bff0',\n",
       " 'https://www.flipkart.com/trendy-glasses-retro-square-sunglasses/p/itme4a78db7b8c3c?pid=SGLFMBYCEGBHG6KM&lid=LSTSGLFMBYCEGBHG6KMRD4OEG&marketplace=FLIPKART&srno=s_1_23&otracker=search&otracker1=search&fm=SEARCH&iid=781876a9-bd11-4581-acb7-5512971f7ee7.SGLFMBYCEGBHG6KM.SEARCH&ppt=sp&ppn=sp&ssid=7hqt17myk00000001608125375798&qH=2cc465e3eef5bff0',\n",
       " 'https://www.flipkart.com/stylish-guys-retro-square-sunglasses/p/itm71b0eff78bac0?pid=SGLFUAHZQFASWA47&lid=LSTSGLFUAHZQFASWA47I1KET9&marketplace=FLIPKART&srno=s_1_24&otracker=search&otracker1=search&fm=SEARCH&iid=en_4zE19KmWmwz7gdmU0aHhaVxVNBd5GnnHpA4l2xks7ccTXLRWnkM4Eprxr8IyL8%2Fqk7AJsvPzrvC01Lbs5nINzg%3D%3D&ppt=sp&ppn=sp&ssid=7hqt17myk00000001608125375798&qH=2cc465e3eef5bff0',\n",
       " 'https://www.flipkart.com/lopo-retro-square-over-sized-rectangular-sunglasses/p/itm5aa4bebb6c216?pid=SGLFXBGYZ4PHRX4E&lid=LSTSGLFXBGYZ4PHRX4E7Q67QP&marketplace=FLIPKART&srno=s_1_25&otracker=search&otracker1=search&fm=SEARCH&iid=781876a9-bd11-4581-acb7-5512971f7ee7.SGLFXBGYZ4PHRX4E.SEARCH&ppt=sp&ppn=sp&ssid=7hqt17myk00000001608125375798&qH=2cc465e3eef5bff0',\n",
       " 'https://www.flipkart.com/riffko-wayfarer-sunglasses/p/itm2bd5c095da127?pid=SGLFK5PNPMJUFEWP&lid=LSTSGLFK5PNPMJUFEWP83WKXF&marketplace=FLIPKART&srno=s_1_26&otracker=search&otracker1=search&fm=SEARCH&iid=781876a9-bd11-4581-acb7-5512971f7ee7.SGLFK5PNPMJUFEWP.SEARCH&ppt=sp&ppn=sp&ssid=7hqt17myk00000001608125375798&qH=2cc465e3eef5bff0',\n",
       " 'https://www.flipkart.com/shadz-wayfarer-sunglasses/p/itmffm5rtpzgfj4a?pid=SGLFFHTFKEDKMRVK&lid=LSTSGLFFHTFKEDKMRVKL6DNBQ&marketplace=FLIPKART&srno=s_1_27&otracker=search&otracker1=search&fm=SEARCH&iid=781876a9-bd11-4581-acb7-5512971f7ee7.SGLFFHTFKEDKMRVK.SEARCH&ppt=sp&ppn=sp&ssid=7hqt17myk00000001608125375798&qH=2cc465e3eef5bff0',\n",
       " 'https://www.flipkart.com/royal-son-sports-sunglasses/p/itm4231e4ff304fb?pid=SGLFPBJCA82CTERG&lid=LSTSGLFPBJCA82CTERG2FMZNZ&marketplace=FLIPKART&srno=s_1_28&otracker=search&otracker1=search&fm=SEARCH&iid=en_4zE19KmWmwz7gdmU0aHhaVxVNBd5GnnHpA4l2xks7cc3yk9Fnc%2BbqQy3yXVjgeJGudbtJrVfHzI8TF3QbRfOlQ%3D%3D&ppt=sp&ppn=sp&ssid=7hqt17myk00000001608125375798&qH=2cc465e3eef5bff0',\n",
       " 'https://www.flipkart.com/singco-india-aviator-sunglasses/p/itmf5b6c6e88f44a?pid=SGLFF9BTZUQZGZ3H&lid=LSTSGLFF9BTZUQZGZ3HMQDMDM&marketplace=FLIPKART&srno=s_1_29&otracker=search&otracker1=search&fm=SEARCH&iid=781876a9-bd11-4581-acb7-5512971f7ee7.SGLFF9BTZUQZGZ3H.SEARCH&ppt=sp&ppn=sp&ssid=7hqt17myk00000001608125375798&qH=2cc465e3eef5bff0',\n",
       " 'https://www.flipkart.com/phenomenal-rectangular-sunglasses/p/itmd7c291940786c?pid=SGLFX4ZVCDGVGMSK&lid=LSTSGLFX4ZVCDGVGMSKSBXMUK&marketplace=FLIPKART&srno=s_1_30&otracker=search&otracker1=search&fm=SEARCH&iid=781876a9-bd11-4581-acb7-5512971f7ee7.SGLFX4ZVCDGVGMSK.SEARCH&ppt=sp&ppn=sp&ssid=7hqt17myk00000001608125375798&qH=2cc465e3eef5bff0',\n",
       " 'https://www.flipkart.com/riffko-round-sunglasses/p/itmfdpmkbzzfxzaj?pid=SGLFDZTY7QM2AY7F&lid=LSTSGLFDZTY7QM2AY7FNH2EZB&marketplace=FLIPKART&srno=s_1_31&otracker=search&otracker1=search&fm=SEARCH&iid=781876a9-bd11-4581-acb7-5512971f7ee7.SGLFDZTY7QM2AY7F.SEARCH&ppt=sp&ppn=sp&ssid=7hqt17myk00000001608125375798&qH=2cc465e3eef5bff0',\n",
       " 'https://www.flipkart.com/royal-son-sports-sunglasses/p/itmb6798541dac0b?pid=SGLFPBJEQ4MCSRW6&lid=LSTSGLFPBJEQ4MCSRW6SYHKII&marketplace=FLIPKART&srno=s_1_32&otracker=search&otracker1=search&fm=SEARCH&iid=en_4zE19KmWmwz7gdmU0aHhaVxVNBd5GnnHpA4l2xks7ce4bQ%2Fg3DDT1qjxCQEmwHgZfED1nSGk3ua7XNKfuVxDdw%3D%3D&ppt=sp&ppn=sp&ssid=7hqt17myk00000001608125375798&qH=2cc465e3eef5bff0',\n",
       " 'https://www.flipkart.com/piraso-aviator-sunglasses/p/itm405062704fcc0?pid=SGLFTYY5NWNKSC64&lid=LSTSGLFTYY5NWNKSC64YLGIVW&marketplace=FLIPKART&srno=s_1_33&otracker=search&otracker1=search&fm=SEARCH&iid=781876a9-bd11-4581-acb7-5512971f7ee7.SGLFTYY5NWNKSC64.SEARCH&ppt=sp&ppn=sp&ssid=7hqt17myk00000001608125375798&qH=2cc465e3eef5bff0',\n",
       " 'https://www.flipkart.com/rozzetta-craft-rectangular-sunglasses/p/itmc07cb7e8aec50?pid=SGLFSZV6PXGZGZGX&lid=LSTSGLFSZV6PXGZGZGXNWELSX&marketplace=FLIPKART&srno=s_1_34&otracker=search&otracker1=search&fm=SEARCH&iid=781876a9-bd11-4581-acb7-5512971f7ee7.SGLFSZV6PXGZGZGX.SEARCH&ppt=sp&ppn=sp&ssid=7hqt17myk00000001608125375798&qH=2cc465e3eef5bff0',\n",
       " 'https://www.flipkart.com/like-future-aviator-sunglasses/p/itmff34qrrwyecyk?pid=SGLFF335BFZVK42U&lid=LSTSGLFF335BFZVK42UCIDGJX&marketplace=FLIPKART&srno=s_1_35&otracker=search&otracker1=search&fm=SEARCH&iid=781876a9-bd11-4581-acb7-5512971f7ee7.SGLFF335BFZVK42U.SEARCH&ppt=sp&ppn=sp&ssid=7hqt17myk00000001608125375798&qH=2cc465e3eef5bff0',\n",
       " 'https://www.flipkart.com/royal-son-sports-sunglasses/p/itm018e6fe157566?pid=SGLFPBJCGHD6XEYK&lid=LSTSGLFPBJCGHD6XEYKAMCZOO&marketplace=FLIPKART&srno=s_1_36&otracker=search&otracker1=search&fm=SEARCH&iid=en_4zE19KmWmwz7gdmU0aHhaVxVNBd5GnnHpA4l2xks7cdWdwZMISeAYwhpt2AgQRVrWBErR5wgdzvs5FdQT8A61w%3D%3D&ppt=sp&ppn=sp&ssid=7hqt17myk00000001608125375798&qH=2cc465e3eef5bff0',\n",
       " 'https://www.flipkart.com/funglasses-round-round-sunglasses/p/itma8243c184bdcf?pid=SGLFSFT4PFQJZQDA&lid=LSTSGLFSFT4PFQJZQDABPALBA&marketplace=FLIPKART&srno=s_1_37&otracker=search&otracker1=search&fm=SEARCH&iid=781876a9-bd11-4581-acb7-5512971f7ee7.SGLFSFT4PFQJZQDA.SEARCH&ppt=sp&ppn=sp&ssid=7hqt17myk00000001608125375798&qH=2cc465e3eef5bff0',\n",
       " 'https://www.flipkart.com/rozzetta-craft-rectangular-sunglasses/p/itm7e717fb4e4af0?pid=SGLFX84MT48ZH7RZ&lid=LSTSGLFX84MT48ZH7RZPN64SZ&marketplace=FLIPKART&srno=s_1_38&otracker=search&otracker1=search&fm=SEARCH&iid=781876a9-bd11-4581-acb7-5512971f7ee7.SGLFX84MT48ZH7RZ.SEARCH&ppt=sp&ppn=sp&ssid=7hqt17myk00000001608125375798&qH=2cc465e3eef5bff0',\n",
       " 'https://www.flipkart.com/hamiw-collection-wayfarer-sports-shield-rectangular-retro-square-sunglasses/p/itme15648f3a4842?pid=SGLFX9FFSBSGV9DB&lid=LSTSGLFX9FFSBSGV9DBZB06YQ&marketplace=FLIPKART&srno=s_1_39&otracker=search&otracker1=search&fm=SEARCH&iid=781876a9-bd11-4581-acb7-5512971f7ee7.SGLFX9FFSBSGV9DB.SEARCH&ppt=sp&ppn=sp&ssid=7hqt17myk00000001608125375798&qH=2cc465e3eef5bff0',\n",
       " 'https://www.flipkart.com/specsmakers-wayfarer-sunglasses/p/itm0e9d068b356c2?pid=SGLFWHFGTMFGHDJU&lid=LSTSGLFWHFGTMFGHDJUDGMCCG&marketplace=FLIPKART&srno=s_1_40&otracker=search&otracker1=search&fm=SEARCH&iid=en_4zE19KmWmwz7gdmU0aHhaVxVNBd5GnnHpA4l2xks7ce4MVY8NBBwKoxGQIo4xw5CM5zWO5mTLvsrSx5JANZPrg%3D%3D&ppt=sp&ppn=sp&ssid=7hqt17myk00000001608125375798&qH=2cc465e3eef5bff0',\n",
       " 'https://www.flipkart.com/style-guru-spectacle-sunglasses/p/itm015f5a752fdce?pid=SGLFU8GEFYJAETYF&lid=LSTSGLFU8GEFYJAETYFFRG8E8&marketplace=FLIPKART&srno=s_1_1&otracker=search&otracker1=search&fm=SEARCH&iid=en_4zE19KmWmwz7gdmU0aHhaVxVNBd5GnnHpA4l2xks7ccA8AAFZVDPSjMVVKXmQl9qSjlHJUu9stzgMBDRpOvG1A%3D%3D&ppt=sp&ppn=sp&ssid=7hqt17myk00000001608125375798&qH=2cc465e3eef5bff0',\n",
       " 'https://www.flipkart.com/royal-son-retro-square-sunglasses/p/itm8c69d55bf5d3c?pid=SGLFPBJEYH6QQHTP&lid=LSTSGLFPBJEYH6QQHTPMNY7JE&marketplace=FLIPKART&srno=s_1_2&otracker=search&otracker1=search&fm=SEARCH&iid=en_4zE19KmWmwz7gdmU0aHhaVxVNBd5GnnHpA4l2xks7cel2f%2F8wrCsP8CHz9Z15GqlcqaIw3BI0Z5%2F7UzVtz3QcQ%3D%3D&ppt=sp&ppn=sp&ssid=7hqt17myk00000001608125375798&qH=2cc465e3eef5bff0',\n",
       " 'https://www.flipkart.com/fda-collection-round-round-sunglasses/p/itm3f5368b61ef49?pid=SGLFQFNKAYGHHH7B&lid=LSTSGLFQFNKAYGHHH7BSYUPEP&marketplace=FLIPKART&srno=s_1_3&otracker=search&otracker1=search&fm=SEARCH&iid=781876a9-bd11-4581-acb7-5512971f7ee7.SGLFQFNKAYGHHH7B.SEARCH&ppt=sp&ppn=sp&ssid=7hqt17myk00000001608125375798&qH=2cc465e3eef5bff0',\n",
       " 'https://www.flipkart.com/fda-collection-round-round-sunglasses/p/itm49459241e2626?pid=SGLFX7QS2U4PZEKZ&lid=LSTSGLFX7QS2U4PZEKZGZVMBR&marketplace=FLIPKART&srno=s_1_4&otracker=search&otracker1=search&fm=SEARCH&iid=781876a9-bd11-4581-acb7-5512971f7ee7.SGLFX7QS2U4PZEKZ.SEARCH&ppt=sp&ppn=sp&ssid=7hqt17myk00000001608125375798&qH=2cc465e3eef5bff0',\n",
       " 'https://www.flipkart.com/rozzetta-craft-rectangular-sunglasses/p/itmbcdad02770603?pid=SGLFSSFAYTD858TY&lid=LSTSGLFSSFAYTD858TYZROTZL&marketplace=FLIPKART&srno=s_1_5&otracker=search&otracker1=search&fm=SEARCH&iid=781876a9-bd11-4581-acb7-5512971f7ee7.SGLFSSFAYTD858TY.SEARCH&ppt=sp&ppn=sp&ssid=7hqt17myk00000001608125375798&qH=2cc465e3eef5bff0',\n",
       " 'https://www.flipkart.com/phenomenal-retro-square-sunglasses/p/itm1ead9ddbbb3d8?pid=SGLFUBFWNBFEAVD3&lid=LSTSGLFUBFWNBFEAVD31E0HIC&marketplace=FLIPKART&srno=s_1_6&otracker=search&otracker1=search&fm=SEARCH&iid=781876a9-bd11-4581-acb7-5512971f7ee7.SGLFUBFWNBFEAVD3.SEARCH&ppt=sp&ppn=sp&ssid=7hqt17myk00000001608125375798&qH=2cc465e3eef5bff0',\n",
       " 'https://www.flipkart.com/rozzetta-craft-retro-square-sunglasses/p/itmeb0ea3b86689f?pid=SGLFZFZNAQNZHYB7&lid=LSTSGLFZFZNAQNZHYB7GZ3YO5&marketplace=FLIPKART&spotlightTagId=TrendingId_26x&srno=s_1_7&otracker=search&otracker1=search&fm=SEARCH&iid=781876a9-bd11-4581-acb7-5512971f7ee7.SGLFZFZNAQNZHYB7.SEARCH&ppt=sp&ppn=sp&ssid=7hqt17myk00000001608125375798&qH=2cc465e3eef5bff0',\n",
       " 'https://www.flipkart.com/singco-india-aviator-sunglasses/p/itm67290a4103a13?pid=SGLFZGN2KNSBTQEJ&lid=LSTSGLFZGN2KNSBTQEJVKJVQ4&marketplace=FLIPKART&srno=s_1_8&otracker=search&otracker1=search&fm=SEARCH&iid=en_4zE19KmWmwz7gdmU0aHhaVxVNBd5GnnHpA4l2xks7ceW%2F9mkcCA6sg85nolwwBgiCoCwKWwoEIdRfj4ahl3SOg%3D%3D&ppt=sp&ppn=sp&ssid=7hqt17myk00000001608125375798&qH=2cc465e3eef5bff0',\n",
       " 'https://www.flipkart.com/fda-collection-round-round-sunglasses/p/itmc81a9a1e9862a?pid=SGLFPXZFY3R2XKYQ&lid=LSTSGLFPXZFY3R2XKYQPAFOKZ&marketplace=FLIPKART&srno=s_1_9&otracker=search&otracker1=search&fm=SEARCH&iid=781876a9-bd11-4581-acb7-5512971f7ee7.SGLFPXZFY3R2XKYQ.SEARCH&ppt=sp&ppn=sp&ssid=7hqt17myk00000001608125375798&qH=2cc465e3eef5bff0',\n",
       " 'https://www.flipkart.com/winsome-round-sunglasses/p/itm15ada8920ffef?pid=SGLFUTGBH8X44VDC&lid=LSTSGLFUTGBH8X44VDC4FCBSY&marketplace=FLIPKART&srno=s_1_10&otracker=search&otracker1=search&fm=SEARCH&iid=781876a9-bd11-4581-acb7-5512971f7ee7.SGLFUTGBH8X44VDC.SEARCH&ppt=sp&ppn=sp&ssid=7hqt17myk00000001608125375798&qH=2cc465e3eef5bff0',\n",
       " 'https://www.flipkart.com/johaena-oval-sunglasses/p/itm07beebf8fad79?pid=SGLFGFF3MHNFHFVG&lid=LSTSGLFGFF3MHNFHFVGD9JYDO&marketplace=FLIPKART&srno=s_1_11&otracker=search&otracker1=search&fm=SEARCH&iid=781876a9-bd11-4581-acb7-5512971f7ee7.SGLFGFF3MHNFHFVG.SEARCH&ppt=sp&ppn=sp&ssid=7hqt17myk00000001608125375798&qH=2cc465e3eef5bff0',\n",
       " 'https://www.flipkart.com/royal-son-retro-square-sunglasses/p/itmbe79f1da8ad67?pid=SGLFH3QZHHC7UYYF&lid=LSTSGLFH3QZHHC7UYYF9LDNRC&marketplace=FLIPKART&srno=s_1_12&otracker=search&otracker1=search&fm=SEARCH&iid=en_4zE19KmWmwz7gdmU0aHhaVxVNBd5GnnHpA4l2xks7cdwEWBObx0w8gczeUDvCQc2gFa4DVh4NEIxr9QWo5ku8A%3D%3D&ppt=sp&ppn=sp&ssid=7hqt17myk00000001608125375798&qH=2cc465e3eef5bff0',\n",
       " 'https://www.flipkart.com/trendy-glasses-retro-square-sunglasses/p/itmd5ee022ef69ec?pid=SGLFH2SXVRYC8ZG6&lid=LSTSGLFH2SXVRYC8ZG6IHPGZY&marketplace=FLIPKART&srno=s_1_13&otracker=search&otracker1=search&fm=SEARCH&iid=781876a9-bd11-4581-acb7-5512971f7ee7.SGLFH2SXVRYC8ZG6.SEARCH&ppt=sp&ppn=sp&ssid=7hqt17myk00000001608125375798&qH=2cc465e3eef5bff0',\n",
       " 'https://www.flipkart.com/phenomenal-retro-square-sunglasses/p/itm05605e75ed801?pid=SGLFUXYAXFHYQAK4&lid=LSTSGLFUXYAXFHYQAK4VF4MKG&marketplace=FLIPKART&srno=s_1_14&otracker=search&otracker1=search&fm=SEARCH&iid=781876a9-bd11-4581-acb7-5512971f7ee7.SGLFUXYAXFHYQAK4.SEARCH&ppt=sp&ppn=sp&ssid=7hqt17myk00000001608125375798&qH=2cc465e3eef5bff0',\n",
       " 'https://www.flipkart.com/dannilo-aviator-sunglasses/p/itmffk5ghhfeshmn?pid=SGLFFJ9MGBHREUPY&lid=LSTSGLFFJ9MGBHREUPYYKLDKZ&marketplace=FLIPKART&srno=s_1_15&otracker=search&otracker1=search&fm=SEARCH&iid=781876a9-bd11-4581-acb7-5512971f7ee7.SGLFFJ9MGBHREUPY.SEARCH&ppt=sp&ppn=sp&ssid=7hqt17myk00000001608125375798&qH=2cc465e3eef5bff0',\n",
       " 'https://www.flipkart.com/royal-son-retro-square-sunglasses/p/itm212388ef7fc65?pid=SGLFNFU4MMKYSCFH&lid=LSTSGLFNFU4MMKYSCFHCNIBKD&marketplace=FLIPKART&srno=s_1_16&otracker=search&otracker1=search&fm=SEARCH&iid=en_4zE19KmWmwz7gdmU0aHhaVxVNBd5GnnHpA4l2xks7ce6wr4h0Izu1crY%2BWa%2Bt4nfl9RyuLAmn1gKqb5FjUmCnQ%3D%3D&ppt=sp&ppn=sp&ssid=7hqt17myk00000001608125375798&qH=2cc465e3eef5bff0',\n",
       " 'https://www.flipkart.com/shah-collections-round-sunglasses/p/itmf51429d1a6c1f?pid=SGLFSHGG3S8YYBUG&lid=LSTSGLFSHGG3S8YYBUGHRQO2Z&marketplace=FLIPKART&srno=s_1_17&otracker=search&otracker1=search&fm=SEARCH&iid=781876a9-bd11-4581-acb7-5512971f7ee7.SGLFSHGG3S8YYBUG.SEARCH&ppt=sp&ppn=sp&ssid=7hqt17myk00000001608125375798&qH=2cc465e3eef5bff0',\n",
       " 'https://www.flipkart.com/funglasses-round-sunglasses/p/itmd5ffc7973ae46?pid=SGLFZBYYEHCPNRW3&lid=LSTSGLFZBYYEHCPNRW37HBBJE&marketplace=FLIPKART&spotlightTagId=BestsellerId_26x&srno=s_1_18&otracker=search&otracker1=search&fm=SEARCH&iid=781876a9-bd11-4581-acb7-5512971f7ee7.SGLFZBYYEHCPNRW3.SEARCH&ppt=sp&ppn=sp&ssid=7hqt17myk00000001608125375798&qH=2cc465e3eef5bff0',\n",
       " 'https://www.flipkart.com/shah-collections-round-sunglasses/p/itm9cb69e9a47751?pid=SGLFNSGKGZGGGAXC&lid=LSTSGLFNSGKGZGGGAXCYXJ7SK&marketplace=FLIPKART&srno=s_1_19&otracker=search&otracker1=search&fm=SEARCH&iid=781876a9-bd11-4581-acb7-5512971f7ee7.SGLFNSGKGZGGGAXC.SEARCH&ppt=sp&ppn=sp&ssid=7hqt17myk00000001608125375798&qH=2cc465e3eef5bff0',\n",
       " 'https://www.flipkart.com/specsmakers-aviator-sunglasses/p/itm265a97f2d9d01?pid=SGLFWG4UEJEGBRHP&lid=LSTSGLFWG4UEJEGBRHP9Z52CL&marketplace=FLIPKART&srno=s_1_20&otracker=search&otracker1=search&fm=SEARCH&iid=en_4zE19KmWmwz7gdmU0aHhaVxVNBd5GnnHpA4l2xks7ce80E1tRtRlU8MI5zmK0HW7SdyfE6bQ9sM9lN5tTvIMUw%3D%3D&ppt=sp&ppn=sp&ssid=7hqt17myk00000001608125375798&qH=2cc465e3eef5bff0',\n",
       " 'https://www.flipkart.com/shadz-retro-square-sunglasses/p/itmde4f960a523d1?pid=SGLFWSF7RYZHVKYN&lid=LSTSGLFWSF7RYZHVKYN887YMX&marketplace=FLIPKART&srno=s_1_21&otracker=search&otracker1=search&fm=SEARCH&iid=781876a9-bd11-4581-acb7-5512971f7ee7.SGLFWSF7RYZHVKYN.SEARCH&ppt=sp&ppn=sp&ssid=7hqt17myk00000001608125375798&qH=2cc465e3eef5bff0',\n",
       " 'https://www.flipkart.com/fastrack-wayfarer-sunglasses/p/itmf79dqhfca7q8t?pid=SGLF79DQWCWEFUNR&lid=LSTSGLF79DQWCWEFUNRB9EV8J&marketplace=FLIPKART&srno=s_1_22&otracker=search&otracker1=search&fm=SEARCH&iid=781876a9-bd11-4581-acb7-5512971f7ee7.SGLF79DQWCWEFUNR.SEARCH&ppt=sp&ppn=sp&ssid=7hqt17myk00000001608125375798&qH=2cc465e3eef5bff0',\n",
       " 'https://www.flipkart.com/trendy-glasses-retro-square-sunglasses/p/itme4a78db7b8c3c?pid=SGLFMBYCEGBHG6KM&lid=LSTSGLFMBYCEGBHG6KMRD4OEG&marketplace=FLIPKART&srno=s_1_23&otracker=search&otracker1=search&fm=SEARCH&iid=781876a9-bd11-4581-acb7-5512971f7ee7.SGLFMBYCEGBHG6KM.SEARCH&ppt=sp&ppn=sp&ssid=7hqt17myk00000001608125375798&qH=2cc465e3eef5bff0',\n",
       " 'https://www.flipkart.com/stylish-guys-retro-square-sunglasses/p/itm71b0eff78bac0?pid=SGLFUAHZQFASWA47&lid=LSTSGLFUAHZQFASWA47I1KET9&marketplace=FLIPKART&srno=s_1_24&otracker=search&otracker1=search&fm=SEARCH&iid=en_4zE19KmWmwz7gdmU0aHhaVxVNBd5GnnHpA4l2xks7ccTXLRWnkM4Eprxr8IyL8%2Fqk7AJsvPzrvC01Lbs5nINzg%3D%3D&ppt=sp&ppn=sp&ssid=7hqt17myk00000001608125375798&qH=2cc465e3eef5bff0',\n",
       " 'https://www.flipkart.com/lopo-retro-square-over-sized-rectangular-sunglasses/p/itm5aa4bebb6c216?pid=SGLFXBGYZ4PHRX4E&lid=LSTSGLFXBGYZ4PHRX4E7Q67QP&marketplace=FLIPKART&srno=s_1_25&otracker=search&otracker1=search&fm=SEARCH&iid=781876a9-bd11-4581-acb7-5512971f7ee7.SGLFXBGYZ4PHRX4E.SEARCH&ppt=sp&ppn=sp&ssid=7hqt17myk00000001608125375798&qH=2cc465e3eef5bff0',\n",
       " 'https://www.flipkart.com/riffko-wayfarer-sunglasses/p/itm2bd5c095da127?pid=SGLFK5PNPMJUFEWP&lid=LSTSGLFK5PNPMJUFEWP83WKXF&marketplace=FLIPKART&srno=s_1_26&otracker=search&otracker1=search&fm=SEARCH&iid=781876a9-bd11-4581-acb7-5512971f7ee7.SGLFK5PNPMJUFEWP.SEARCH&ppt=sp&ppn=sp&ssid=7hqt17myk00000001608125375798&qH=2cc465e3eef5bff0',\n",
       " 'https://www.flipkart.com/shadz-wayfarer-sunglasses/p/itmffm5rtpzgfj4a?pid=SGLFFHTFKEDKMRVK&lid=LSTSGLFFHTFKEDKMRVKL6DNBQ&marketplace=FLIPKART&srno=s_1_27&otracker=search&otracker1=search&fm=SEARCH&iid=781876a9-bd11-4581-acb7-5512971f7ee7.SGLFFHTFKEDKMRVK.SEARCH&ppt=sp&ppn=sp&ssid=7hqt17myk00000001608125375798&qH=2cc465e3eef5bff0',\n",
       " 'https://www.flipkart.com/royal-son-sports-sunglasses/p/itm4231e4ff304fb?pid=SGLFPBJCA82CTERG&lid=LSTSGLFPBJCA82CTERG2FMZNZ&marketplace=FLIPKART&srno=s_1_28&otracker=search&otracker1=search&fm=SEARCH&iid=en_4zE19KmWmwz7gdmU0aHhaVxVNBd5GnnHpA4l2xks7cc3yk9Fnc%2BbqQy3yXVjgeJGudbtJrVfHzI8TF3QbRfOlQ%3D%3D&ppt=sp&ppn=sp&ssid=7hqt17myk00000001608125375798&qH=2cc465e3eef5bff0',\n",
       " 'https://www.flipkart.com/singco-india-aviator-sunglasses/p/itmf5b6c6e88f44a?pid=SGLFF9BTZUQZGZ3H&lid=LSTSGLFF9BTZUQZGZ3HMQDMDM&marketplace=FLIPKART&srno=s_1_29&otracker=search&otracker1=search&fm=SEARCH&iid=781876a9-bd11-4581-acb7-5512971f7ee7.SGLFF9BTZUQZGZ3H.SEARCH&ppt=sp&ppn=sp&ssid=7hqt17myk00000001608125375798&qH=2cc465e3eef5bff0',\n",
       " 'https://www.flipkart.com/phenomenal-rectangular-sunglasses/p/itmd7c291940786c?pid=SGLFX4ZVCDGVGMSK&lid=LSTSGLFX4ZVCDGVGMSKSBXMUK&marketplace=FLIPKART&srno=s_1_30&otracker=search&otracker1=search&fm=SEARCH&iid=781876a9-bd11-4581-acb7-5512971f7ee7.SGLFX4ZVCDGVGMSK.SEARCH&ppt=sp&ppn=sp&ssid=7hqt17myk00000001608125375798&qH=2cc465e3eef5bff0',\n",
       " 'https://www.flipkart.com/riffko-round-sunglasses/p/itmfdpmkbzzfxzaj?pid=SGLFDZTY7QM2AY7F&lid=LSTSGLFDZTY7QM2AY7FNH2EZB&marketplace=FLIPKART&srno=s_1_31&otracker=search&otracker1=search&fm=SEARCH&iid=781876a9-bd11-4581-acb7-5512971f7ee7.SGLFDZTY7QM2AY7F.SEARCH&ppt=sp&ppn=sp&ssid=7hqt17myk00000001608125375798&qH=2cc465e3eef5bff0',\n",
       " 'https://www.flipkart.com/royal-son-sports-sunglasses/p/itmb6798541dac0b?pid=SGLFPBJEQ4MCSRW6&lid=LSTSGLFPBJEQ4MCSRW6SYHKII&marketplace=FLIPKART&srno=s_1_32&otracker=search&otracker1=search&fm=SEARCH&iid=en_4zE19KmWmwz7gdmU0aHhaVxVNBd5GnnHpA4l2xks7ce4bQ%2Fg3DDT1qjxCQEmwHgZfED1nSGk3ua7XNKfuVxDdw%3D%3D&ppt=sp&ppn=sp&ssid=7hqt17myk00000001608125375798&qH=2cc465e3eef5bff0',\n",
       " 'https://www.flipkart.com/piraso-aviator-sunglasses/p/itm405062704fcc0?pid=SGLFTYY5NWNKSC64&lid=LSTSGLFTYY5NWNKSC64YLGIVW&marketplace=FLIPKART&srno=s_1_33&otracker=search&otracker1=search&fm=SEARCH&iid=781876a9-bd11-4581-acb7-5512971f7ee7.SGLFTYY5NWNKSC64.SEARCH&ppt=sp&ppn=sp&ssid=7hqt17myk00000001608125375798&qH=2cc465e3eef5bff0',\n",
       " 'https://www.flipkart.com/rozzetta-craft-rectangular-sunglasses/p/itmc07cb7e8aec50?pid=SGLFSZV6PXGZGZGX&lid=LSTSGLFSZV6PXGZGZGXNWELSX&marketplace=FLIPKART&srno=s_1_34&otracker=search&otracker1=search&fm=SEARCH&iid=781876a9-bd11-4581-acb7-5512971f7ee7.SGLFSZV6PXGZGZGX.SEARCH&ppt=sp&ppn=sp&ssid=7hqt17myk00000001608125375798&qH=2cc465e3eef5bff0',\n",
       " 'https://www.flipkart.com/like-future-aviator-sunglasses/p/itmff34qrrwyecyk?pid=SGLFF335BFZVK42U&lid=LSTSGLFF335BFZVK42UCIDGJX&marketplace=FLIPKART&srno=s_1_35&otracker=search&otracker1=search&fm=SEARCH&iid=781876a9-bd11-4581-acb7-5512971f7ee7.SGLFF335BFZVK42U.SEARCH&ppt=sp&ppn=sp&ssid=7hqt17myk00000001608125375798&qH=2cc465e3eef5bff0',\n",
       " 'https://www.flipkart.com/royal-son-sports-sunglasses/p/itm018e6fe157566?pid=SGLFPBJCGHD6XEYK&lid=LSTSGLFPBJCGHD6XEYKAMCZOO&marketplace=FLIPKART&srno=s_1_36&otracker=search&otracker1=search&fm=SEARCH&iid=en_4zE19KmWmwz7gdmU0aHhaVxVNBd5GnnHpA4l2xks7cdWdwZMISeAYwhpt2AgQRVrWBErR5wgdzvs5FdQT8A61w%3D%3D&ppt=sp&ppn=sp&ssid=7hqt17myk00000001608125375798&qH=2cc465e3eef5bff0',\n",
       " 'https://www.flipkart.com/funglasses-round-round-sunglasses/p/itma8243c184bdcf?pid=SGLFSFT4PFQJZQDA&lid=LSTSGLFSFT4PFQJZQDABPALBA&marketplace=FLIPKART&srno=s_1_37&otracker=search&otracker1=search&fm=SEARCH&iid=781876a9-bd11-4581-acb7-5512971f7ee7.SGLFSFT4PFQJZQDA.SEARCH&ppt=sp&ppn=sp&ssid=7hqt17myk00000001608125375798&qH=2cc465e3eef5bff0',\n",
       " 'https://www.flipkart.com/rozzetta-craft-rectangular-sunglasses/p/itm7e717fb4e4af0?pid=SGLFX84MT48ZH7RZ&lid=LSTSGLFX84MT48ZH7RZPN64SZ&marketplace=FLIPKART&srno=s_1_38&otracker=search&otracker1=search&fm=SEARCH&iid=781876a9-bd11-4581-acb7-5512971f7ee7.SGLFX84MT48ZH7RZ.SEARCH&ppt=sp&ppn=sp&ssid=7hqt17myk00000001608125375798&qH=2cc465e3eef5bff0',\n",
       " 'https://www.flipkart.com/hamiw-collection-wayfarer-sports-shield-rectangular-retro-square-sunglasses/p/itme15648f3a4842?pid=SGLFX9FFSBSGV9DB&lid=LSTSGLFX9FFSBSGV9DBZB06YQ&marketplace=FLIPKART&srno=s_1_39&otracker=search&otracker1=search&fm=SEARCH&iid=781876a9-bd11-4581-acb7-5512971f7ee7.SGLFX9FFSBSGV9DB.SEARCH&ppt=sp&ppn=sp&ssid=7hqt17myk00000001608125375798&qH=2cc465e3eef5bff0',\n",
       " 'https://www.flipkart.com/specsmakers-wayfarer-sunglasses/p/itm0e9d068b356c2?pid=SGLFWHFGTMFGHDJU&lid=LSTSGLFWHFGTMFGHDJUDGMCCG&marketplace=FLIPKART&srno=s_1_40&otracker=search&otracker1=search&fm=SEARCH&iid=en_4zE19KmWmwz7gdmU0aHhaVxVNBd5GnnHpA4l2xks7ce4MVY8NBBwKoxGQIo4xw5CM5zWO5mTLvsrSx5JANZPrg%3D%3D&ppt=sp&ppn=sp&ssid=7hqt17myk00000001608125375798&qH=2cc465e3eef5bff0']"
      ]
     },
     "execution_count": 89,
     "metadata": {},
     "output_type": "execute_result"
    }
   ],
   "source": [
    "urls"
   ]
  },
  {
   "cell_type": "code",
   "execution_count": 90,
   "metadata": {},
   "outputs": [
    {
     "data": {
      "text/plain": [
       "120"
      ]
     },
     "execution_count": 90,
     "metadata": {},
     "output_type": "execute_result"
    }
   ],
   "source": [
    "len(urls)"
   ]
  },
  {
   "cell_type": "code",
   "execution_count": 91,
   "metadata": {},
   "outputs": [],
   "source": [
    "#loop to scrap required details from each sunglasses page\n",
    "for url in urls:\n",
    "    driver.get(url)\n",
    "    soup = BeautifulSoup(driver.page_source, 'html.parser')\n",
    "    b = soup.find('span',attrs={'class':'G6XhRU'})\n",
    "    if b is not None:\n",
    "        brand.append(b.text.replace('\\n',''))\n",
    "    else:\n",
    "        brand.append('-')\n",
    "    p = soup.find('div', attrs = {'class':'_30jeq3 _16Jk6d'})\n",
    "    if p is not None:\n",
    "        price.append(p.text.replace('\\n',''))\n",
    "    else:\n",
    "        price.append('-')\n",
    "    d = soup.find('div', attrs = {'class':'_3Ay6Sb _31Dcoz pZkvcx'})\n",
    "    if d is not None:\n",
    "        discount.append(d.text.replace('\\n',''))\n",
    "    else:\n",
    "        discount.append('-')\n",
    "    des=soup.find('span', attrs = {'class':'B_NuCI'})\n",
    "    if des is not None:\n",
    "        description.append(des.text.replace('\\n',''))\n",
    "    else:\n",
    "        description.append('-')"
   ]
  },
  {
   "cell_type": "code",
   "execution_count": 92,
   "metadata": {},
   "outputs": [],
   "source": [
    "import pandas as pd\n",
    "sun=pd.DataFrame({})\n",
    "sun['brand']=brand[:100]\n",
    "sun['price']=price[:100]\n",
    "sun['discount']=discount[:100]\n",
    "sun['description']=description[:100]"
   ]
  },
  {
   "cell_type": "code",
   "execution_count": 93,
   "metadata": {},
   "outputs": [
    {
     "data": {
      "text/html": [
       "<div>\n",
       "<style scoped>\n",
       "    .dataframe tbody tr th:only-of-type {\n",
       "        vertical-align: middle;\n",
       "    }\n",
       "\n",
       "    .dataframe tbody tr th {\n",
       "        vertical-align: top;\n",
       "    }\n",
       "\n",
       "    .dataframe thead th {\n",
       "        text-align: right;\n",
       "    }\n",
       "</style>\n",
       "<table border=\"1\" class=\"dataframe\">\n",
       "  <thead>\n",
       "    <tr style=\"text-align: right;\">\n",
       "      <th></th>\n",
       "      <th>brand</th>\n",
       "      <th>price</th>\n",
       "      <th>discount</th>\n",
       "      <th>description</th>\n",
       "    </tr>\n",
       "  </thead>\n",
       "  <tbody>\n",
       "    <tr>\n",
       "      <th>0</th>\n",
       "      <td>STYLE GURU</td>\n",
       "      <td>₹799</td>\n",
       "      <td>77% off</td>\n",
       "      <td>UV Protection Spectacle  Sunglasses (Free Size...</td>\n",
       "    </tr>\n",
       "    <tr>\n",
       "      <th>1</th>\n",
       "      <td>ROYAL SON</td>\n",
       "      <td>₹664</td>\n",
       "      <td>66% off</td>\n",
       "      <td>Polarized Retro Square Sunglasses (54)  (Black)</td>\n",
       "    </tr>\n",
       "    <tr>\n",
       "      <th>2</th>\n",
       "      <td>FDA COLLECTION</td>\n",
       "      <td>₹199</td>\n",
       "      <td>84% off</td>\n",
       "      <td>Gradient, Mirrored, UV Protection Round, Round...</td>\n",
       "    </tr>\n",
       "    <tr>\n",
       "      <th>3</th>\n",
       "      <td>FDA COLLECTION</td>\n",
       "      <td>₹188</td>\n",
       "      <td>87% off</td>\n",
       "      <td>Gradient, Mirrored, UV Protection Round, Round...</td>\n",
       "    </tr>\n",
       "    <tr>\n",
       "      <th>4</th>\n",
       "      <td>Rozzetta Craft</td>\n",
       "      <td>₹398</td>\n",
       "      <td>73% off</td>\n",
       "      <td>UV Protection Rectangular Sunglasses (Free Siz...</td>\n",
       "    </tr>\n",
       "    <tr>\n",
       "      <th>...</th>\n",
       "      <td>...</td>\n",
       "      <td>...</td>\n",
       "      <td>...</td>\n",
       "      <td>...</td>\n",
       "    </tr>\n",
       "    <tr>\n",
       "      <th>95</th>\n",
       "      <td>ROYAL SON</td>\n",
       "      <td>₹569</td>\n",
       "      <td>71% off</td>\n",
       "      <td>UV Protection Retro Square Sunglasses (88)  (B...</td>\n",
       "    </tr>\n",
       "    <tr>\n",
       "      <th>96</th>\n",
       "      <td>shah collections</td>\n",
       "      <td>₹349</td>\n",
       "      <td>79% off</td>\n",
       "      <td>UV Protection Round Sunglasses (Free Size)  (R...</td>\n",
       "    </tr>\n",
       "    <tr>\n",
       "      <th>97</th>\n",
       "      <td>funglasses</td>\n",
       "      <td>₹170</td>\n",
       "      <td>82% off</td>\n",
       "      <td>UV Protection, Night Vision, Riding Glasses Ro...</td>\n",
       "    </tr>\n",
       "    <tr>\n",
       "      <th>98</th>\n",
       "      <td>shah collections</td>\n",
       "      <td>₹312</td>\n",
       "      <td>75% off</td>\n",
       "      <td>UV Protection Round Sunglasses (Free Size)  (R...</td>\n",
       "    </tr>\n",
       "    <tr>\n",
       "      <th>99</th>\n",
       "      <td>Specsmakers</td>\n",
       "      <td>₹696</td>\n",
       "      <td>65% off</td>\n",
       "      <td>Polarized Aviator Sunglasses (54)  (Grey)</td>\n",
       "    </tr>\n",
       "  </tbody>\n",
       "</table>\n",
       "<p>100 rows × 4 columns</p>\n",
       "</div>"
      ],
      "text/plain": [
       "                brand price discount  \\\n",
       "0         STYLE GURU   ₹799  77% off   \n",
       "1          ROYAL SON   ₹664  66% off   \n",
       "2     FDA COLLECTION   ₹199  84% off   \n",
       "3     FDA COLLECTION   ₹188  87% off   \n",
       "4     Rozzetta Craft   ₹398  73% off   \n",
       "..                ...   ...      ...   \n",
       "95         ROYAL SON   ₹569  71% off   \n",
       "96  shah collections   ₹349  79% off   \n",
       "97        funglasses   ₹170  82% off   \n",
       "98  shah collections   ₹312  75% off   \n",
       "99       Specsmakers   ₹696  65% off   \n",
       "\n",
       "                                          description  \n",
       "0   UV Protection Spectacle  Sunglasses (Free Size...  \n",
       "1     Polarized Retro Square Sunglasses (54)  (Black)  \n",
       "2   Gradient, Mirrored, UV Protection Round, Round...  \n",
       "3   Gradient, Mirrored, UV Protection Round, Round...  \n",
       "4   UV Protection Rectangular Sunglasses (Free Siz...  \n",
       "..                                                ...  \n",
       "95  UV Protection Retro Square Sunglasses (88)  (B...  \n",
       "96  UV Protection Round Sunglasses (Free Size)  (R...  \n",
       "97  UV Protection, Night Vision, Riding Glasses Ro...  \n",
       "98  UV Protection Round Sunglasses (Free Size)  (R...  \n",
       "99          Polarized Aviator Sunglasses (54)  (Grey)  \n",
       "\n",
       "[100 rows x 4 columns]"
      ]
     },
     "execution_count": 93,
     "metadata": {},
     "output_type": "execute_result"
    }
   ],
   "source": [
    "sun"
   ]
  },
  {
   "cell_type": "markdown",
   "metadata": {},
   "source": [
    "# Q7: Scrape 100 reviews data from flipkart.com for iphone11 phone. You have to go the link"
   ]
  },
  {
   "cell_type": "code",
   "execution_count": 94,
   "metadata": {},
   "outputs": [],
   "source": [
    "driver=webdriver.Chrome(r\"C:\\Users\\sidse\\Downloads\\chromedriver_win32\\chromedriver.exe\")"
   ]
  },
  {
   "cell_type": "code",
   "execution_count": 95,
   "metadata": {},
   "outputs": [],
   "source": [
    "driver.get('https://www.flipkart.com/apple-iphone-11-black-64-gb-includes-earpods-power-adapter/p/itm0f37c2240b217?pid=MOBFKCTSVZAXUHGR&lid=LSTMOBFKCTSVZAXUHGREPBFGI&marketplace')"
   ]
  },
  {
   "cell_type": "code",
   "execution_count": 96,
   "metadata": {},
   "outputs": [],
   "source": [
    "rating=[]\n",
    "review_summary=[]\n",
    "full_summary=[]"
   ]
  },
  {
   "cell_type": "code",
   "execution_count": 97,
   "metadata": {},
   "outputs": [],
   "source": [
    "search_button=driver.find_element_by_xpath(\"//div[@class='col JOpGWq']/a\")\n",
    "search_button.click()"
   ]
  },
  {
   "cell_type": "code",
   "execution_count": 98,
   "metadata": {},
   "outputs": [],
   "source": [
    "start_page=0\n",
    "end_page=9"
   ]
  },
  {
   "cell_type": "code",
   "execution_count": 99,
   "metadata": {},
   "outputs": [],
   "source": [
    "urls=[]\n",
    "rate=[]\n",
    "summa=[]\n",
    "full=[]"
   ]
  },
  {
   "cell_type": "code",
   "execution_count": 100,
   "metadata": {},
   "outputs": [],
   "source": [
    "for page in range(start_page,end_page+1):\n",
    "    soup= BeautifulSoup(driver.page_source, 'html.parser')\n",
    "    prod_rate = driver.find_elements_by_xpath(\"//div[@class='_3LWZlK _1BLPMq']\")\n",
    "    rate.append(prod_rate)\n",
    "    prod_sum=driver.find_elements_by_xpath(\"//p[@class='_2-N8zT']\")\n",
    "    summa.append(prod_sum)\n",
    "    prod_full=driver.find_elements_by_xpath(\"//div[@class='t-ZTKy']/div/div\")\n",
    "    full.append(prod_full)"
   ]
  },
  {
   "cell_type": "code",
   "execution_count": 101,
   "metadata": {},
   "outputs": [],
   "source": [
    "flat_rate = []\n",
    "for sublist in rate:\n",
    "    for item in sublist:\n",
    "        flat_rate.append(item)"
   ]
  },
  {
   "cell_type": "code",
   "execution_count": 102,
   "metadata": {},
   "outputs": [],
   "source": [
    "flat_summ = []\n",
    "for sublist in summa:\n",
    "    for item in sublist:\n",
    "        flat_summ.append(item)"
   ]
  },
  {
   "cell_type": "code",
   "execution_count": 103,
   "metadata": {},
   "outputs": [],
   "source": [
    "flat_full = []\n",
    "for sublist in full:\n",
    "    for item in sublist:\n",
    "        flat_full.append(item)"
   ]
  },
  {
   "cell_type": "code",
   "execution_count": 104,
   "metadata": {},
   "outputs": [],
   "source": [
    "for i in flat_rate:\n",
    "    if i is not None:\n",
    "        rating.append(i.text.replace('\\n',''))\n",
    "    else:\n",
    "        rating.append('-')"
   ]
  },
  {
   "cell_type": "code",
   "execution_count": 105,
   "metadata": {},
   "outputs": [],
   "source": [
    "for i in flat_summ:\n",
    "    if i is not None:\n",
    "        review_summary.append(i.text.replace('\\n',''))\n",
    "    else:\n",
    "        review_summary.append('-')"
   ]
  },
  {
   "cell_type": "code",
   "execution_count": 106,
   "metadata": {},
   "outputs": [],
   "source": [
    "for i in flat_full:\n",
    "    if i is not None:\n",
    "        full_summary.append(i.text.replace('\\n',''))\n",
    "    else:\n",
    "        full_summary.append('-')"
   ]
  },
  {
   "cell_type": "code",
   "execution_count": 107,
   "metadata": {},
   "outputs": [],
   "source": [
    "import pandas as pd\n",
    "iphone=pd.DataFrame({})\n",
    "iphone['rating']=rating\n",
    "iphone['review_summary']=review_summary\n",
    "iphone['full_summary']=full_summary"
   ]
  },
  {
   "cell_type": "code",
   "execution_count": 108,
   "metadata": {},
   "outputs": [
    {
     "data": {
      "text/html": [
       "<div>\n",
       "<style scoped>\n",
       "    .dataframe tbody tr th:only-of-type {\n",
       "        vertical-align: middle;\n",
       "    }\n",
       "\n",
       "    .dataframe tbody tr th {\n",
       "        vertical-align: top;\n",
       "    }\n",
       "\n",
       "    .dataframe thead th {\n",
       "        text-align: right;\n",
       "    }\n",
       "</style>\n",
       "<table border=\"1\" class=\"dataframe\">\n",
       "  <thead>\n",
       "    <tr style=\"text-align: right;\">\n",
       "      <th></th>\n",
       "      <th>rating</th>\n",
       "      <th>review_summary</th>\n",
       "      <th>full_summary</th>\n",
       "    </tr>\n",
       "  </thead>\n",
       "  <tbody>\n",
       "    <tr>\n",
       "      <th>0</th>\n",
       "      <td>5</td>\n",
       "      <td>Perfect product!</td>\n",
       "      <td>Amazing phone with great cameras and better ba...</td>\n",
       "    </tr>\n",
       "    <tr>\n",
       "      <th>1</th>\n",
       "      <td>5</td>\n",
       "      <td>Great product</td>\n",
       "      <td>Amazing Powerful and Durable Gadget.I’m am ver...</td>\n",
       "    </tr>\n",
       "    <tr>\n",
       "      <th>2</th>\n",
       "      <td>5</td>\n",
       "      <td>Perfect product!</td>\n",
       "      <td>It’s a must buy who is looking for an upgrade ...</td>\n",
       "    </tr>\n",
       "    <tr>\n",
       "      <th>3</th>\n",
       "      <td>5</td>\n",
       "      <td>Highly recommended</td>\n",
       "      <td>iphone 11 is a very good phone to buy only if ...</td>\n",
       "    </tr>\n",
       "    <tr>\n",
       "      <th>4</th>\n",
       "      <td>5</td>\n",
       "      <td>Perfect product!</td>\n",
       "      <td>Value for money❤️❤️Its awesome mobile phone in...</td>\n",
       "    </tr>\n",
       "    <tr>\n",
       "      <th>...</th>\n",
       "      <td>...</td>\n",
       "      <td>...</td>\n",
       "      <td>...</td>\n",
       "    </tr>\n",
       "    <tr>\n",
       "      <th>95</th>\n",
       "      <td>5</td>\n",
       "      <td>Worth every penny</td>\n",
       "      <td>Best budget Iphone till date ❤️ go for it guys...</td>\n",
       "    </tr>\n",
       "    <tr>\n",
       "      <th>96</th>\n",
       "      <td>5</td>\n",
       "      <td>Worth every penny</td>\n",
       "      <td>It’s been almost a month since I have been usi...</td>\n",
       "    </tr>\n",
       "    <tr>\n",
       "      <th>97</th>\n",
       "      <td>5</td>\n",
       "      <td>Perfect product!</td>\n",
       "      <td>Iphone is just awesome.. battery backup is ver...</td>\n",
       "    </tr>\n",
       "    <tr>\n",
       "      <th>98</th>\n",
       "      <td>4</td>\n",
       "      <td>Nice product</td>\n",
       "      <td>Awesome Phone. Slightly high price but worth. ...</td>\n",
       "    </tr>\n",
       "    <tr>\n",
       "      <th>99</th>\n",
       "      <td>5</td>\n",
       "      <td>Wonderful</td>\n",
       "      <td>*Review after 10 months of usage*Doesn't seem ...</td>\n",
       "    </tr>\n",
       "  </tbody>\n",
       "</table>\n",
       "<p>100 rows × 3 columns</p>\n",
       "</div>"
      ],
      "text/plain": [
       "   rating      review_summary  \\\n",
       "0       5    Perfect product!   \n",
       "1       5       Great product   \n",
       "2       5    Perfect product!   \n",
       "3       5  Highly recommended   \n",
       "4       5    Perfect product!   \n",
       "..    ...                 ...   \n",
       "95      5   Worth every penny   \n",
       "96      5   Worth every penny   \n",
       "97      5    Perfect product!   \n",
       "98      4        Nice product   \n",
       "99      5           Wonderful   \n",
       "\n",
       "                                         full_summary  \n",
       "0   Amazing phone with great cameras and better ba...  \n",
       "1   Amazing Powerful and Durable Gadget.I’m am ver...  \n",
       "2   It’s a must buy who is looking for an upgrade ...  \n",
       "3   iphone 11 is a very good phone to buy only if ...  \n",
       "4   Value for money❤️❤️Its awesome mobile phone in...  \n",
       "..                                                ...  \n",
       "95  Best budget Iphone till date ❤️ go for it guys...  \n",
       "96  It’s been almost a month since I have been usi...  \n",
       "97  Iphone is just awesome.. battery backup is ver...  \n",
       "98  Awesome Phone. Slightly high price but worth. ...  \n",
       "99  *Review after 10 months of usage*Doesn't seem ...  \n",
       "\n",
       "[100 rows x 3 columns]"
      ]
     },
     "execution_count": 108,
     "metadata": {},
     "output_type": "execute_result"
    }
   ],
   "source": [
    "iphone"
   ]
  },
  {
   "cell_type": "markdown",
   "metadata": {},
   "source": [
    "# Q8: Scrape data for first 100 sneakers you find when you visit flipkart.com and search for “sneakers” in the search field."
   ]
  },
  {
   "cell_type": "code",
   "execution_count": 109,
   "metadata": {},
   "outputs": [],
   "source": [
    "driver=webdriver.Chrome(r\"C:\\Users\\sidse\\Downloads\\chromedriver_win32\\chromedriver.exe\")"
   ]
  },
  {
   "cell_type": "code",
   "execution_count": 110,
   "metadata": {},
   "outputs": [],
   "source": [
    "driver.get('https://www.flipkart.com/')"
   ]
  },
  {
   "cell_type": "code",
   "execution_count": 111,
   "metadata": {},
   "outputs": [],
   "source": [
    "brand=[]\n",
    "price=[]\n",
    "discount=[]\n",
    "description=[]"
   ]
  },
  {
   "cell_type": "code",
   "execution_count": 112,
   "metadata": {},
   "outputs": [],
   "source": [
    "search_job=driver.find_element_by_xpath(\"//input[@class='_3704LK']\")\n",
    "search_job.send_keys('sneakers')"
   ]
  },
  {
   "cell_type": "code",
   "execution_count": 113,
   "metadata": {},
   "outputs": [],
   "source": [
    "search_button=driver.find_element_by_xpath(\"//button[@class='L0Z3Pu']\")\n",
    "search_button.click()"
   ]
  },
  {
   "cell_type": "code",
   "execution_count": 114,
   "metadata": {},
   "outputs": [],
   "source": [
    "start_page=0\n",
    "end_page=2"
   ]
  },
  {
   "cell_type": "code",
   "execution_count": 115,
   "metadata": {},
   "outputs": [],
   "source": [
    "urls=[]"
   ]
  },
  {
   "cell_type": "code",
   "execution_count": 116,
   "metadata": {},
   "outputs": [],
   "source": [
    "for page in range(start_page,end_page+1):\n",
    "    soup= BeautifulSoup(driver.page_source, 'html.parser')\n",
    "    prod_brand = driver.find_elements_by_xpath(\"//div[@class='_2WkVRV']\")\n",
    "    brand.append(prod_brand)\n",
    "    prod_price=driver.find_elements_by_xpath(\"//div[@class='_30jeq3']\")\n",
    "    price.append(prod_price)\n",
    "    prod_dis=driver.find_elements_by_xpath(\"//div[@class='_3Ay6Sb']\")\n",
    "    discount.append(prod_dis)"
   ]
  },
  {
   "cell_type": "code",
   "execution_count": 117,
   "metadata": {},
   "outputs": [],
   "source": [
    "#loop to fetch urls of each sneaker till page 3\n",
    "for page in range(start_page,end_page+1):\n",
    "        soup= BeautifulSoup(driver.page_source, 'html.parser')\n",
    "        prod_des=driver.find_elements_by_xpath(\"//span[@class='B_NuCI']\")"
   ]
  },
  {
   "cell_type": "code",
   "execution_count": 118,
   "metadata": {},
   "outputs": [],
   "source": [
    "flat_brand = []\n",
    "for sublist in brand:\n",
    "    for item in sublist:\n",
    "        flat_brand.append(item)"
   ]
  },
  {
   "cell_type": "code",
   "execution_count": 119,
   "metadata": {},
   "outputs": [],
   "source": [
    "flat_price = []\n",
    "for sublist in price:\n",
    "    for item in sublist:\n",
    "        flat_price.append(item)"
   ]
  },
  {
   "cell_type": "code",
   "execution_count": 120,
   "metadata": {},
   "outputs": [],
   "source": [
    "flat_discount = []\n",
    "for sublist in discount:\n",
    "    for item in sublist:\n",
    "        flat_discount.append(item)"
   ]
  },
  {
   "cell_type": "code",
   "execution_count": 121,
   "metadata": {},
   "outputs": [],
   "source": [
    "BRAND=[]\n",
    "PRICE=[]\n",
    "DISCOUNT=[]"
   ]
  },
  {
   "cell_type": "code",
   "execution_count": 122,
   "metadata": {},
   "outputs": [],
   "source": [
    "for i in flat_brand:\n",
    "    if i is not None:\n",
    "        BRAND.append(i.text.replace('\\n',''))\n",
    "    else:\n",
    "        BRAND.append('-')"
   ]
  },
  {
   "cell_type": "code",
   "execution_count": 123,
   "metadata": {},
   "outputs": [],
   "source": [
    "for i in flat_price:\n",
    "    if i is not None:\n",
    "        PRICE.append(i.text.replace('\\n',''))\n",
    "    else:\n",
    "        PRICE.append('-')"
   ]
  },
  {
   "cell_type": "code",
   "execution_count": 124,
   "metadata": {},
   "outputs": [],
   "source": [
    "for i in flat_discount:\n",
    "    if i is not None:\n",
    "        DISCOUNT.append(i.text.replace('\\n',''))\n",
    "    else:\n",
    "        DISCOUNT.append('-')"
   ]
  },
  {
   "cell_type": "code",
   "execution_count": 125,
   "metadata": {},
   "outputs": [],
   "source": [
    "#loop to fetch urls of each shoe till page 3\n",
    "for page in range(start_page,end_page+1):\n",
    "        soup= BeautifulSoup(driver.page_source, 'html.parser')\n",
    "        prod_urls = driver.find_elements_by_xpath(\"//a[@class='_2UzuFa']\")\n",
    "        for prod in prod_urls:\n",
    "            urls.append(prod.get_attribute('href'))"
   ]
  },
  {
   "cell_type": "code",
   "execution_count": 126,
   "metadata": {},
   "outputs": [],
   "source": [
    "DESCRIPTION=[]"
   ]
  },
  {
   "cell_type": "code",
   "execution_count": 127,
   "metadata": {},
   "outputs": [],
   "source": [
    "#loop to scrap description details from each sneaker page\n",
    "for url in urls:\n",
    "    driver.get(url)\n",
    "    soup = BeautifulSoup(driver.page_source, 'html.parser')\n",
    "    des=soup.find('span', attrs = {'class':'B_NuCI'})\n",
    "    if des is not None:\n",
    "        DESCRIPTION.append(des.text.replace('\\n',''))\n",
    "    else:\n",
    "        DESCRIPTION.append('-')"
   ]
  },
  {
   "cell_type": "code",
   "execution_count": 128,
   "metadata": {},
   "outputs": [],
   "source": [
    "import pandas as pd\n",
    "sneakers=pd.DataFrame({})\n",
    "sneakers['brand']=BRAND[:100]\n",
    "sneakers['price']=PRICE[:100]\n",
    "sneakers['discount']=DISCOUNT[:100]\n",
    "sneakers['description']=DESCRIPTION[:100]"
   ]
  },
  {
   "cell_type": "code",
   "execution_count": 129,
   "metadata": {},
   "outputs": [
    {
     "data": {
      "text/html": [
       "<div>\n",
       "<style scoped>\n",
       "    .dataframe tbody tr th:only-of-type {\n",
       "        vertical-align: middle;\n",
       "    }\n",
       "\n",
       "    .dataframe tbody tr th {\n",
       "        vertical-align: top;\n",
       "    }\n",
       "\n",
       "    .dataframe thead th {\n",
       "        text-align: right;\n",
       "    }\n",
       "</style>\n",
       "<table border=\"1\" class=\"dataframe\">\n",
       "  <thead>\n",
       "    <tr style=\"text-align: right;\">\n",
       "      <th></th>\n",
       "      <th>brand</th>\n",
       "      <th>price</th>\n",
       "      <th>discount</th>\n",
       "      <th>description</th>\n",
       "    </tr>\n",
       "  </thead>\n",
       "  <tbody>\n",
       "    <tr>\n",
       "      <th>0</th>\n",
       "      <td>Labbin</td>\n",
       "      <td>₹599</td>\n",
       "      <td>40% off</td>\n",
       "      <td>Casual Sneakers Shoes For Men Sneakers For Men...</td>\n",
       "    </tr>\n",
       "    <tr>\n",
       "      <th>1</th>\n",
       "      <td>SHOETOPPER</td>\n",
       "      <td>₹349</td>\n",
       "      <td>65% off</td>\n",
       "      <td>Sneakers For Men  (White)</td>\n",
       "    </tr>\n",
       "    <tr>\n",
       "      <th>2</th>\n",
       "      <td>Chevit</td>\n",
       "      <td>₹679</td>\n",
       "      <td>65% off</td>\n",
       "      <td>Combo Pack of 4 Casual Sneakers With Sneakers ...</td>\n",
       "    </tr>\n",
       "    <tr>\n",
       "      <th>3</th>\n",
       "      <td>Chevit</td>\n",
       "      <td>₹236</td>\n",
       "      <td>52% off</td>\n",
       "      <td>171 Smart Tan Lace-Ups Casuals for Men Sneaker...</td>\n",
       "    </tr>\n",
       "    <tr>\n",
       "      <th>4</th>\n",
       "      <td>World Wear Footwear</td>\n",
       "      <td>₹240</td>\n",
       "      <td>51% off</td>\n",
       "      <td>5011-Latest Collection Stylish Casual Loafer S...</td>\n",
       "    </tr>\n",
       "    <tr>\n",
       "      <th>...</th>\n",
       "      <td>...</td>\n",
       "      <td>...</td>\n",
       "      <td>...</td>\n",
       "      <td>...</td>\n",
       "    </tr>\n",
       "    <tr>\n",
       "      <th>95</th>\n",
       "      <td>Bonexy</td>\n",
       "      <td>₹474</td>\n",
       "      <td>52% off</td>\n",
       "      <td>Sneakers For Men  (Green)</td>\n",
       "    </tr>\n",
       "    <tr>\n",
       "      <th>96</th>\n",
       "      <td>Essence</td>\n",
       "      <td>₹474</td>\n",
       "      <td>52% off</td>\n",
       "      <td>Sneakers For Men  (Blue)</td>\n",
       "    </tr>\n",
       "    <tr>\n",
       "      <th>97</th>\n",
       "      <td>Chevit</td>\n",
       "      <td>₹570</td>\n",
       "      <td>61% off</td>\n",
       "      <td>Chevit Latest Fashion Combo Pack of 2 Pairs Ca...</td>\n",
       "    </tr>\n",
       "    <tr>\n",
       "      <th>98</th>\n",
       "      <td>Hotstyle</td>\n",
       "      <td>₹205</td>\n",
       "      <td>58% off</td>\n",
       "      <td>Sneakers For Men  (Red)</td>\n",
       "    </tr>\n",
       "    <tr>\n",
       "      <th>99</th>\n",
       "      <td>WHITE WALKERS</td>\n",
       "      <td>₹499</td>\n",
       "      <td>50% off</td>\n",
       "      <td>Sneakers For Men  (Multicolor)</td>\n",
       "    </tr>\n",
       "  </tbody>\n",
       "</table>\n",
       "<p>100 rows × 4 columns</p>\n",
       "</div>"
      ],
      "text/plain": [
       "                  brand price discount  \\\n",
       "0                Labbin  ₹599  40% off   \n",
       "1            SHOETOPPER  ₹349  65% off   \n",
       "2                Chevit  ₹679  65% off   \n",
       "3                Chevit  ₹236  52% off   \n",
       "4   World Wear Footwear  ₹240  51% off   \n",
       "..                  ...   ...      ...   \n",
       "95               Bonexy  ₹474  52% off   \n",
       "96              Essence  ₹474  52% off   \n",
       "97               Chevit  ₹570  61% off   \n",
       "98             Hotstyle  ₹205  58% off   \n",
       "99        WHITE WALKERS  ₹499  50% off   \n",
       "\n",
       "                                          description  \n",
       "0   Casual Sneakers Shoes For Men Sneakers For Men...  \n",
       "1                           Sneakers For Men  (White)  \n",
       "2   Combo Pack of 4 Casual Sneakers With Sneakers ...  \n",
       "3   171 Smart Tan Lace-Ups Casuals for Men Sneaker...  \n",
       "4   5011-Latest Collection Stylish Casual Loafer S...  \n",
       "..                                                ...  \n",
       "95                          Sneakers For Men  (Green)  \n",
       "96                           Sneakers For Men  (Blue)  \n",
       "97  Chevit Latest Fashion Combo Pack of 2 Pairs Ca...  \n",
       "98                            Sneakers For Men  (Red)  \n",
       "99                     Sneakers For Men  (Multicolor)  \n",
       "\n",
       "[100 rows x 4 columns]"
      ]
     },
     "execution_count": 129,
     "metadata": {},
     "output_type": "execute_result"
    }
   ],
   "source": [
    "sneakers"
   ]
  },
  {
   "cell_type": "markdown",
   "metadata": {},
   "source": [
    "# Q9: Go to the link - https://www.myntra.com/shoes\n"
   ]
  },
  {
   "cell_type": "code",
   "execution_count": 130,
   "metadata": {},
   "outputs": [],
   "source": [
    "driver=webdriver.Chrome(r\"C:\\Users\\sidse\\Downloads\\chromedriver_win32\\chromedriver.exe\")"
   ]
  },
  {
   "cell_type": "code",
   "execution_count": 131,
   "metadata": {},
   "outputs": [],
   "source": [
    "driver.get('https://www.myntra.com/')"
   ]
  },
  {
   "cell_type": "code",
   "execution_count": 132,
   "metadata": {},
   "outputs": [],
   "source": [
    "search_item=driver.find_element_by_xpath(\"//input[@class='desktop-searchBar']\")\n",
    "search_item.send_keys('shoes')"
   ]
  },
  {
   "cell_type": "code",
   "execution_count": 133,
   "metadata": {},
   "outputs": [],
   "source": [
    "search_button=driver.find_element_by_xpath(\"//a[@class='desktop-submit']\")\n",
    "search_button.click()"
   ]
  },
  {
   "cell_type": "code",
   "execution_count": 134,
   "metadata": {},
   "outputs": [],
   "source": [
    "search_button=driver.find_element_by_xpath(\"(//div[@class='common-checkboxIndicator'])[16]\")\n",
    "search_button.click()"
   ]
  },
  {
   "cell_type": "code",
   "execution_count": 135,
   "metadata": {},
   "outputs": [],
   "source": [
    "search_button=driver.find_element_by_xpath(\"(//div[@class='common-checkboxIndicator'])[18]\")\n",
    "search_button.click()"
   ]
  },
  {
   "cell_type": "code",
   "execution_count": 136,
   "metadata": {},
   "outputs": [],
   "source": [
    "brand=[]\n",
    "price=[]\n",
    "description=[]"
   ]
  },
  {
   "cell_type": "code",
   "execution_count": 137,
   "metadata": {},
   "outputs": [],
   "source": [
    "urls=[]"
   ]
  },
  {
   "cell_type": "code",
   "execution_count": 138,
   "metadata": {},
   "outputs": [],
   "source": [
    "start_page=0\n",
    "end_page=1"
   ]
  },
  {
   "cell_type": "code",
   "execution_count": 139,
   "metadata": {},
   "outputs": [],
   "source": [
    "#loop to fetch urls of each sun till page 2\n",
    "for page in range(start_page,end_page+1):\n",
    "        soup= BeautifulSoup(driver.page_source, 'html.parser')\n",
    "        prod_urls = driver.find_elements_by_xpath(\"//li[@class='product-base']//a\")\n",
    "        for prod in prod_urls:\n",
    "            urls.append(prod.get_attribute('href'))"
   ]
  },
  {
   "cell_type": "code",
   "execution_count": 140,
   "metadata": {},
   "outputs": [
    {
     "data": {
      "text/plain": [
       "['https://www.myntra.com/casual-shoes/bruno-manetti/bruno-manetti-women-black-solid-high-top-flat-boots/1830033/buy',\n",
       " 'https://www.myntra.com/sports-shoes/walkstyle-by-el-paso/walkstyle-by-el-paso-men-grey-mesh-running-shoes/11779430/buy',\n",
       " 'https://www.myntra.com/casual-shoes/mrwonker/mrwonker-men-multicoloured-colourblocked-sneakers/12786380/buy',\n",
       " 'https://www.myntra.com/casual-shoes/highlander/highlander-men-grey-sneakers/11097158/buy',\n",
       " 'https://www.myntra.com/sports-shoes/zapatoz/zapatoz-women-white-pu-high-top-walking-shoes/12463802/buy',\n",
       " 'https://www.myntra.com/casual-shoes/mactree/mactree-men-white-solid-sneakers/11937556/buy',\n",
       " 'https://www.myntra.com/casual-shoes/invictus/invictus-men-white--grey-solid-sneakers/12600900/buy',\n",
       " 'https://www.myntra.com/sports-shoes/eego-italy/eego-italy-men-black-leather-high-top-trekking-shoes/7741225/buy',\n",
       " 'https://www.myntra.com/sports-shoes/afrojack/afrojack-men-grey-training-or-gym-shoes/12294900/buy',\n",
       " 'https://www.myntra.com/sports-shoes/nike/nike-men-purple--yellow-lebron-soldier-14-mid-top-basketball-shoes/12738414/buy',\n",
       " 'https://www.myntra.com/sports-shoes/hrx-by-hrithik-roshan/hrx-by-hrithik-roshan-men-blue-metaflash-running-shoe/11999402/buy',\n",
       " 'https://www.myntra.com/heels/zapatoz/zapatoz-women-black-solid-heeled-boots/12309748/buy',\n",
       " 'https://www.myntra.com/sports-shoes/puma/puma-men-navy-blue-mesh-running-shoes/13072070/buy',\n",
       " 'https://www.myntra.com/sports-shoes/mengler/mengler-men-black-textile-walking-shoes/11431554/buy',\n",
       " 'https://www.myntra.com/sports-shoes/red-tape/red-tape-men-white-mesh-walking-shoes/12591022/buy',\n",
       " 'https://www.myntra.com/casual-shoes/el-paso/el-paso-men-brown-derbys/9249461/buy',\n",
       " 'https://www.myntra.com/casual-shoes/afrojack/afrojack-men-fluorescent-green-woven-design-mesh-mid-top-sneakers/12681048/buy',\n",
       " 'https://www.myntra.com/casual-shoes/zapatoz/zapatoz-women-white-sneakers/11812038/buy',\n",
       " 'https://www.myntra.com/sports-shoes/hrx-by-hrithik-roshan/hrx-by-hrithik-roshan-women-black-running-shoes/11953798/buy',\n",
       " 'https://www.myntra.com/casual-shoes/dressberry/dressberry-women-black--white-snakeskin-textured-horsebit-loafers/12116124/buy',\n",
       " 'https://www.myntra.com/sports-shoes/adidas/adidas-men-blue--black-throb-woven-design-running-shoes/11352136/buy',\n",
       " 'https://www.myntra.com/casual-shoes/adidas-originals/adidas-originals-men-white--black-zx-2k-boost-colourblocked-sneakers/12031800/buy',\n",
       " 'https://www.myntra.com/sports-shoes/hrx-by-hrithik-roshan/hrx-by-hrithik-roshan-men-white-racquet-sports-non-marking-court-shoe/11980604/buy',\n",
       " 'https://www.myntra.com/casual-shoes/roadster/roadster-men-black-recycled-denim-espadrilles/12825702/buy',\n",
       " 'https://www.myntra.com/casual-shoes/walkstyle-by-el-paso/walkstyle-by-el-paso-men-brown-mojaris/11779438/buy',\n",
       " 'https://www.myntra.com/casual-shoes/puma/puma-unisex-white--blue-bmw-m-motorsport-rs-cube-sneakers/11419906/buy',\n",
       " 'https://www.myntra.com/casual-shoes/mactree/mactree-men-black-sneakers/11100830/buy',\n",
       " 'https://www.myntra.com/casual-shoes/valiosaa/valiosaa-women-black-solid-synthetic-mid-top-flat-boots/2349761/buy',\n",
       " 'https://www.myntra.com/heels/mode-by-red-tape/mode-by-red-tape-women-tan-solid-heeled-boots/13194556/buy',\n",
       " 'https://www.myntra.com/casual-shoes/mast--harbour/mast--harbour-men-navy-blue-solid-sneakers/11771966/buy',\n",
       " 'https://www.myntra.com/sports-shoes/puma/puma-unisex-grey-textile-nrgy-dynamo-slip-on-running-shoes/11203206/buy',\n",
       " 'https://www.myntra.com/casual-shoes/zapatoz/zapatoz-women-black-solid-pu-mid-top-sneakers/12550870/buy',\n",
       " 'https://www.myntra.com/sports-shoes/walkstyle-by-el-paso/walkstyle-by-el-paso-men-green--yellow-air-series-mesh-running-shoes/12164166/buy',\n",
       " 'https://www.myntra.com/sports-shoes/asics/asics-men-navy-blue-running-shoes/2505857/buy',\n",
       " 'https://www.myntra.com/casual-shoes/adidas-originals/adidas-originals-men-white-solid-leather-excluding-trims-team-court-sneakers/11353622/buy',\n",
       " 'https://www.myntra.com/sports-shoes/hrx-by-hrithik-roshan/hrx-by-hrithik-roshan-men-off-white-metaflash-running-shoe/11999396/buy',\n",
       " 'https://www.myntra.com/sports-shoes/puma/puma-men-black-lqdcell-tension-training-or-gym-shoes/10248607/buy',\n",
       " 'https://www.myntra.com/sports-shoes/nike/nike-men-black-air-zoom-vomero-14-running-shoes/11045524/buy',\n",
       " 'https://www.myntra.com/formal-shoes/mactree/mactree-men-black-solid-formal-derbys/12225134/buy',\n",
       " 'https://www.myntra.com/heels/truffle-collection/truffle-collection-women-black-solid-heeled-boots/13226144/buy',\n",
       " 'https://www.myntra.com/sports-shoes/afrojack/afrojack-men-black-running-shoes/12294432/buy',\n",
       " 'https://www.myntra.com/casual-shoes/doc-martin/doc-martin-men-orange--grey-colourblocked-sneakers/11743788/buy',\n",
       " 'https://www.myntra.com/heels/khadims/khadims-women-tan-brown-solid-heels/13042272/buy',\n",
       " 'https://www.myntra.com/sports-shoes/mactree/mactree-men-black-bounce-walking-shoes/12384026/buy',\n",
       " 'https://www.myntra.com/casual-shoes/roadster/roadster-men-black-solid-sneakers/11730482/buy',\n",
       " 'https://www.myntra.com/casual-shoes/mactree/mactree-men-brown-solid-mid-top-flat-boots/1728397/buy',\n",
       " 'https://www.myntra.com/casual-shoes/puma/puma-unisex-black-solid-kent-20-idp-sneakers/12847818/buy',\n",
       " 'https://www.myntra.com/heels/zapatoz/zapatoz-women-black-solid-mid-top-heeled-boots/12393560/buy',\n",
       " 'https://www.myntra.com/casual-shoes/locomotive/locomotive-men-grey-sneakers/9785485/buy',\n",
       " 'https://www.myntra.com/casual-shoes/roadster/roadster-men-navy-blue-woven-design-washable-slip-on-sneakers/12550692/buy',\n",
       " 'https://www.myntra.com/casual-shoes/bruno-manetti/bruno-manetti-women-black-solid-high-top-flat-boots/1830033/buy',\n",
       " 'https://www.myntra.com/sports-shoes/walkstyle-by-el-paso/walkstyle-by-el-paso-men-grey-mesh-running-shoes/11779430/buy',\n",
       " 'https://www.myntra.com/casual-shoes/mrwonker/mrwonker-men-multicoloured-colourblocked-sneakers/12786380/buy',\n",
       " 'https://www.myntra.com/casual-shoes/highlander/highlander-men-grey-sneakers/11097158/buy',\n",
       " 'https://www.myntra.com/sports-shoes/zapatoz/zapatoz-women-white-pu-high-top-walking-shoes/12463802/buy',\n",
       " 'https://www.myntra.com/casual-shoes/mactree/mactree-men-white-solid-sneakers/11937556/buy',\n",
       " 'https://www.myntra.com/casual-shoes/invictus/invictus-men-white--grey-solid-sneakers/12600900/buy',\n",
       " 'https://www.myntra.com/sports-shoes/eego-italy/eego-italy-men-black-leather-high-top-trekking-shoes/7741225/buy',\n",
       " 'https://www.myntra.com/sports-shoes/afrojack/afrojack-men-grey-training-or-gym-shoes/12294900/buy',\n",
       " 'https://www.myntra.com/sports-shoes/nike/nike-men-purple--yellow-lebron-soldier-14-mid-top-basketball-shoes/12738414/buy',\n",
       " 'https://www.myntra.com/sports-shoes/hrx-by-hrithik-roshan/hrx-by-hrithik-roshan-men-blue-metaflash-running-shoe/11999402/buy',\n",
       " 'https://www.myntra.com/heels/zapatoz/zapatoz-women-black-solid-heeled-boots/12309748/buy',\n",
       " 'https://www.myntra.com/sports-shoes/puma/puma-men-navy-blue-mesh-running-shoes/13072070/buy',\n",
       " 'https://www.myntra.com/sports-shoes/mengler/mengler-men-black-textile-walking-shoes/11431554/buy',\n",
       " 'https://www.myntra.com/sports-shoes/red-tape/red-tape-men-white-mesh-walking-shoes/12591022/buy',\n",
       " 'https://www.myntra.com/casual-shoes/el-paso/el-paso-men-brown-derbys/9249461/buy',\n",
       " 'https://www.myntra.com/casual-shoes/afrojack/afrojack-men-fluorescent-green-woven-design-mesh-mid-top-sneakers/12681048/buy',\n",
       " 'https://www.myntra.com/casual-shoes/zapatoz/zapatoz-women-white-sneakers/11812038/buy',\n",
       " 'https://www.myntra.com/sports-shoes/hrx-by-hrithik-roshan/hrx-by-hrithik-roshan-women-black-running-shoes/11953798/buy',\n",
       " 'https://www.myntra.com/casual-shoes/dressberry/dressberry-women-black--white-snakeskin-textured-horsebit-loafers/12116124/buy',\n",
       " 'https://www.myntra.com/sports-shoes/adidas/adidas-men-blue--black-throb-woven-design-running-shoes/11352136/buy',\n",
       " 'https://www.myntra.com/casual-shoes/adidas-originals/adidas-originals-men-white--black-zx-2k-boost-colourblocked-sneakers/12031800/buy',\n",
       " 'https://www.myntra.com/sports-shoes/hrx-by-hrithik-roshan/hrx-by-hrithik-roshan-men-white-racquet-sports-non-marking-court-shoe/11980604/buy',\n",
       " 'https://www.myntra.com/casual-shoes/roadster/roadster-men-black-recycled-denim-espadrilles/12825702/buy',\n",
       " 'https://www.myntra.com/casual-shoes/walkstyle-by-el-paso/walkstyle-by-el-paso-men-brown-mojaris/11779438/buy',\n",
       " 'https://www.myntra.com/casual-shoes/puma/puma-unisex-white--blue-bmw-m-motorsport-rs-cube-sneakers/11419906/buy',\n",
       " 'https://www.myntra.com/casual-shoes/mactree/mactree-men-black-sneakers/11100830/buy',\n",
       " 'https://www.myntra.com/casual-shoes/valiosaa/valiosaa-women-black-solid-synthetic-mid-top-flat-boots/2349761/buy',\n",
       " 'https://www.myntra.com/heels/mode-by-red-tape/mode-by-red-tape-women-tan-solid-heeled-boots/13194556/buy',\n",
       " 'https://www.myntra.com/casual-shoes/mast--harbour/mast--harbour-men-navy-blue-solid-sneakers/11771966/buy',\n",
       " 'https://www.myntra.com/sports-shoes/puma/puma-unisex-grey-textile-nrgy-dynamo-slip-on-running-shoes/11203206/buy',\n",
       " 'https://www.myntra.com/casual-shoes/zapatoz/zapatoz-women-black-solid-pu-mid-top-sneakers/12550870/buy',\n",
       " 'https://www.myntra.com/sports-shoes/walkstyle-by-el-paso/walkstyle-by-el-paso-men-green--yellow-air-series-mesh-running-shoes/12164166/buy',\n",
       " 'https://www.myntra.com/sports-shoes/asics/asics-men-navy-blue-running-shoes/2505857/buy',\n",
       " 'https://www.myntra.com/casual-shoes/adidas-originals/adidas-originals-men-white-solid-leather-excluding-trims-team-court-sneakers/11353622/buy',\n",
       " 'https://www.myntra.com/sports-shoes/hrx-by-hrithik-roshan/hrx-by-hrithik-roshan-men-off-white-metaflash-running-shoe/11999396/buy',\n",
       " 'https://www.myntra.com/sports-shoes/puma/puma-men-black-lqdcell-tension-training-or-gym-shoes/10248607/buy',\n",
       " 'https://www.myntra.com/sports-shoes/nike/nike-men-black-air-zoom-vomero-14-running-shoes/11045524/buy',\n",
       " 'https://www.myntra.com/formal-shoes/mactree/mactree-men-black-solid-formal-derbys/12225134/buy',\n",
       " 'https://www.myntra.com/heels/truffle-collection/truffle-collection-women-black-solid-heeled-boots/13226144/buy',\n",
       " 'https://www.myntra.com/sports-shoes/afrojack/afrojack-men-black-running-shoes/12294432/buy',\n",
       " 'https://www.myntra.com/casual-shoes/doc-martin/doc-martin-men-orange--grey-colourblocked-sneakers/11743788/buy',\n",
       " 'https://www.myntra.com/heels/khadims/khadims-women-tan-brown-solid-heels/13042272/buy',\n",
       " 'https://www.myntra.com/sports-shoes/mactree/mactree-men-black-bounce-walking-shoes/12384026/buy',\n",
       " 'https://www.myntra.com/casual-shoes/roadster/roadster-men-black-solid-sneakers/11730482/buy',\n",
       " 'https://www.myntra.com/casual-shoes/mactree/mactree-men-brown-solid-mid-top-flat-boots/1728397/buy',\n",
       " 'https://www.myntra.com/casual-shoes/puma/puma-unisex-black-solid-kent-20-idp-sneakers/12847818/buy',\n",
       " 'https://www.myntra.com/heels/zapatoz/zapatoz-women-black-solid-mid-top-heeled-boots/12393560/buy',\n",
       " 'https://www.myntra.com/casual-shoes/locomotive/locomotive-men-grey-sneakers/9785485/buy',\n",
       " 'https://www.myntra.com/casual-shoes/roadster/roadster-men-navy-blue-woven-design-washable-slip-on-sneakers/12550692/buy']"
      ]
     },
     "execution_count": 140,
     "metadata": {},
     "output_type": "execute_result"
    }
   ],
   "source": [
    "urls"
   ]
  },
  {
   "cell_type": "code",
   "execution_count": 141,
   "metadata": {},
   "outputs": [
    {
     "data": {
      "text/plain": [
       "100"
      ]
     },
     "execution_count": 141,
     "metadata": {},
     "output_type": "execute_result"
    }
   ],
   "source": [
    "len(urls)"
   ]
  },
  {
   "cell_type": "code",
   "execution_count": 142,
   "metadata": {},
   "outputs": [],
   "source": [
    "#loop to scrap required details from each sunglasses page\n",
    "for url in urls:\n",
    "    driver.get(url)\n",
    "    soup = BeautifulSoup(driver.page_source, 'html.parser')\n",
    "    b = soup.find('h1',attrs={'class':'pdp-title'})\n",
    "    if b is not None:\n",
    "        brand.append(b.text.replace('\\n',''))\n",
    "    else:\n",
    "        brand.append('-')\n",
    "    p = soup.find('span', attrs = {'class':'pdp-price'})\n",
    "    if p is not None:\n",
    "        price.append(p.text.replace('\\n',''))\n",
    "    else:\n",
    "        price.append('-')\n",
    "    des=soup.find('h1', attrs = {'class':'pdp-name'})\n",
    "    if des is not None:\n",
    "        description.append(des.text.replace('\\n',''))\n",
    "    else:\n",
    "        description.append('-')"
   ]
  },
  {
   "cell_type": "code",
   "execution_count": 143,
   "metadata": {},
   "outputs": [],
   "source": [
    "import pandas as pd\n",
    "shoes=pd.DataFrame({})\n",
    "shoes['brand']=brand\n",
    "shoes['price']=price\n",
    "shoes['description']=description"
   ]
  },
  {
   "cell_type": "code",
   "execution_count": 144,
   "metadata": {},
   "outputs": [
    {
     "data": {
      "text/html": [
       "<div>\n",
       "<style scoped>\n",
       "    .dataframe tbody tr th:only-of-type {\n",
       "        vertical-align: middle;\n",
       "    }\n",
       "\n",
       "    .dataframe tbody tr th {\n",
       "        vertical-align: top;\n",
       "    }\n",
       "\n",
       "    .dataframe thead th {\n",
       "        text-align: right;\n",
       "    }\n",
       "</style>\n",
       "<table border=\"1\" class=\"dataframe\">\n",
       "  <thead>\n",
       "    <tr style=\"text-align: right;\">\n",
       "      <th></th>\n",
       "      <th>brand</th>\n",
       "      <th>price</th>\n",
       "      <th>description</th>\n",
       "    </tr>\n",
       "  </thead>\n",
       "  <tbody>\n",
       "    <tr>\n",
       "      <th>0</th>\n",
       "      <td>Bruno Manetti</td>\n",
       "      <td>Rs. 1799</td>\n",
       "      <td>Women Black Solid High-Top Flat Boots</td>\n",
       "    </tr>\n",
       "    <tr>\n",
       "      <th>1</th>\n",
       "      <td>Walkstyle By El Paso</td>\n",
       "      <td>Rs. 679</td>\n",
       "      <td>Men Grey Mesh Running Shoes</td>\n",
       "    </tr>\n",
       "    <tr>\n",
       "      <th>2</th>\n",
       "      <td>mr.wonker</td>\n",
       "      <td>Rs. 665</td>\n",
       "      <td>Men Multicoloured Colourblocked Sneakers</td>\n",
       "    </tr>\n",
       "    <tr>\n",
       "      <th>3</th>\n",
       "      <td>HIGHLANDER</td>\n",
       "      <td>Rs. 995</td>\n",
       "      <td>Men Grey Sneakers</td>\n",
       "    </tr>\n",
       "    <tr>\n",
       "      <th>4</th>\n",
       "      <td>ZAPATOZ</td>\n",
       "      <td>Rs. 999</td>\n",
       "      <td>Women White PU High-Top Walking Shoes</td>\n",
       "    </tr>\n",
       "    <tr>\n",
       "      <th>...</th>\n",
       "      <td>...</td>\n",
       "      <td>...</td>\n",
       "      <td>...</td>\n",
       "    </tr>\n",
       "    <tr>\n",
       "      <th>95</th>\n",
       "      <td>Mactree</td>\n",
       "      <td>Rs. 944</td>\n",
       "      <td>Men Brown Solid Mid-Top Flat Boots</td>\n",
       "    </tr>\n",
       "    <tr>\n",
       "      <th>96</th>\n",
       "      <td>Puma</td>\n",
       "      <td>Rs. 2999</td>\n",
       "      <td>Unisex Black Solid Kent 2.0 IDP Sneakers</td>\n",
       "    </tr>\n",
       "    <tr>\n",
       "      <th>97</th>\n",
       "      <td>ZAPATOZ</td>\n",
       "      <td>Rs. 699</td>\n",
       "      <td>Women Black Solid Mid-Top Heeled Boots</td>\n",
       "    </tr>\n",
       "    <tr>\n",
       "      <th>98</th>\n",
       "      <td>LOCOMOTIVE</td>\n",
       "      <td>Rs. 895</td>\n",
       "      <td>Men Grey Sneakers</td>\n",
       "    </tr>\n",
       "    <tr>\n",
       "      <th>99</th>\n",
       "      <td>Roadster</td>\n",
       "      <td>Rs. 1699</td>\n",
       "      <td>Men Navy Blue Woven Design Washable Slip-On Sn...</td>\n",
       "    </tr>\n",
       "  </tbody>\n",
       "</table>\n",
       "<p>100 rows × 3 columns</p>\n",
       "</div>"
      ],
      "text/plain": [
       "                   brand     price  \\\n",
       "0          Bruno Manetti  Rs. 1799   \n",
       "1   Walkstyle By El Paso   Rs. 679   \n",
       "2              mr.wonker   Rs. 665   \n",
       "3             HIGHLANDER   Rs. 995   \n",
       "4                ZAPATOZ   Rs. 999   \n",
       "..                   ...       ...   \n",
       "95               Mactree   Rs. 944   \n",
       "96                  Puma  Rs. 2999   \n",
       "97               ZAPATOZ   Rs. 699   \n",
       "98            LOCOMOTIVE   Rs. 895   \n",
       "99              Roadster  Rs. 1699   \n",
       "\n",
       "                                          description  \n",
       "0               Women Black Solid High-Top Flat Boots  \n",
       "1                         Men Grey Mesh Running Shoes  \n",
       "2            Men Multicoloured Colourblocked Sneakers  \n",
       "3                                   Men Grey Sneakers  \n",
       "4               Women White PU High-Top Walking Shoes  \n",
       "..                                                ...  \n",
       "95                 Men Brown Solid Mid-Top Flat Boots  \n",
       "96           Unisex Black Solid Kent 2.0 IDP Sneakers  \n",
       "97             Women Black Solid Mid-Top Heeled Boots  \n",
       "98                                  Men Grey Sneakers  \n",
       "99  Men Navy Blue Woven Design Washable Slip-On Sn...  \n",
       "\n",
       "[100 rows x 3 columns]"
      ]
     },
     "execution_count": 144,
     "metadata": {},
     "output_type": "execute_result"
    }
   ],
   "source": [
    "shoes"
   ]
  },
  {
   "cell_type": "markdown",
   "metadata": {},
   "source": [
    "# Q10: Go to webpage https://www.amazon.in/"
   ]
  },
  {
   "cell_type": "code",
   "execution_count": 145,
   "metadata": {},
   "outputs": [],
   "source": [
    "driver=webdriver.Chrome(r\"C:\\Users\\sidse\\Downloads\\chromedriver_win32\\chromedriver.exe\")"
   ]
  },
  {
   "cell_type": "code",
   "execution_count": 146,
   "metadata": {},
   "outputs": [],
   "source": [
    "driver.get('https://www.amazon.in/')"
   ]
  },
  {
   "cell_type": "code",
   "execution_count": 147,
   "metadata": {},
   "outputs": [],
   "source": [
    "search_item=driver.find_element_by_xpath(\"//input[@id='twotabsearchtextbox']\")\n",
    "search_item.send_keys('laptop')"
   ]
  },
  {
   "cell_type": "code",
   "execution_count": 148,
   "metadata": {},
   "outputs": [],
   "source": [
    "search_button=driver.find_element_by_xpath(\"//span[@class='nav-search-submit-text nav-sprite']\")\n",
    "search_button.click()"
   ]
  },
  {
   "cell_type": "code",
   "execution_count": 149,
   "metadata": {},
   "outputs": [],
   "source": [
    "search_button=driver.find_element_by_xpath(\"(//i[@class='a-icon a-icon-checkbox'])[29]\")\n",
    "search_button.click()"
   ]
  },
  {
   "cell_type": "code",
   "execution_count": 150,
   "metadata": {},
   "outputs": [],
   "source": [
    "search_button=driver.find_element_by_xpath(\"(//i[@class='a-icon a-icon-checkbox'])[29]\")\n",
    "search_button.click()"
   ]
  },
  {
   "cell_type": "code",
   "execution_count": 151,
   "metadata": {},
   "outputs": [],
   "source": [
    "title=[]\n",
    "price=[]\n",
    "rating=[]"
   ]
  },
  {
   "cell_type": "code",
   "execution_count": 152,
   "metadata": {},
   "outputs": [],
   "source": [
    "urls=[]"
   ]
  },
  {
   "cell_type": "code",
   "execution_count": 153,
   "metadata": {},
   "outputs": [],
   "source": [
    "soup= BeautifulSoup(driver.page_source, 'html.parser')\n",
    "prod_urls = driver.find_elements_by_xpath(\"//a[@class='a-link-normal a-text-normal']\")\n",
    "for prod in prod_urls:\n",
    "    urls.append(prod.get_attribute('href'))"
   ]
  },
  {
   "cell_type": "code",
   "execution_count": 154,
   "metadata": {},
   "outputs": [
    {
     "data": {
      "text/plain": [
       "['https://www.amazon.in/gp/slredirect/picassoRedirect.html/ref=pa_sp_atf_aps_sr_pg1_1?ie=UTF8&adId=A067580612X70JRNZXJYW&url=%2FHP-db1069AU-15-6-inch-Windows-Graphics%2Fdp%2FB083RD58F6%2Fref%3Dsr_1_1_sspa%3Fdchild%3D1%26keywords%3Dlaptop%26qid%3D1608126294%26sr%3D8-1-spons%26psc%3D1&qualifier=1608126294&id=5278972630071743&widgetName=sp_atf',\n",
       " 'https://www.amazon.in/gp/slredirect/picassoRedirect.html/ref=pa_sp_atf_aps_sr_pg1_1?ie=UTF8&adId=A037455527XVDOCUVJDME&url=%2FHP-14-inch-Laptop-i5-10210U-14-ck2018tu%2Fdp%2FB08HJXVDHN%2Fref%3Dsr_1_2_sspa%3Fdchild%3D1%26keywords%3Dlaptop%26qid%3D1608126294%26sr%3D8-2-spons%26psc%3D1&qualifier=1608126294&id=5278972630071743&widgetName=sp_atf',\n",
       " 'https://www.amazon.in/AVITA-Essential-NE14A2INC433-CR-Integrated-Graphics/dp/B08DDYYZ3G/ref=sr_1_3?dchild=1&keywords=laptop&qid=1608126294&sr=8-3',\n",
       " 'https://www.amazon.in/HP-14-inch-Laptop-i3-1005G1-14s-cf3074TU/dp/B08G24RGKS/ref=sr_1_4?dchild=1&keywords=laptop&qid=1608126294&sr=8-4',\n",
       " 'https://www.amazon.in/Lenovo-Integrated-Graphics-Platinum-81W100VFIN/dp/B08JCDHPGF/ref=sr_1_5?dchild=1&keywords=laptop&qid=1608126294&sr=8-5',\n",
       " 'https://www.amazon.in/Lenovo-Ideapad-Laptop-Windows-81WD00AVIN/dp/B087D4RVHY/ref=sxin_9?ascsubtag=amzn1.osa.95484de7-87d3-466a-9cb2-75c6686ca195.A21TJRUUN4KGV.en_IN&creativeASIN=B087D4RVHY&cv_ct_cx=laptop&cv_ct_id=amzn1.osa.95484de7-87d3-466a-9cb2-75c6686ca195.A21TJRUUN4KGV.en_IN&cv_ct_pg=search&cv_ct_we=asin&cv_ct_wn=osp-single-source-earns-comm&dchild=1&keywords=laptop&linkCode=oas&pd_rd_i=B087D4RVHY&pd_rd_r=c3d7a362-7ab8-478b-8a23-749ae861f7a5&pd_rd_w=JoVhm&pd_rd_wg=ao0Ck&pf_rd_p=c2643bf4-911f-4931-9961-1c8e07844602&pf_rd_r=BJ7D60VMAA68WYFZNQCN&qid=1608126294&sr=1-1-483c64d8-df78-4008-ae20-e69f683e58b1&tag=thebestones-21',\n",
       " 'https://www.amazon.in/ASUS-i5-1035G1-Integrated-Transparent-X409JA-EK581T/dp/B08BV8RKGB/ref=sxin_9?ascsubtag=amzn1.osa.95484de7-87d3-466a-9cb2-75c6686ca195.A21TJRUUN4KGV.en_IN&creativeASIN=B08BV8RKGB&cv_ct_cx=laptop&cv_ct_id=amzn1.osa.95484de7-87d3-466a-9cb2-75c6686ca195.A21TJRUUN4KGV.en_IN&cv_ct_pg=search&cv_ct_we=asin&cv_ct_wn=osp-single-source-earns-comm&dchild=1&keywords=laptop&linkCode=oas&pd_rd_i=B08BV8RKGB&pd_rd_r=c3d7a362-7ab8-478b-8a23-749ae861f7a5&pd_rd_w=JoVhm&pd_rd_wg=ao0Ck&pf_rd_p=c2643bf4-911f-4931-9961-1c8e07844602&pf_rd_r=BJ7D60VMAA68WYFZNQCN&qid=1608126294&sr=1-2-483c64d8-df78-4008-ae20-e69f683e58b1&tag=thebestones-21',\n",
       " 'https://www.amazon.in/Dell-Inspiron-13-3-inch-Integrated-N7380/dp/B07NVKXTP9/ref=sxin_9?ascsubtag=amzn1.osa.95484de7-87d3-466a-9cb2-75c6686ca195.A21TJRUUN4KGV.en_IN&creativeASIN=B07NVKXTP9&cv_ct_cx=laptop&cv_ct_id=amzn1.osa.95484de7-87d3-466a-9cb2-75c6686ca195.A21TJRUUN4KGV.en_IN&cv_ct_pg=search&cv_ct_we=asin&cv_ct_wn=osp-single-source-earns-comm&dchild=1&keywords=laptop&linkCode=oas&pd_rd_i=B07NVKXTP9&pd_rd_r=c3d7a362-7ab8-478b-8a23-749ae861f7a5&pd_rd_w=JoVhm&pd_rd_wg=ao0Ck&pf_rd_p=c2643bf4-911f-4931-9961-1c8e07844602&pf_rd_r=BJ7D60VMAA68WYFZNQCN&qid=1608126294&sr=1-3-483c64d8-df78-4008-ae20-e69f683e58b1&tag=thebestones-21',\n",
       " 'https://www.amazon.in/HP-Pavilion-DK0268TX-15-6-inch-i5-9300H/dp/B08CHYPLGM/ref=sxin_9?ascsubtag=amzn1.osa.95484de7-87d3-466a-9cb2-75c6686ca195.A21TJRUUN4KGV.en_IN&creativeASIN=B08CHYPLGM&cv_ct_cx=laptop&cv_ct_id=amzn1.osa.95484de7-87d3-466a-9cb2-75c6686ca195.A21TJRUUN4KGV.en_IN&cv_ct_pg=search&cv_ct_we=asin&cv_ct_wn=osp-single-source-earns-comm&dchild=1&keywords=laptop&linkCode=oas&pd_rd_i=B08CHYPLGM&pd_rd_r=c3d7a362-7ab8-478b-8a23-749ae861f7a5&pd_rd_w=JoVhm&pd_rd_wg=ao0Ck&pf_rd_p=c2643bf4-911f-4931-9961-1c8e07844602&pf_rd_r=BJ7D60VMAA68WYFZNQCN&qid=1608126294&sr=1-4-483c64d8-df78-4008-ae20-e69f683e58b1&tag=thebestones-21',\n",
       " 'https://www.amazon.in/Acer-SF314-57G-i5-1035G1-processor-Thunderbolt/dp/B07Z88C1ZR/ref=sxin_9?ascsubtag=amzn1.osa.95484de7-87d3-466a-9cb2-75c6686ca195.A21TJRUUN4KGV.en_IN&creativeASIN=B07Z88C1ZR&cv_ct_cx=laptop&cv_ct_id=amzn1.osa.95484de7-87d3-466a-9cb2-75c6686ca195.A21TJRUUN4KGV.en_IN&cv_ct_pg=search&cv_ct_we=asin&cv_ct_wn=osp-single-source-earns-comm&dchild=1&keywords=laptop&linkCode=oas&pd_rd_i=B07Z88C1ZR&pd_rd_r=c3d7a362-7ab8-478b-8a23-749ae861f7a5&pd_rd_w=JoVhm&pd_rd_wg=ao0Ck&pf_rd_p=c2643bf4-911f-4931-9961-1c8e07844602&pf_rd_r=BJ7D60VMAA68WYFZNQCN&qid=1608126294&sr=1-5-483c64d8-df78-4008-ae20-e69f683e58b1&tag=thebestones-21',\n",
       " 'https://www.amazon.in/Acer-A315-23-15-6-inch-dual-core-RadeonTM/dp/B088CF3VX6/ref=sr_1_6?dchild=1&keywords=laptop&qid=1608126294&sr=8-6',\n",
       " 'https://www.amazon.in/Inspiron-3583-15-6-inch-Microsoft-Graphics/dp/B082MP95K1/ref=sr_1_7?dchild=1&keywords=laptop&qid=1608126294&sr=8-7',\n",
       " 'https://www.amazon.in/Coconics-Enabler-Celeron-Laptop-Ubuntu/dp/B08JZYGL2K/ref=sr_1_8?dchild=1&keywords=laptop&qid=1608126294&sr=8-8',\n",
       " 'https://www.amazon.in/Lenovo-V145-AMD-A6-Laptop-Windows-81MT006YIH/dp/B08N18DV1Z/ref=sr_1_9?dchild=1&keywords=laptop&qid=1608126294&sr=8-9',\n",
       " 'https://www.amazon.in/Lenovo-Ideapad-A6-9225-Windows-81N30063IN/dp/B081Z4H8BM/ref=sr_1_10?dchild=1&keywords=laptop&qid=1608126294&sr=8-10',\n",
       " 'https://www.amazon.in/gp/slredirect/picassoRedirect.html/ref=pa_sp_mtf_aps_sr_pg1_1?ie=UTF8&adId=A03757273R9HLO3CLC4ZF&url=%2FHP-15-6-inch-i3-1005G1-15s-fr1004tu%2Fdp%2FB0897MSMQ3%2Fref%3Dsr_1_11_sspa%3Fdchild%3D1%26keywords%3Dlaptop%26qid%3D1608126294%26sr%3D8-11-spons%26psc%3D1&qualifier=1608126294&id=5278972630071743&widgetName=sp_mtf',\n",
       " 'https://www.amazon.in/gp/slredirect/picassoRedirect.html/ref=pa_sp_mtf_aps_sr_pg1_1?ie=UTF8&adId=A03749911NQ3HW8FAZO16&url=%2FHP-15-6-Inch-Laptop-i5-10210U-15s-du1065TU%2Fdp%2FB08HW9492C%2Fref%3Dsr_1_12_sspa%3Fdchild%3D1%26keywords%3Dlaptop%26qid%3D1608126294%26sr%3D8-12-spons%26psc%3D1&qualifier=1608126294&id=5278972630071743&widgetName=sp_mtf',\n",
       " 'https://www.amazon.in/HP-db1069AU-15-6-inch-Windows-Graphics/dp/B083RD58F6/ref=sr_1_13?dchild=1&keywords=laptop&qid=1608126294&sr=8-13',\n",
       " 'https://www.amazon.in/Acer-One-Pentium-Dual-Core/dp/B08J491Z28/ref=sr_1_14?dchild=1&keywords=laptop&qid=1608126294&sr=8-14',\n",
       " 'https://www.amazon.in/Dell-Inspiron-3480-Graphics-D560168WIN9BE/dp/B08DDZ1P1G/ref=sr_1_15?dchild=1&keywords=laptop&qid=1608126294&sr=8-15',\n",
       " 'https://www.amazon.in/AVITA-NS14A6IND541-MEGYB-A9-9420E-Graphics-Metallic/dp/B0873K8GRG/ref=sr_1_16?dchild=1&keywords=laptop&qid=1608126294&sr=8-16',\n",
       " 'https://www.amazon.in/HP-2D8C6PA-3-3300U-Windows-10-Graphics/dp/B08KJ92N9V/ref=sr_1_17?dchild=1&keywords=laptop&qid=1608126294&sr=8-17',\n",
       " 'https://www.amazon.in/ASUS-E203NAH-FD114T-Laptop-Celeron-Display/dp/B08N824VPY/ref=sr_1_18?dchild=1&keywords=laptop&qid=1608126294&sr=8-18',\n",
       " 'https://www.amazon.in/LENOVO-V145-81MTA00QIH-A4-9125-WIN10/dp/B08N43W2PY/ref=sr_1_19?dchild=1&keywords=laptop&qid=1608126294&sr=8-19',\n",
       " 'https://www.amazon.in/Acer-Dual-core-Processor-Integrated-EX215-22/dp/B08NVM6VTH/ref=sr_1_20?dchild=1&keywords=laptop&qid=1608126294&sr=8-20',\n",
       " 'https://www.amazon.in/gp/slredirect/picassoRedirect.html/ref=pa_sp_btf_aps_sr_pg1_1?ie=UTF8&adId=A03367492BUV3B6SRUD1X&url=%2FHP-Pavilion-Processor-15-6-inch-15-dk0263TX%2Fdp%2FB08CYZM4Y1%2Fref%3Dsr_1_21_sspa%3Fdchild%3D1%26keywords%3Dlaptop%26qid%3D1608126294%26sr%3D8-21-spons%26psc%3D1&qualifier=1608126294&id=5278972630071743&widgetName=sp_btf',\n",
       " 'https://www.amazon.in/gp/slredirect/picassoRedirect.html/ref=pa_sp_btf_aps_sr_pg1_1?ie=UTF8&adId=A033664923RCA5ENRV8XV&url=%2FHP-Processor-15-6-inch-i7-10750H-15-ek0019TX%2Fdp%2FB08CGM1PKK%2Fref%3Dsr_1_22_sspa%3Fdchild%3D1%26keywords%3Dlaptop%26qid%3D1608126294%26sr%3D8-22-spons%26psc%3D1&qualifier=1608126294&id=5278972630071743&widgetName=sp_btf']"
      ]
     },
     "execution_count": 154,
     "metadata": {},
     "output_type": "execute_result"
    }
   ],
   "source": [
    "urls"
   ]
  },
  {
   "cell_type": "code",
   "execution_count": 155,
   "metadata": {},
   "outputs": [
    {
     "data": {
      "text/plain": [
       "27"
      ]
     },
     "execution_count": 155,
     "metadata": {},
     "output_type": "execute_result"
    }
   ],
   "source": [
    "len(urls)"
   ]
  },
  {
   "cell_type": "code",
   "execution_count": 156,
   "metadata": {},
   "outputs": [],
   "source": [
    "#loop to scrap required details from each laptop page\n",
    "for url in urls:\n",
    "    driver.get(url)\n",
    "    soup = BeautifulSoup(driver.page_source, 'html.parser')\n",
    "    t = soup.find('span',attrs={'id':'productTitle'})\n",
    "    if t is not None:\n",
    "        title.append(t.text.replace('\\n',''))\n",
    "    else:\n",
    "        title.append('-')\n",
    "    p = soup.find('span', attrs = {'id':'priceblock_ourprice'})\n",
    "    if p is not None:\n",
    "        price.append(p.text.replace('\\n',''))\n",
    "    else:\n",
    "        price.append('-')"
   ]
  },
  {
   "cell_type": "code",
   "execution_count": 157,
   "metadata": {},
   "outputs": [],
   "source": [
    "import pandas as pd\n",
    "laptop=pd.DataFrame({})\n",
    "laptop['title']=title[:10]\n",
    "laptop['price']=price[:10]"
   ]
  },
  {
   "cell_type": "code",
   "execution_count": 158,
   "metadata": {},
   "outputs": [
    {
     "data": {
      "text/html": [
       "<div>\n",
       "<style scoped>\n",
       "    .dataframe tbody tr th:only-of-type {\n",
       "        vertical-align: middle;\n",
       "    }\n",
       "\n",
       "    .dataframe tbody tr th {\n",
       "        vertical-align: top;\n",
       "    }\n",
       "\n",
       "    .dataframe thead th {\n",
       "        text-align: right;\n",
       "    }\n",
       "</style>\n",
       "<table border=\"1\" class=\"dataframe\">\n",
       "  <thead>\n",
       "    <tr style=\"text-align: right;\">\n",
       "      <th></th>\n",
       "      <th>title</th>\n",
       "      <th>price</th>\n",
       "    </tr>\n",
       "  </thead>\n",
       "  <tbody>\n",
       "    <tr>\n",
       "      <th>0</th>\n",
       "      <td>HP 15 db1069AU 15.6-inch Laptop (3rd Gen Ryzen...</td>\n",
       "      <td>-</td>\n",
       "    </tr>\n",
       "    <tr>\n",
       "      <th>1</th>\n",
       "      <td>HP 14 10th Gen Intel Core i5 14-inch HD Laptop...</td>\n",
       "      <td>₹ 47,490.00</td>\n",
       "    </tr>\n",
       "    <tr>\n",
       "      <th>2</th>\n",
       "      <td>AVITA Essential NE14A2INC433-CR 14-inch Laptop...</td>\n",
       "      <td>₹ 19,990.00</td>\n",
       "    </tr>\n",
       "    <tr>\n",
       "      <th>3</th>\n",
       "      <td>HP 14 Ultra Thin &amp; Light 14-inch Laptop (10th ...</td>\n",
       "      <td>₹ 35,990.00</td>\n",
       "    </tr>\n",
       "    <tr>\n",
       "      <th>4</th>\n",
       "      <td>Lenovo IdeaPad Slim 3 AMD 3020e 15.6 inch HD T...</td>\n",
       "      <td>₹ 27,400.00</td>\n",
       "    </tr>\n",
       "    <tr>\n",
       "      <th>5</th>\n",
       "      <td>Lenovo Ideapad Slim 3i 10th Gen Intel Core i5 ...</td>\n",
       "      <td>₹ 49,990.00</td>\n",
       "    </tr>\n",
       "    <tr>\n",
       "      <th>6</th>\n",
       "      <td>ASUS VivoBook 14 Intel Core i5-1035G1 10th Gen...</td>\n",
       "      <td>₹ 46,990.00</td>\n",
       "    </tr>\n",
       "    <tr>\n",
       "      <th>7</th>\n",
       "      <td>Dell Inspiron 7380 13.3-inch FHD Thin &amp; Light ...</td>\n",
       "      <td>₹ 61,990.00</td>\n",
       "    </tr>\n",
       "    <tr>\n",
       "      <th>8</th>\n",
       "      <td>HP Pavilion Gaming DK0268TX 15.6-inch Laptop (...</td>\n",
       "      <td>₹ 64,490.00</td>\n",
       "    </tr>\n",
       "    <tr>\n",
       "      <th>9</th>\n",
       "      <td>Acer Swift 3 10 Gen Core i5 14-inch Ultra Thin...</td>\n",
       "      <td>₹ 64,694.00</td>\n",
       "    </tr>\n",
       "  </tbody>\n",
       "</table>\n",
       "</div>"
      ],
      "text/plain": [
       "                                               title        price\n",
       "0  HP 15 db1069AU 15.6-inch Laptop (3rd Gen Ryzen...            -\n",
       "1  HP 14 10th Gen Intel Core i5 14-inch HD Laptop...  ₹ 47,490.00\n",
       "2  AVITA Essential NE14A2INC433-CR 14-inch Laptop...  ₹ 19,990.00\n",
       "3  HP 14 Ultra Thin & Light 14-inch Laptop (10th ...  ₹ 35,990.00\n",
       "4  Lenovo IdeaPad Slim 3 AMD 3020e 15.6 inch HD T...  ₹ 27,400.00\n",
       "5  Lenovo Ideapad Slim 3i 10th Gen Intel Core i5 ...  ₹ 49,990.00\n",
       "6  ASUS VivoBook 14 Intel Core i5-1035G1 10th Gen...  ₹ 46,990.00\n",
       "7  Dell Inspiron 7380 13.3-inch FHD Thin & Light ...  ₹ 61,990.00\n",
       "8  HP Pavilion Gaming DK0268TX 15.6-inch Laptop (...  ₹ 64,490.00\n",
       "9  Acer Swift 3 10 Gen Core i5 14-inch Ultra Thin...  ₹ 64,694.00"
      ]
     },
     "execution_count": 158,
     "metadata": {},
     "output_type": "execute_result"
    }
   ],
   "source": [
    "laptop"
   ]
  },
  {
   "cell_type": "raw",
   "metadata": {},
   "source": [
    "For the above case , i could not solve the rating part initially. But it got resolved through ticket , so I am attaching that file separately"
   ]
  },
  {
   "cell_type": "code",
   "execution_count": null,
   "metadata": {},
   "outputs": [],
   "source": []
  }
 ],
 "metadata": {
  "kernelspec": {
   "display_name": "Python 3",
   "language": "python",
   "name": "python3"
  },
  "language_info": {
   "codemirror_mode": {
    "name": "ipython",
    "version": 3
   },
   "file_extension": ".py",
   "mimetype": "text/x-python",
   "name": "python",
   "nbconvert_exporter": "python",
   "pygments_lexer": "ipython3",
   "version": "3.8.3"
  }
 },
 "nbformat": 4,
 "nbformat_minor": 4
}
