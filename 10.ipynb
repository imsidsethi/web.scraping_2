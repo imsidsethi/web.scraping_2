{
 "cells": [
  {
   "cell_type": "code",
   "execution_count": 1,
   "metadata": {},
   "outputs": [],
   "source": [
    "import pandas as pd\n",
    "from bs4 import BeautifulSoup\n",
    "import requests\n",
    "import selenium\n",
    "from selenium import webdriver\n",
    "import time\n",
    "from selenium.webdriver.support.ui import WebDriverWait\n",
    "from selenium.webdriver.support import expected_conditions as EC\n",
    "from selenium.webdriver.common.by import By"
   ]
  },
  {
   "cell_type": "code",
   "execution_count": 2,
   "metadata": {},
   "outputs": [],
   "source": [
    "driver=webdriver.Chrome(r\"C:\\Users\\sidse\\Downloads\\chromedriver_win32\\chromedriver.exe\")"
   ]
  },
  {
   "cell_type": "code",
   "execution_count": 3,
   "metadata": {},
   "outputs": [],
   "source": [
    "driver.get('https://www.amazon.in/')"
   ]
  },
  {
   "cell_type": "code",
   "execution_count": 4,
   "metadata": {},
   "outputs": [],
   "source": [
    "search_item=driver.find_element_by_xpath(\"//input[@id='twotabsearchtextbox']\")\n",
    "search_item.send_keys('laptop')"
   ]
  },
  {
   "cell_type": "code",
   "execution_count": 5,
   "metadata": {},
   "outputs": [],
   "source": [
    "search_button=driver.find_element_by_xpath(\"//span[@class='nav-search-submit-text nav-sprite']\")\n",
    "search_button.click()"
   ]
  },
  {
   "cell_type": "code",
   "execution_count": 6,
   "metadata": {},
   "outputs": [],
   "source": [
    "search_button=driver.find_element_by_xpath(\"(//i[@class='a-icon a-icon-checkbox'])[29]\")\n",
    "search_button.click()"
   ]
  },
  {
   "cell_type": "code",
   "execution_count": 7,
   "metadata": {},
   "outputs": [],
   "source": [
    "search_button=driver.find_element_by_xpath(\"(//i[@class='a-icon a-icon-checkbox'])[27]\")\n",
    "search_button.click()"
   ]
  },
  {
   "cell_type": "code",
   "execution_count": 8,
   "metadata": {},
   "outputs": [],
   "source": [
    "title=[]\n",
    "price=[]\n",
    "rating=[]"
   ]
  },
  {
   "cell_type": "code",
   "execution_count": 9,
   "metadata": {},
   "outputs": [],
   "source": [
    "urls=[]"
   ]
  },
  {
   "cell_type": "code",
   "execution_count": 10,
   "metadata": {},
   "outputs": [],
   "source": [
    "soup= BeautifulSoup(driver.page_source, 'html.parser')\n",
    "prod_urls = driver.find_elements_by_xpath(\"//a[@class='a-link-normal a-text-normal']\")\n",
    "for prod in prod_urls:\n",
    "    urls.append(prod.get_attribute('href'))"
   ]
  },
  {
   "cell_type": "code",
   "execution_count": 11,
   "metadata": {},
   "outputs": [
    {
     "data": {
      "text/plain": [
       "['https://www.amazon.in/gp/slredirect/picassoRedirect.html/ref=pa_sp_atf_computers_sr_pg1_1?ie=UTF8&adId=A08283711WK5IM58S2TRH&url=%2FLenovo-Laptop-Windows-Office-81RS00B0IN%2Fdp%2FB08BSHBHZZ%2Fref%3Dsr_1_1_sspa%3Fdchild%3D1%26keywords%3Dlaptop%26qid%3D1608203573%26refinements%3Dp_n_feature_thirteen_browse-bin%253A12598163031%257C16757432031%26rnid%3D12598141031%26s%3Dcomputers%26sr%3D1-1-spons%26psc%3D1&qualifier=1608203604&id=926341093836774&widgetName=sp_atf',\n",
       " 'https://www.amazon.in/gp/slredirect/picassoRedirect.html/ref=pa_sp_atf_computers_sr_pg1_1?ie=UTF8&adId=A033664923RCA5ENRV8XV&url=%2FHP-Processor-15-6-inch-i7-10750H-15-ek0019TX%2Fdp%2FB08CGM1PKK%2Fref%3Dsr_1_2_sspa%3Fdchild%3D1%26keywords%3Dlaptop%26qid%3D1608203573%26refinements%3Dp_n_feature_thirteen_browse-bin%253A12598163031%257C16757432031%26rnid%3D12598141031%26s%3Dcomputers%26sr%3D1-2-spons%26psc%3D1&qualifier=1608203604&id=926341093836774&widgetName=sp_atf',\n",
       " 'https://www.amazon.in/Asus-Strix-Core-10th-G512LI-HN081T/dp/B08PPJ2HHM/ref=sr_1_3?dchild=1&keywords=laptop&qid=1608203573&refinements=p_n_feature_thirteen_browse-bin%3A12598163031%7C16757432031&rnid=12598141031&s=computers&sr=1-3',\n",
       " 'https://www.amazon.in/HP-Pavilion-dh0045TX-i7-8565U-Graphics/dp/B07NMSWFS4/ref=sr_1_4?dchild=1&keywords=laptop&qid=1608203573&refinements=p_n_feature_thirteen_browse-bin%3A12598163031%7C16757432031&rnid=12598141031&s=computers&sr=1-4',\n",
       " 'https://www.amazon.in/ASUS-GeForce-Graphics-Fortress-FX566LH-BQ036T/dp/B08CY9C7TW/ref=sr_1_5?dchild=1&keywords=laptop&qid=1608203573&refinements=p_n_feature_thirteen_browse-bin%3A12598163031%7C16757432031&rnid=12598141031&s=computers&sr=1-5',\n",
       " 'https://www.amazon.in/Lenovo-ThinkPad-Gen14-inch-Microsoft-20RAS0AM00/dp/B08PD1HM1Q/ref=sr_1_6?dchild=1&keywords=laptop&qid=1608203573&refinements=p_n_feature_thirteen_browse-bin%3A12598163031%7C16757432031&rnid=12598141031&s=computers&sr=1-6',\n",
       " 'https://www.amazon.in/ASUS-i9-10980HK-Touchscreen-Celestial-UX581LV-H2035T/dp/B08CHDLVT1/ref=sr_1_7?dchild=1&keywords=laptop&qid=1608203573&refinements=p_n_feature_thirteen_browse-bin%3A12598163031%7C16757432031&rnid=12598141031&s=computers&sr=1-7',\n",
       " 'https://www.amazon.in/Lenovo-ThinkPad-Performance-Integrated-Graphics/dp/B08NPZNDCG/ref=sr_1_8?dchild=1&keywords=laptop&qid=1608203573&refinements=p_n_feature_thirteen_browse-bin%3A12598163031%7C16757432031&rnid=12598141031&s=computers&sr=1-8',\n",
       " 'https://www.amazon.in/ASUS-ZenBook-i7-1165G7-Graphics-UX425EA-BM701TS/dp/B08M4SWRR5/ref=sr_1_9?dchild=1&keywords=laptop&qid=1608203573&refinements=p_n_feature_thirteen_browse-bin%3A12598163031%7C16757432031&rnid=12598141031&s=computers&sr=1-9',\n",
       " 'https://www.amazon.in/Renewed-Dell-Inspiron-Laptop-i3-7th/dp/B08L56BF77/ref=sr_1_10?dchild=1&keywords=laptop&qid=1608203573&refinements=p_n_feature_thirteen_browse-bin%3A12598163031%7C16757432031&rnid=12598141031&s=computers&sr=1-10',\n",
       " 'https://www.amazon.in/Lenovo-ThinkPad-Performance-Integrated-Graphics/dp/B08NQ21DFP/ref=sr_1_11?dchild=1&keywords=laptop&qid=1608203573&refinements=p_n_feature_thirteen_browse-bin%3A12598163031%7C16757432031&rnid=12598141031&s=computers&sr=1-11',\n",
       " 'https://www.amazon.in/HP-Pavilion-Touchscreen-i7-10510U-14-dh1180tu/dp/B08GD8LQTY/ref=sr_1_12?dchild=1&keywords=laptop&qid=1608203573&refinements=p_n_feature_thirteen_browse-bin%3A12598163031%7C16757432031&rnid=12598141031&s=computers&sr=1-12',\n",
       " 'https://www.amazon.in/HP-Laptop-i7-1065G7-Natural-14s-DR1010TU/dp/B08H2V92WV/ref=sr_1_13?dchild=1&keywords=laptop&qid=1608203573&refinements=p_n_feature_thirteen_browse-bin%3A12598163031%7C16757432031&rnid=12598141031&s=computers&sr=1-13',\n",
       " 'https://www.amazon.in/ASUS-i7-1165G7-13-3-inch-Graphics-UX371EA-HL701TS/dp/B08P63QH9F/ref=sr_1_14?dchild=1&keywords=laptop&qid=1608203573&refinements=p_n_feature_thirteen_browse-bin%3A12598163031%7C16757432031&rnid=12598141031&s=computers&sr=1-14',\n",
       " 'https://www.amazon.in/gp/slredirect/picassoRedirect.html/ref=pa_sp_mtf_computers_sr_pg1_1?ie=UTF8&adId=A0411588IZUKM7OXR8BA&url=%2FASUS-i9-10980HK-Touchscreen-Celestial-UX581LV-H2035T%2Fdp%2FB08CHDLVT1%2Fref%3Dsr_1_15_sspa%3Fdchild%3D1%26keywords%3Dlaptop%26qid%3D1608203573%26refinements%3Dp_n_feature_thirteen_browse-bin%253A12598163031%257C16757432031%26rnid%3D12598141031%26s%3Dcomputers%26sr%3D1-15-spons%26psc%3D1&qualifier=1608203604&id=926341093836774&widgetName=sp_mtf',\n",
       " 'https://www.amazon.in/gp/slredirect/picassoRedirect.html/ref=pa_sp_mtf_computers_sr_pg1_1?ie=UTF8&adId=A0410752MFC9XAIIIQ8V&url=%2FASUS-ZenBook-i7-1165G7-Graphics-UX425EA-BM701TS%2Fdp%2FB08M4SWRR5%2Fref%3Dsr_1_16_sspa%3Fdchild%3D1%26keywords%3Dlaptop%26qid%3D1608203573%26refinements%3Dp_n_feature_thirteen_browse-bin%253A12598163031%257C16757432031%26rnid%3D12598141031%26s%3Dcomputers%26sr%3D1-16-spons%26psc%3D1&qualifier=1608203604&id=926341093836774&widgetName=sp_mtf',\n",
       " 'https://www.amazon.in/Asus-VivoBook-Gaming-Core-10th/dp/B08PSFHQL6/ref=sr_1_17?dchild=1&keywords=laptop&qid=1608203573&refinements=p_n_feature_thirteen_browse-bin%3A12598163031%7C16757432031&rnid=12598141031&s=computers&sr=1-17',\n",
       " 'https://www.amazon.in/MSI-Leopard-i7-9750H-Windows-9SCXK-076IN/dp/B08GXWVW4K/ref=sr_1_18?dchild=1&keywords=laptop&qid=1608203573&refinements=p_n_feature_thirteen_browse-bin%3A12598163031%7C16757432031&rnid=12598141031&s=computers&sr=1-18',\n",
       " 'https://www.amazon.in/Asus-VivoBook-S14-Core-S430FN-EB059T/dp/B08PRFGYWW/ref=sr_1_19?dchild=1&keywords=laptop&qid=1608203573&refinements=p_n_feature_thirteen_browse-bin%3A12598163031%7C16757432031&rnid=12598141031&s=computers&sr=1-19',\n",
       " 'https://www.amazon.in/Lenovo-IdeaPad-15-6-inch-Graphics-81Y400VAIN/dp/B08PV48PYW/ref=sr_1_20?dchild=1&keywords=laptop&qid=1608203573&refinements=p_n_feature_thirteen_browse-bin%3A12598163031%7C16757432031&rnid=12598141031&s=computers&sr=1-20',\n",
       " 'https://www.amazon.in/Lenovo-ThinkPad-Performance-Cardreader-Integrated/dp/B08NPXBSLN/ref=sr_1_21?dchild=1&keywords=laptop&qid=1608203573&refinements=p_n_feature_thirteen_browse-bin%3A12598163031%7C16757432031&rnid=12598141031&s=computers&sr=1-21',\n",
       " 'https://www.amazon.in/ASUS-i7-1165G7-15-6-inch-Integrated-X513EA-EJ733TS/dp/B08M4QZBDT/ref=sr_1_22?dchild=1&keywords=laptop&qid=1608203573&refinements=p_n_feature_thirteen_browse-bin%3A12598163031%7C16757432031&rnid=12598141031&s=computers&sr=1-22',\n",
       " 'https://www.amazon.in/Lenovo-Legion-Gaming-Windows-82AW005SIN/dp/B08CQ21154/ref=sr_1_23?dchild=1&keywords=laptop&qid=1608203573&refinements=p_n_feature_thirteen_browse-bin%3A12598163031%7C16757432031&rnid=12598141031&s=computers&sr=1-23',\n",
       " 'https://www.amazon.in/Renewed-HP-EliteBook-Laptop-WEBCAM/dp/B08DYF24K2/ref=sr_1_24?dchild=1&keywords=laptop&qid=1608203573&refinements=p_n_feature_thirteen_browse-bin%3A12598163031%7C16757432031&rnid=12598141031&s=computers&sr=1-24',\n",
       " 'https://www.amazon.in/Lenovo-ThinkPad-1920x1080-Professional-20Q0S1ET00/dp/B08HMVN7NQ/ref=sr_1_25?dchild=1&keywords=laptop&qid=1608203573&refinements=p_n_feature_thirteen_browse-bin%3A12598163031%7C16757432031&rnid=12598141031&s=computers&sr=1-25',\n",
       " 'https://www.amazon.in/Lenovo-ThinkPad-14-inch-Graphics-20S0S1MC00/dp/B08PD2LPXF/ref=sr_1_26?dchild=1&keywords=laptop&qid=1608203573&refinements=p_n_feature_thirteen_browse-bin%3A12598163031%7C16757432031&rnid=12598141031&s=computers&sr=1-26',\n",
       " 'https://www.amazon.in/Dell-Gaming15-6-inch-i7-10750H-NVIDIA1650-D560123WIN9BE/dp/B08BZR715Y/ref=sr_1_27?dchild=1&keywords=laptop&qid=1608203573&refinements=p_n_feature_thirteen_browse-bin%3A12598163031%7C16757432031&rnid=12598141031&s=computers&sr=1-27',\n",
       " 'https://www.amazon.in/ASUS-i7-10870H-GTX-1650-Ti-Graphics-FX566LI-HN132T/dp/B08PFFBQ9L/ref=sr_1_28?dchild=1&keywords=laptop&qid=1608203573&refinements=p_n_feature_thirteen_browse-bin%3A12598163031%7C16757432031&rnid=12598141031&s=computers&sr=1-28']"
      ]
     },
     "execution_count": 11,
     "metadata": {},
     "output_type": "execute_result"
    }
   ],
   "source": [
    "urls"
   ]
  },
  {
   "cell_type": "code",
   "execution_count": 12,
   "metadata": {},
   "outputs": [
    {
     "data": {
      "text/plain": [
       "28"
      ]
     },
     "execution_count": 12,
     "metadata": {},
     "output_type": "execute_result"
    }
   ],
   "source": [
    "len(urls)"
   ]
  },
  {
   "cell_type": "code",
   "execution_count": 13,
   "metadata": {},
   "outputs": [],
   "source": [
    "from selenium.common.exceptions import NoSuchElementException     "
   ]
  },
  {
   "cell_type": "code",
   "execution_count": 14,
   "metadata": {},
   "outputs": [],
   "source": [
    "#loop to scrap required details from each laptop page\n",
    "for url in urls:\n",
    "    driver.get(url)\n",
    "    soup = BeautifulSoup(driver.page_source, 'html.parser')\n",
    "    t = soup.find('span',attrs={'id':'productTitle'})\n",
    "    if t is not None:\n",
    "        title.append(t.text.replace('\\n',''))\n",
    "    else:\n",
    "        title.append('-')\n",
    "    p = soup.find('span', attrs = {'id':'priceblock_ourprice'})\n",
    "    if p is not None:\n",
    "        price.append(p.text.replace('\\n',''))\n",
    "    else:\n",
    "        price.append('-')\n",
    "    try:\n",
    "        r=soup.find('span', attrs = {'id':'acrCustomerReviewText'})\n",
    "        if r is not None:\n",
    "            rating.append(r.text.replace('\\n',''))\n",
    "        else:\n",
    "            rating.append('-')\n",
    "    except NoSuchElementException:\n",
    "        rating.append('no rating present')\n",
    "        \n",
    "        \n",
    "        "
   ]
  },
  {
   "cell_type": "code",
   "execution_count": 15,
   "metadata": {},
   "outputs": [],
   "source": [
    "import pandas as pd\n",
    "laptop=pd.DataFrame({})\n",
    "laptop['title']=title[:10]\n",
    "laptop['price']=price[:10]\n",
    "laptop['rating']=rating[:10]"
   ]
  },
  {
   "cell_type": "code",
   "execution_count": 16,
   "metadata": {},
   "outputs": [
    {
     "data": {
      "text/html": [
       "<div>\n",
       "<style scoped>\n",
       "    .dataframe tbody tr th:only-of-type {\n",
       "        vertical-align: middle;\n",
       "    }\n",
       "\n",
       "    .dataframe tbody tr th {\n",
       "        vertical-align: top;\n",
       "    }\n",
       "\n",
       "    .dataframe thead th {\n",
       "        text-align: right;\n",
       "    }\n",
       "</style>\n",
       "<table border=\"1\" class=\"dataframe\">\n",
       "  <thead>\n",
       "    <tr style=\"text-align: right;\">\n",
       "      <th></th>\n",
       "      <th>title</th>\n",
       "      <th>price</th>\n",
       "      <th>rating</th>\n",
       "    </tr>\n",
       "  </thead>\n",
       "  <tbody>\n",
       "    <tr>\n",
       "      <th>0</th>\n",
       "      <td>Lenovo Yoga S740 Intel Core i7 10th Gen 14 inc...</td>\n",
       "      <td>₹ 1,22,000.00</td>\n",
       "      <td>7 ratings</td>\n",
       "    </tr>\n",
       "    <tr>\n",
       "      <th>1</th>\n",
       "      <td>HP Omen 10th Gen Intel Core i7 Processor 15.6-...</td>\n",
       "      <td>₹ 1,23,990.00</td>\n",
       "      <td>21 ratings</td>\n",
       "    </tr>\n",
       "    <tr>\n",
       "      <th>2</th>\n",
       "      <td>Asus ROG Strix G15 Core i7 10th Gen - (8 GB/51...</td>\n",
       "      <td>₹ 84,990.00</td>\n",
       "      <td>-</td>\n",
       "    </tr>\n",
       "    <tr>\n",
       "      <th>3</th>\n",
       "      <td>HP Pavilion x360 Core i7 8th Gen 14-inch Touch...</td>\n",
       "      <td>-</td>\n",
       "      <td>271 ratings</td>\n",
       "    </tr>\n",
       "    <tr>\n",
       "      <th>4</th>\n",
       "      <td>ASUS TUF Gaming F15 Laptop 15.6\" FHD Intel Cor...</td>\n",
       "      <td>₹ 73,990.00</td>\n",
       "      <td>16 ratings</td>\n",
       "    </tr>\n",
       "    <tr>\n",
       "      <th>5</th>\n",
       "      <td>Lenovo ThinkPad E14 Intel Core i7 10th Gen14-i...</td>\n",
       "      <td>₹ 84,990.00</td>\n",
       "      <td>-</td>\n",
       "    </tr>\n",
       "    <tr>\n",
       "      <th>6</th>\n",
       "      <td>ASUS ZenBook Pro Duo Intel Core i9-10980HK 10t...</td>\n",
       "      <td>₹ 2,69,294.00</td>\n",
       "      <td>2 ratings</td>\n",
       "    </tr>\n",
       "    <tr>\n",
       "      <th>7</th>\n",
       "      <td>(Renewed) Lenovo ThinkPad High Performance 12....</td>\n",
       "      <td>₹ 36,699.00</td>\n",
       "      <td>11 ratings</td>\n",
       "    </tr>\n",
       "    <tr>\n",
       "      <th>8</th>\n",
       "      <td>ASUS ZenBook 14 (2020) Intel Core i7-1165G7 11...</td>\n",
       "      <td>₹ 95,890.00</td>\n",
       "      <td>8 ratings</td>\n",
       "    </tr>\n",
       "    <tr>\n",
       "      <th>9</th>\n",
       "      <td>(Renewed) Dell Inspiron 3567 Laptop Core i3-7t...</td>\n",
       "      <td>₹ 29,990.00</td>\n",
       "      <td>-</td>\n",
       "    </tr>\n",
       "  </tbody>\n",
       "</table>\n",
       "</div>"
      ],
      "text/plain": [
       "                                               title          price  \\\n",
       "0  Lenovo Yoga S740 Intel Core i7 10th Gen 14 inc...  ₹ 1,22,000.00   \n",
       "1  HP Omen 10th Gen Intel Core i7 Processor 15.6-...  ₹ 1,23,990.00   \n",
       "2  Asus ROG Strix G15 Core i7 10th Gen - (8 GB/51...    ₹ 84,990.00   \n",
       "3  HP Pavilion x360 Core i7 8th Gen 14-inch Touch...              -   \n",
       "4  ASUS TUF Gaming F15 Laptop 15.6\" FHD Intel Cor...    ₹ 73,990.00   \n",
       "5  Lenovo ThinkPad E14 Intel Core i7 10th Gen14-i...    ₹ 84,990.00   \n",
       "6  ASUS ZenBook Pro Duo Intel Core i9-10980HK 10t...  ₹ 2,69,294.00   \n",
       "7  (Renewed) Lenovo ThinkPad High Performance 12....    ₹ 36,699.00   \n",
       "8  ASUS ZenBook 14 (2020) Intel Core i7-1165G7 11...    ₹ 95,890.00   \n",
       "9  (Renewed) Dell Inspiron 3567 Laptop Core i3-7t...    ₹ 29,990.00   \n",
       "\n",
       "        rating  \n",
       "0    7 ratings  \n",
       "1   21 ratings  \n",
       "2            -  \n",
       "3  271 ratings  \n",
       "4   16 ratings  \n",
       "5            -  \n",
       "6    2 ratings  \n",
       "7   11 ratings  \n",
       "8    8 ratings  \n",
       "9            -  "
      ]
     },
     "execution_count": 16,
     "metadata": {},
     "output_type": "execute_result"
    }
   ],
   "source": [
    "laptop"
   ]
  },
  {
   "cell_type": "code",
   "execution_count": null,
   "metadata": {},
   "outputs": [],
   "source": []
  }
 ],
 "metadata": {
  "kernelspec": {
   "display_name": "Python 3",
   "language": "python",
   "name": "python3"
  },
  "language_info": {
   "codemirror_mode": {
    "name": "ipython",
    "version": 3
   },
   "file_extension": ".py",
   "mimetype": "text/x-python",
   "name": "python",
   "nbconvert_exporter": "python",
   "pygments_lexer": "ipython3",
   "version": "3.8.3"
  }
 },
 "nbformat": 4,
 "nbformat_minor": 4
}
